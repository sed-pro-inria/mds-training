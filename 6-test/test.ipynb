{
 "metadata": {
  "name": "",
  "signature": "sha256:7b588ed52951636b8b47467a807fbd8ce8d6a14de21d0b1957b576a375998996"
 },
 "nbformat": 3,
 "nbformat_minor": 0,
 "worksheets": [
  {
   "cells": [
    {
     "cell_type": "heading",
     "level": 1,
     "metadata": {},
     "source": [
      "Software testing"
     ]
    },
    {
     "cell_type": "markdown",
     "metadata": {},
     "source": [
      "<img src=\"images/captcha.png\">"
     ]
    },
    {
     "cell_type": "heading",
     "level": 2,
     "metadata": {},
     "source": [
      "What is a test?"
     ]
    },
    {
     "cell_type": "markdown",
     "metadata": {},
     "source": [
      "A test is the **specification of a usage** of your project, your program or a subset of the\n",
      "functions of your program, together **with the expected result**."
     ]
    },
    {
     "cell_type": "heading",
     "level": 3,
     "metadata": {},
     "source": [
      "hello.c"
     ]
    },
    {
     "cell_type": "code",
     "collapsed": false,
     "input": [
      "%%bash\n",
      "cat >hello.c <<EOF\n",
      "#include <stdlib.h>\n",
      "#include <stdio.h>\n",
      "\n",
      "int main()\n",
      "{\n",
      "    printf(\"Hell world!\");\n",
      "    return EXIT_SUCCESS;\n",
      "}\n",
      "EOF"
     ],
     "language": "python",
     "metadata": {},
     "outputs": [],
     "prompt_number": 66
    },
    {
     "cell_type": "code",
     "collapsed": false,
     "input": [
      "%%bash\n",
      "gcc -o hello hello.c"
     ],
     "language": "python",
     "metadata": {},
     "outputs": [],
     "prompt_number": 67
    },
    {
     "cell_type": "heading",
     "level": 3,
     "metadata": {},
     "source": [
      "Specification"
     ]
    },
    {
     "cell_type": "markdown",
     "metadata": {},
     "source": [
      "When `./hello` is run:\n",
      "- the message \u201c`Hello world!`\u201d is printed,\n",
      "- the program returns with a success as status code."
     ]
    },
    {
     "cell_type": "markdown",
     "metadata": {},
     "source": [
      "Ideally, this specification should be **automatizable**: a test is then a program that checks\n",
      "that the program or the function behaves consistently with the specification. \n",
      "Such a program is generally a sequence of function calls and **assertion checks** to verify the behavior of these calls.\n",
      "Automatic testing allows the program to be tested on a regular basis, for example every time the program is compiled, such that the developer is warned for **regressions** as early as possible."
     ]
    },
    {
     "cell_type": "heading",
     "level": 3,
     "metadata": {},
     "source": [
      "hello_test.sh"
     ]
    },
    {
     "cell_type": "code",
     "collapsed": false,
     "input": [
      "%%bash\n",
      "cat >hello_test.sh <<EOF\n",
      "#!/usr/bin/env bash\n",
      "\n",
      "# - the message \u201cHello world!\u201d is printed\n",
      "if ! ./hello >/dev/null; then\n",
      "   echo TEST FAILS\n",
      "   exit 1\n",
      "fi\n",
      "\n",
      "# - the program returns with a success as status code\n",
      "if [ \"`./hello`\" != \"Hello world!\" ]; then\n",
      "   echo TEST FAILS\n",
      "   exit 1\n",
      "fi\n",
      "\n",
      "echo SUCCESS\n",
      "EOF\n",
      "chmod +x hello_test.sh"
     ],
     "language": "python",
     "metadata": {},
     "outputs": [],
     "prompt_number": 68
    },
    {
     "cell_type": "code",
     "collapsed": false,
     "input": [
      "%%bash\n",
      "./hello_test.sh"
     ],
     "language": "python",
     "metadata": {},
     "outputs": [
      {
       "output_type": "stream",
       "stream": "stdout",
       "text": [
        "TEST FAILS\n"
       ]
      }
     ],
     "prompt_number": 69
    },
    {
     "cell_type": "heading",
     "level": 2,
     "metadata": {},
     "source": [
      "Reminder XP's practices"
     ]
    },
    {
     "cell_type": "markdown",
     "metadata": {},
     "source": [
      "- All code must have **unit tests**,\n",
      "- All code must **pass all unit tests before it can be released**,\n",
      "- **When a bug is found** *tests are created before the bug is addressed* (a bug is not an error in logic, it is a test that was not written),\n",
      "- **Acceptance tests are run often** and the results are published."
     ]
    },
    {
     "cell_type": "heading",
     "level": 2,
     "metadata": {},
     "source": [
      "Testing C/C++ programs and functions"
     ]
    },
    {
     "cell_type": "markdown",
     "metadata": {},
     "source": [
      "We use the **GTest framework** for writting tests. \n",
      "Using a testing framework provides facilities for **logging test reports** in a conventional form such that other tools like the continuous integration plateform can survey test progresses.\n",
      "There are many testing platforms out there, but the main components / ideas are always the same: a way to add **unit tests** to a **test suite**, a way to **assert** things and finally a way to **execute and view** results."
     ]
    },
    {
     "cell_type": "markdown",
     "metadata": {},
     "source": [
      "Let us illustrate the use of GTest with a simple function that always returns 0:"
     ]
    },
    {
     "cell_type": "code",
     "collapsed": false,
     "input": [
      "%%bash\n",
      "\n",
      "cat >zero.h <<EOF\n",
      "int zero(void);\n",
      "EOF"
     ],
     "language": "python",
     "metadata": {},
     "outputs": [],
     "prompt_number": 70
    },
    {
     "cell_type": "code",
     "collapsed": false,
     "input": [
      "%%bash\n",
      "cat >zero.cpp <<EOF\n",
      "#include \"zero.h\"\n",
      "\n",
      "int zero(void)\n",
      "{\n",
      "    return 0;\n",
      "}\n",
      "EOF"
     ],
     "language": "python",
     "metadata": {},
     "outputs": [],
     "prompt_number": 71
    },
    {
     "cell_type": "markdown",
     "metadata": {},
     "source": [
      "The test will check that `zero()` obeys to its specification, i.e. that the function returns 0. \n",
      "This check is done with the assertion `CU_ASSERT_EQUAL(zero(), 0);`.\n",
      "In CUnit, tests are organized in **test suites**. \n",
      "Each test suite is performed in a certain execution environment whose **initialization and finalization** can be customized: here `init_suite()` and `clean_suite()` are kept empty for the sole suite that we declare with `CU_add_suite()`. \n",
      "The test function `test_zero` is installed in this suite with `CU_add_test()`."
     ]
    },
    {
     "cell_type": "code",
     "collapsed": false,
     "input": [
      "%%bash\n",
      "cat >test_zero.cpp <<EOF\n",
      "#include <gtest/gtest.h>\n",
      "#include <stdlib.h>\n",
      "#include \"zero.h\"\n",
      "\n",
      "TEST(test_zero, test_zero)\n",
      "{\n",
      "    ASSERT_EQ(0, zero());\n",
      "}\n",
      "\n",
      "int main(int argc, char **argv)\n",
      "{\n",
      "    testing::InitGoogleTest(&argc, argv);\n",
      "    return RUN_ALL_TESTS();\n",
      "}\n",
      "EOF"
     ],
     "language": "python",
     "metadata": {},
     "outputs": [],
     "prompt_number": 72
    },
    {
     "cell_type": "markdown",
     "metadata": {},
     "source": [
      "- `CU_ASSERT_TRUE(e)` checks that `e` evaluates to true,\n",
      "- `CU_ASSERT(e)` is equivalent to `CU_ASSERT_TRUE(e)`,\n",
      "- `CU_ASSERT_FALSE(e)` checks that `e` evaluates to false: it is equivalent to `CU_ASSERT_TRUE(!e)`,\n",
      "- `CU_ASSERT_EQUAL(a, b)` is equivalent to `CU_ASSERT_TRUE(a == b)`."
     ]
    },
    {
     "cell_type": "code",
     "collapsed": false,
     "input": [
      "%%bash\n",
      "cat >CMakeLists.txt <<EOF\n",
      "cmake_minimum_required(VERSION 2.6)\n",
      " \n",
      "# Locate GTest\n",
      "find_package(GTest REQUIRED)\n",
      "include_directories(${GTEST_INCLUDE_DIRS})\n",
      " \n",
      "# Link runTests with what we want to test and the GTest and pthread library\n",
      "add_executable(runTests zero.cpp test_zero.cpp)\n",
      "target_link_libraries(runTests gtest ${GTEST_LIBRARIES} pthread)\n",
      "EOF"
     ],
     "language": "python",
     "metadata": {},
     "outputs": [],
     "prompt_number": 73
    },
    {
     "cell_type": "code",
     "collapsed": false,
     "input": [
      "%%bash\n",
      "cmake CMakeLists.txt\n",
      "make"
     ],
     "language": "python",
     "metadata": {},
     "outputs": [
      {
       "output_type": "stream",
       "stream": "stdout",
       "text": [
        "-- Configuring done\n",
        "-- Generating done\n",
        "-- Build files have been written to: /home/grosca/mds/6-test\n",
        "Scanning dependencies of target runTests\n",
        "[ 50%] Building CXX object CMakeFiles/runTests.dir/zero.cpp.o\n",
        "[100%] Building CXX object CMakeFiles/runTests.dir/test_zero.cpp.o\n",
        "Linking CXX executable runTests\n",
        "[100%] Built target runTests\n"
       ]
      }
     ],
     "prompt_number": 74
    },
    {
     "cell_type": "code",
     "collapsed": false,
     "input": [
      "%%bash\n",
      "./runTests"
     ],
     "language": "python",
     "metadata": {},
     "outputs": [
      {
       "output_type": "stream",
       "stream": "stdout",
       "text": [
        "[==========] Running 1 test from 1 test case.\n",
        "[----------] Global test environment set-up.\n",
        "[----------] 1 test from test_zero\n",
        "[ RUN      ] test_zero.test_zero\n",
        "[       OK ] test_zero.test_zero (0 ms)\n",
        "[----------] 1 test from test_zero (0 ms total)\n",
        "\n",
        "[----------] Global test environment tear-down\n",
        "[==========] 1 test from 1 test case ran. (0 ms total)\n",
        "[  PASSED  ] 1 test.\n"
       ]
      }
     ],
     "prompt_number": 75
    },
    {
     "cell_type": "markdown",
     "metadata": {},
     "source": [
      "Even tested isolately, some functionalities may need a context to run properly.\n",
      "\n",
      "In the following example, we consider a simple library for random number generation.\n",
      "Testing randomized algorithms typically relies on the fact that we can impose reproducibility by fixing the seed of the pseudo random number generator.\n",
      "The seed may be fixed during **suite initialization**."
     ]
    },
    {
     "cell_type": "code",
     "collapsed": false,
     "input": [
      "%%bash\n",
      "cat >random.h <<EOF\n",
      "void random_initialize(int seed);\n",
      "int random_get_int(int range);\n",
      "EOF"
     ],
     "language": "python",
     "metadata": {},
     "outputs": [],
     "prompt_number": 76
    },
    {
     "cell_type": "code",
     "collapsed": false,
     "input": [
      "%%bash\n",
      "cat >random.cpp <<EOF\n",
      "#include \"random.h\"\n",
      "#include <stdlib.h>\n",
      "\n",
      "void random_initialize(int seed)\n",
      "{\n",
      "    srandom(seed);\n",
      "}\n",
      "\n",
      "int random_get_int(int range)\n",
      "{\n",
      "    return random() % range;\n",
      "}\n",
      "EOF"
     ],
     "language": "python",
     "metadata": {},
     "outputs": [],
     "prompt_number": 77
    },
    {
     "cell_type": "code",
     "collapsed": false,
     "input": [
      "%%bash\n",
      "cat >test_random.cpp <<EOF\n",
      "#include <gtest/gtest.h>\n",
      "#include <stdlib.h>\n",
      "#include \"random.h\"\n",
      "\n",
      "class RandomTest : public ::testing::Test\n",
      "{\n",
      "protected:\n",
      "    virtual void SetUp()\n",
      "    {\n",
      "        random_initialize(5);\n",
      "    }\n",
      "\n",
      "    virtual void TearDown()\n",
      "    {\n",
      "    }\n",
      "};\n",
      "\n",
      "TEST_F(RandomTest, test_random_get_int)\n",
      "{\n",
      "    ASSERT_EQ(5, random_get_int(10));\n",
      "}\n",
      "\n",
      "int main(int argc, char **argv)\n",
      "{\n",
      "    testing::InitGoogleTest(&argc, argv);\n",
      "    return RUN_ALL_TESTS();\n",
      "}\n",
      "EOF"
     ],
     "language": "python",
     "metadata": {},
     "outputs": [],
     "prompt_number": 78
    },
    {
     "cell_type": "code",
     "collapsed": false,
     "input": [
      "%%bash\n",
      "cat >CMakeLists.txt <<EOF\n",
      "cmake_minimum_required(VERSION 2.6)\n",
      " \n",
      "# Locate GTest\n",
      "find_package(GTest REQUIRED)\n",
      "include_directories(${GTEST_INCLUDE_DIRS})\n",
      " \n",
      "# Link runTests with what we want to test and the GTest and pthread library\n",
      "add_executable(runTests random.cpp test_random.cpp)\n",
      "target_link_libraries(runTests gtest ${GTEST_LIBRARIES} pthread)\n",
      "EOF"
     ],
     "language": "python",
     "metadata": {},
     "outputs": [],
     "prompt_number": 79
    },
    {
     "cell_type": "code",
     "collapsed": false,
     "input": [
      "%%bash\n",
      "cmake CMakeLists.txt\n",
      "make"
     ],
     "language": "python",
     "metadata": {},
     "outputs": [
      {
       "output_type": "stream",
       "stream": "stdout",
       "text": [
        "-- Configuring done\n",
        "-- Generating done\n",
        "-- Build files have been written to: /home/grosca/mds/6-test\n",
        "Scanning dependencies of target runTests\n",
        "[ 50%] Building CXX object CMakeFiles/runTests.dir/random.cpp.o\n",
        "[100%] Building CXX object CMakeFiles/runTests.dir/test_random.cpp.o\n",
        "Linking CXX executable runTests\n",
        "[100%] Built target runTests\n"
       ]
      }
     ],
     "prompt_number": 80
    },
    {
     "cell_type": "code",
     "collapsed": false,
     "input": [
      "%%bash\n",
      "./runTests"
     ],
     "language": "python",
     "metadata": {},
     "outputs": [
      {
       "output_type": "stream",
       "stream": "stdout",
       "text": [
        "[==========] Running 1 test from 1 test case.\n",
        "[----------] Global test environment set-up.\n",
        "[----------] 1 test from RandomTest\n",
        "[ RUN      ] RandomTest.test_random_get_int\n",
        "[       OK ] RandomTest.test_random_get_int (0 ms)\n",
        "[----------] 1 test from RandomTest (0 ms total)\n",
        "\n",
        "[----------] Global test environment tear-down\n",
        "[==========] 1 test from 1 test case ran. (0 ms total)\n",
        "[  PASSED  ] 1 test.\n"
       ]
      }
     ],
     "prompt_number": 81
    },
    {
     "cell_type": "heading",
     "level": 2,
     "metadata": {},
     "source": [
      "Unit testing"
     ]
    },
    {
     "cell_type": "markdown",
     "metadata": {},
     "source": [
      "A unit test is a test that **only checks a single function**.\n",
      "Writing unit tests for every functions **helps to isolate** which function is broken in case of regression.\n",
      "\n",
      "Unit tests should check in particular the behavior of the functions on the singular points of their parameters.\n",
      "\n",
      "Let us consider a function that is supposed to tell if the nth first elements of an array are sorted increasingly:"
     ]
    },
    {
     "cell_type": "code",
     "collapsed": false,
     "input": [
      "%%bash\n",
      "cat >sorted.h <<EOF\n",
      "#include <stdbool.h>\n",
      "bool check_nth_first_elements_sorted(const int array[], unsigned int n);\n",
      "EOF"
     ],
     "language": "python",
     "metadata": {},
     "outputs": [],
     "prompt_number": 82
    },
    {
     "cell_type": "code",
     "collapsed": false,
     "input": [
      "%%bash\n",
      "cat >sorted.cpp <<EOF\n",
      "#include \"sorted.h\"\n",
      "#include \"stdio.h\"\n",
      "\n",
      "bool check_nth_first_elements_sorted(const int array[], unsigned int n)\n",
      "{\n",
      "    if (n >= 2)\n",
      "    {\n",
      "        int last = array[0];\n",
      "        for (int i = 1; i < n; i ++)\n",
      "        {\n",
      "            int current = array[i];\n",
      "            \n",
      "            if (current < last)\n",
      "            {\n",
      "                return false;\n",
      "            }\n",
      "            last = current;\n",
      "        }\n",
      "    }\n",
      "    return true;\n",
      "}\n",
      "EOF"
     ],
     "language": "python",
     "metadata": {},
     "outputs": [],
     "prompt_number": 83
    },
    {
     "cell_type": "code",
     "collapsed": false,
     "input": [
      "%%bash\n",
      "cat >test_sorted.cpp <<EOF\n",
      "#include <gtest/gtest.h>\n",
      "#include <stdlib.h>\n",
      "#include \"sorted.h\"\n",
      "\n",
      "TEST(test_sorted, test_sorted)\n",
      "{\n",
      "    int array[5] = {0, 1, 3, 3, 2};\n",
      "    ASSERT_TRUE(check_nth_first_elements_sorted(array, 0));\n",
      "    ASSERT_TRUE(check_nth_first_elements_sorted(array, 1));\n",
      "    ASSERT_TRUE(check_nth_first_elements_sorted(array, 2));\n",
      "    ASSERT_TRUE(check_nth_first_elements_sorted(array, 3));\n",
      "    ASSERT_TRUE(check_nth_first_elements_sorted(array, 4));\n",
      "}\n",
      "\n",
      "TEST(test_not_sorted, test_not_sorted)\n",
      "{\n",
      "    int array[5] = {0, 1, 3, 3, 2};\n",
      "    ASSERT_FALSE(check_nth_first_elements_sorted(array, 5));\n",
      "}\n",
      "\n",
      "int main(int argc, char **argv)\n",
      "{\n",
      "    testing::InitGoogleTest(&argc, argv);\n",
      "    return RUN_ALL_TESTS();\n",
      "}\n",
      "EOF"
     ],
     "language": "python",
     "metadata": {},
     "outputs": [],
     "prompt_number": 84
    },
    {
     "cell_type": "code",
     "collapsed": false,
     "input": [
      "%%bash\n",
      "cat >CMakeLists.txt <<EOF\n",
      "cmake_minimum_required(VERSION 2.6)\n",
      " \n",
      "# Locate GTest\n",
      "find_package(GTest REQUIRED)\n",
      "include_directories(${GTEST_INCLUDE_DIRS})\n",
      " \n",
      "# Link runTests with what we want to test and the GTest and pthread library\n",
      "add_executable(runTests sorted.cpp test_sorted.cpp)\n",
      "target_link_libraries(runTests gtest ${GTEST_LIBRARIES} pthread)\n",
      "EOF"
     ],
     "language": "python",
     "metadata": {},
     "outputs": [],
     "prompt_number": 85
    },
    {
     "cell_type": "code",
     "collapsed": false,
     "input": [
      "%%bash\n",
      "cmake CMakeLists.txt\n",
      "make"
     ],
     "language": "python",
     "metadata": {},
     "outputs": [
      {
       "output_type": "stream",
       "stream": "stdout",
       "text": [
        "-- Configuring done\n",
        "-- Generating done\n",
        "-- Build files have been written to: /home/grosca/mds/6-test\n",
        "Scanning dependencies of target runTests\n",
        "[ 50%] Building CXX object CMakeFiles/runTests.dir/sorted.cpp.o\n",
        "[100%] Building CXX object CMakeFiles/runTests.dir/test_sorted.cpp.o\n",
        "Linking CXX executable runTests\n",
        "[100%] Built target runTests\n"
       ]
      }
     ],
     "prompt_number": 86
    },
    {
     "cell_type": "code",
     "collapsed": false,
     "input": [
      "%%bash\n",
      "./runTests"
     ],
     "language": "python",
     "metadata": {},
     "outputs": [
      {
       "output_type": "stream",
       "stream": "stdout",
       "text": [
        "[==========] Running 2 tests from 2 test cases.\n",
        "[----------] Global test environment set-up.\n",
        "[----------] 1 test from test_sorted\n",
        "[ RUN      ] test_sorted.test_sorted\n",
        "[       OK ] test_sorted.test_sorted (0 ms)\n",
        "[----------] 1 test from test_sorted (0 ms total)\n",
        "\n",
        "[----------] 1 test from test_not_sorted\n",
        "[ RUN      ] test_not_sorted.test_not_sorted\n",
        "[       OK ] test_not_sorted.test_not_sorted (0 ms)\n",
        "[----------] 1 test from test_not_sorted (0 ms total)\n",
        "\n",
        "[----------] Global test environment tear-down\n",
        "[==========] 2 tests from 2 test cases ran. (0 ms total)\n",
        "[  PASSED  ] 2 tests.\n"
       ]
      }
     ],
     "prompt_number": 87
    },
    {
     "cell_type": "heading",
     "level": 2,
     "metadata": {},
     "source": [
      "Functional tests"
     ]
    },
    {
     "cell_type": "markdown",
     "metadata": {},
     "source": [
      "A functional test is a test that **checks a certain sequence of function calls** that corresponds to a functionality of the project: typically, this is a sequence that can occur during the typical life cycle of the program."
     ]
    },
    {
     "cell_type": "code",
     "collapsed": false,
     "input": [
      "%%bash\n",
      "cat >counter.h <<EOF\n",
      "void reset_counter(void);\n",
      "\n",
      "void increment_counter(void);\n",
      "\n",
      "int get_counter_value(void);\n",
      "EOF"
     ],
     "language": "python",
     "metadata": {},
     "outputs": [],
     "prompt_number": 88
    },
    {
     "cell_type": "code",
     "collapsed": false,
     "input": [
      "%%bash\n",
      "cat >counter.cpp <<EOF\n",
      "#include \"counter.h\"\n",
      "\n",
      "int counter;\n",
      "\n",
      "void reset_counter(void)\n",
      "{\n",
      "    counter = 0;\n",
      "}\n",
      "\n",
      "void increment_counter(void)\n",
      "{\n",
      "    counter++;\n",
      "}\n",
      "\n",
      "int get_counter_value(void)\n",
      "{\n",
      "    return counter;\n",
      "}\n",
      "\n",
      "EOF"
     ],
     "language": "python",
     "metadata": {},
     "outputs": [],
     "prompt_number": 89
    },
    {
     "cell_type": "code",
     "collapsed": false,
     "input": [
      "%%bash\n",
      "cat >test_counter.cpp <<EOF\n",
      "#include <gtest/gtest.h>\n",
      "#include <stdlib.h>\n",
      "#include \"counter.h\"\n",
      "\n",
      "TEST(test_counter, test_counter)\n",
      "{\n",
      "    reset_counter();\n",
      "    increment_counter();\n",
      "    increment_counter();\n",
      "    increment_counter();\n",
      "    ASSERT_EQ(3, get_counter_value());\n",
      "}\n",
      "\n",
      "int main(int argc, char **argv)\n",
      "{\n",
      "    testing::InitGoogleTest(&argc, argv);\n",
      "    return RUN_ALL_TESTS();\n",
      "}\n",
      "EOF"
     ],
     "language": "python",
     "metadata": {},
     "outputs": [],
     "prompt_number": 90
    },
    {
     "cell_type": "code",
     "collapsed": false,
     "input": [
      "%%bash\n",
      "cat >CMakeLists.txt <<EOF\n",
      "cmake_minimum_required(VERSION 2.6)\n",
      " \n",
      "# Locate GTest\n",
      "find_package(GTest REQUIRED)\n",
      "include_directories(${GTEST_INCLUDE_DIRS})\n",
      " \n",
      "# Link runTests with what we want to test and the GTest and pthread library\n",
      "add_executable(runTests counter.cpp test_counter.cpp)\n",
      "target_link_libraries(runTests gtest ${GTEST_LIBRARIES} pthread)\n",
      "EOF"
     ],
     "language": "python",
     "metadata": {},
     "outputs": [],
     "prompt_number": 91
    },
    {
     "cell_type": "code",
     "collapsed": false,
     "input": [
      "%%bash\n",
      "cmake CMakeLists.txt\n",
      "make"
     ],
     "language": "python",
     "metadata": {},
     "outputs": [
      {
       "output_type": "stream",
       "stream": "stdout",
       "text": [
        "-- Configuring done\n",
        "-- Generating done\n",
        "-- Build files have been written to: /home/grosca/mds/6-test\n",
        "Scanning dependencies of target runTests\n",
        "[ 50%] Building CXX object CMakeFiles/runTests.dir/counter.cpp.o\n",
        "[100%] Building CXX object CMakeFiles/runTests.dir/test_counter.cpp.o\n",
        "Linking CXX executable runTests\n",
        "[100%] Built target runTests\n"
       ]
      }
     ],
     "prompt_number": 92
    },
    {
     "cell_type": "code",
     "collapsed": false,
     "input": [
      "%%bash\n",
      "./runTests"
     ],
     "language": "python",
     "metadata": {},
     "outputs": [
      {
       "output_type": "stream",
       "stream": "stdout",
       "text": [
        "[==========] Running 1 test from 1 test case.\n",
        "[----------] Global test environment set-up.\n",
        "[----------] 1 test from test_counter\n",
        "[ RUN      ] test_counter.test_counter\n",
        "[       OK ] test_counter.test_counter (0 ms)\n",
        "[----------] 1 test from test_counter (0 ms total)\n",
        "\n",
        "[----------] Global test environment tear-down\n",
        "[==========] 1 test from 1 test case ran. (0 ms total)\n",
        "[  PASSED  ] 1 test.\n"
       ]
      }
     ],
     "prompt_number": 93
    },
    {
     "cell_type": "markdown",
     "metadata": {},
     "source": [
      "Code coverage is the **set of execution paths** (i.e. set of occurrences of instructions in the code) that are covered by the tests. Ideally, this set should be equal to the whole program to ensure that the whole program is tested."
     ]
    },
    {
     "cell_type": "heading",
     "level": 3,
     "metadata": {},
     "source": [
      "Macros"
     ]
    },
    {
     "cell_type": "markdown",
     "metadata": {},
     "source": [
      "`CU_add_test()` and `CU_add_suite()` are functions that may fail if the CUnit environment is not properly initialized. It is a good practice to check that their result indicates a success, and to signal the error otherwise. We define a couple of macros to handle that:"
     ]
    },
    {
     "cell_type": "code",
     "collapsed": false,
     "input": [
      "#define ADD_TEST_TO_SUITE(suite, test) \\\n",
      "if ((CU_add_test(suite, #test, test) == NULL)) { \\\n",
      "    CU_cleanup_registry(); \\\n",
      "    return CU_get_error(); \\\n",
      "}\n",
      "\n",
      "#define ADD_SUITE_TO_REGISTRY(suite) \\\n",
      "suite = CU_add_suite(#suite, init_suite, clean_suite); \\\n",
      "if (suite == NULL) { \\\n",
      "  CU_cleanup_registry(); \\\n",
      "  return CU_get_error(); \\\n",
      "}"
     ],
     "language": "python",
     "metadata": {},
     "outputs": [
      {
       "ename": "SyntaxError",
       "evalue": "invalid syntax (<ipython-input-94-b2eb285c6016>, line 3)",
       "output_type": "pyerr",
       "traceback": [
        "\u001b[1;36m  File \u001b[1;32m\"<ipython-input-94-b2eb285c6016>\"\u001b[1;36m, line \u001b[1;32m3\u001b[0m\n\u001b[1;33m    CU_cleanup_registry(); \\\u001b[0m\n\u001b[1;37m                         ^\u001b[0m\n\u001b[1;31mSyntaxError\u001b[0m\u001b[1;31m:\u001b[0m invalid syntax\n"
       ]
      }
     ],
     "prompt_number": 94
    },
    {
     "cell_type": "code",
     "collapsed": false,
     "input": [
      "ADD_SUITE_TO_REGISTRY(suite);\n",
      "ADD_TEST_TO_SUITE(suite, test_counter);"
     ],
     "language": "python",
     "metadata": {},
     "outputs": [
      {
       "ename": "NameError",
       "evalue": "name 'ADD_SUITE_TO_REGISTRY' is not defined",
       "output_type": "pyerr",
       "traceback": [
        "\u001b[1;31m---------------------------------------------------------------------------\u001b[0m\n\u001b[1;31mNameError\u001b[0m                                 Traceback (most recent call last)",
        "\u001b[1;32m<ipython-input-95-c045b31bd276>\u001b[0m in \u001b[0;36m<module>\u001b[1;34m()\u001b[0m\n\u001b[1;32m----> 1\u001b[1;33m \u001b[0mADD_SUITE_TO_REGISTRY\u001b[0m\u001b[1;33m(\u001b[0m\u001b[0msuite\u001b[0m\u001b[1;33m)\u001b[0m\u001b[1;33m;\u001b[0m\u001b[1;33m\u001b[0m\u001b[0m\n\u001b[0m\u001b[0;32m      2\u001b[0m \u001b[0mADD_TEST_TO_SUITE\u001b[0m\u001b[1;33m(\u001b[0m\u001b[0msuite\u001b[0m\u001b[1;33m,\u001b[0m \u001b[0mtest_counter\u001b[0m\u001b[1;33m)\u001b[0m\u001b[1;33m;\u001b[0m\u001b[1;33m\u001b[0m\u001b[0m\n",
        "\u001b[1;31mNameError\u001b[0m: name 'ADD_SUITE_TO_REGISTRY' is not defined"
       ]
      }
     ],
     "prompt_number": 95
    },
    {
     "cell_type": "heading",
     "level": 3,
     "metadata": {},
     "source": [
      "Test Driven Development"
     ]
    },
    {
     "cell_type": "markdown",
     "metadata": {},
     "source": [
      "The Test Driven Development methodology relies on these three principles:\n",
      "- **test first**, implement after (and every test should initially fail),\n",
      "- **every functionality** should be tested,\n",
      "- the development flows over **short iterations of the cycle: test, code, refactor**.\n",
      "![tdd whell](images/tdd.jpg)"
     ]
    }
   ],
   "metadata": {}
  }
 ]
}