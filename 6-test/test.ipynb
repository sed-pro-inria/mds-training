{
 "metadata": {
  "name": "",
  "signature": "sha256:a0b02297980a940a4d884b464fcaa772a338b3a9392e4bccff87a942fff7d0cb"
 },
 "nbformat": 3,
 "nbformat_minor": 0,
 "worksheets": [
  {
   "cells": [
    {
     "cell_type": "heading",
     "level": 1,
     "metadata": {},
     "source": [
      "Software testing"
     ]
    },
    {
     "cell_type": "markdown",
     "metadata": {},
     "source": [
      "<img src=\"images/captcha.png\">"
     ]
    },
    {
     "cell_type": "heading",
     "level": 2,
     "metadata": {},
     "source": [
      "What is a test?"
     ]
    },
    {
     "cell_type": "markdown",
     "metadata": {},
     "source": [
      "A test is the **specification of a usage** of your project, your program or a subset of the\n",
      "functions of your program, together **with the expected result**."
     ]
    },
    {
     "cell_type": "heading",
     "level": 3,
     "metadata": {},
     "source": [
      "hello.c"
     ]
    },
    {
     "cell_type": "code",
     "collapsed": false,
     "input": [
      "%%bash\n",
      "cat > hello.c << EOF\n",
      "#include <stdlib.h>\n",
      "#include <stdio.h>\n",
      "\n",
      "int main()\n",
      "{\n",
      "    printf(\"Hell world!\");\n",
      "    return EXIT_SUCCESS;\n",
      "}\n",
      "EOF"
     ],
     "language": "python",
     "metadata": {},
     "outputs": [],
     "prompt_number": 32
    },
    {
     "cell_type": "code",
     "collapsed": false,
     "input": [
      "%%bash\n",
      "gcc -o hello hello.c"
     ],
     "language": "python",
     "metadata": {},
     "outputs": [],
     "prompt_number": 33
    },
    {
     "cell_type": "heading",
     "level": 3,
     "metadata": {},
     "source": [
      "Specification"
     ]
    },
    {
     "cell_type": "markdown",
     "metadata": {},
     "source": [
      "When `./hello` is run:\n",
      "- the message \u201c`Hello world!`\u201d is printed,\n",
      "- the program returns with a success as status code."
     ]
    },
    {
     "cell_type": "markdown",
     "metadata": {},
     "source": [
      "Ideally, this specification should be **automatizable**: a test is then a program that checks\n",
      "that the program or the function behaves consistently with the specification. \n",
      "Such a program is generally a sequence of function calls and **assertion checks** to verify the behavior of these calls.\n",
      "Automatic testing allows the program to be tested on a regular basis, for example every time the program is compiled, such that the developer is warned for **regressions** as early as possible."
     ]
    },
    {
     "cell_type": "heading",
     "level": 3,
     "metadata": {},
     "source": [
      "hello_test.sh"
     ]
    },
    {
     "cell_type": "code",
     "collapsed": false,
     "input": [
      "%%bash\n",
      "cat > hello_test.sh << EOF\n",
      "#!/usr/bin/env bash\n",
      "\n",
      "# - the message \u201cHello world!\u201d is printed\n",
      "if ! ./hello >/dev/null; then\n",
      "   echo TEST FAILS\n",
      "   exit 1\n",
      "fi\n",
      "\n",
      "# - the program returns with a success as status code\n",
      "if [ \"`./hello`\" != \"Hello world!\" ]; then\n",
      "   echo TEST FAILS\n",
      "   exit 1\n",
      "fi\n",
      "\n",
      "echo SUCCESS\n",
      "EOF\n",
      "chmod +x hello_test.sh"
     ],
     "language": "python",
     "metadata": {},
     "outputs": [],
     "prompt_number": 34
    },
    {
     "cell_type": "code",
     "collapsed": false,
     "input": [
      "%%bash\n",
      "./hello_test.sh"
     ],
     "language": "python",
     "metadata": {},
     "outputs": [
      {
       "output_type": "stream",
       "stream": "stdout",
       "text": [
        "TEST FAILS\n"
       ]
      }
     ],
     "prompt_number": 35
    },
    {
     "cell_type": "heading",
     "level": 2,
     "metadata": {},
     "source": [
      "Reminder XP's practices"
     ]
    },
    {
     "cell_type": "markdown",
     "metadata": {},
     "source": [
      "- All code must have **unit tests**,\n",
      "- All code must **pass all unit tests before it can be released**,\n",
      "- **When a bug is found** *tests are created before the bug is addressed* (a bug is not an error in logic, it is a test that was not written),\n",
      "- **Acceptance tests are run often** and the results are published."
     ]
    },
    {
     "cell_type": "heading",
     "level": 2,
     "metadata": {},
     "source": [
      "Testing C/C++ programs and functions"
     ]
    },
    {
     "cell_type": "markdown",
     "metadata": {},
     "source": [
      "We use the **GTest framework** for writting tests. \n",
      "Using a testing framework provides facilities for **logging test reports** in a conventional form such that other tools like the continuous integration plateform can survey test progresses.\n",
      "\n",
      "There are many testing platforms out there, but all of them have the same core components / ideas:\n",
      "- a way to add / define **unit tests** and **test suites**\n",
      "- a way to **assert** things: assertEquals(expected, actual)\n",
      "- a way to **execute and view** results."
     ]
    },
    {
     "cell_type": "markdown",
     "metadata": {},
     "source": [
      "Let us illustrate the use of GTest with a simple function that always returns 0:"
     ]
    },
    {
     "cell_type": "code",
     "collapsed": false,
     "input": [
      "%%bash\n",
      "cat > zero.h << EOF\n",
      "int zero(void);\n",
      "EOF"
     ],
     "language": "python",
     "metadata": {},
     "outputs": [],
     "prompt_number": 5
    },
    {
     "cell_type": "code",
     "collapsed": false,
     "input": [
      "%%bash\n",
      "cat > zero.cpp << EOF\n",
      "#include \"zero.h\"\n",
      "\n",
      "int zero(void)\n",
      "{\n",
      "    return 0;\n",
      "}\n",
      "EOF"
     ],
     "language": "python",
     "metadata": {},
     "outputs": [],
     "prompt_number": 6
    },
    {
     "cell_type": "markdown",
     "metadata": {},
     "source": [
      "The test will check that `zero()` obeys to its specification, i.e. that the function returns 0. \n",
      "This check is done with the assertion `ASSERT_EQ(0, zero());`.\n",
      "In GTest, tests are organized in **test suites**. \n",
      "Each test suite is performed in a certain execution environment whose **initialization and finalization** can be customized using **test fixtures**. This can be achieved implementing the `::testing::Test` base class and implementing the `SetUp` and `TearDown` functions. \n",
      "The test function `test_zero` is installed in this suite with `TEST` macro."
     ]
    },
    {
     "cell_type": "code",
     "collapsed": false,
     "input": [
      "%%bash\n",
      "cat > test_zero.cpp << EOF\n",
      "#include <gtest/gtest.h>\n",
      "#include <stdlib.h>\n",
      "#include \"zero.h\"\n",
      "\n",
      "TEST(zero, test_zero)\n",
      "{\n",
      "    ASSERT_EQ(0, zero());\n",
      "}\n",
      "\n",
      "int main(int argc, char **argv)\n",
      "{\n",
      "    testing::InitGoogleTest(&argc, argv);\n",
      "    return RUN_ALL_TESTS();\n",
      "}\n",
      "EOF"
     ],
     "language": "python",
     "metadata": {},
     "outputs": [],
     "prompt_number": 7
    },
    {
     "cell_type": "markdown",
     "metadata": {},
     "source": [
      "- `ASSERT_TRUE(e)` checks that `e` evaluates to true,\n",
      "- `ASSERT_FALSE(e)` checks that `e` evaluates to false: it is equivalent to `ASSERT_TRUE(!e)`,\n",
      "- `ASSERT_EQ(a, b)` is equivalent to `ASSERT_TRUE(a == b)`."
     ]
    },
    {
     "cell_type": "code",
     "collapsed": false,
     "input": [
      "%%bash\n",
      "cat > CMakeLists.txt << EOF\n",
      "cmake_minimum_required(VERSION 2.6)\n",
      " \n",
      "# Locate GTest\n",
      "find_package(GTest REQUIRED)\n",
      "include_directories(${GTEST_INCLUDE_DIRS})\n",
      " \n",
      "# Link runTests with what we want to test and the GTest and pthread library\n",
      "add_executable(runTests zero.cpp test_zero.cpp)\n",
      "target_link_libraries(runTests gtest ${GTEST_LIBRARIES} pthread)\n",
      "EOF"
     ],
     "language": "python",
     "metadata": {},
     "outputs": [],
     "prompt_number": 8
    },
    {
     "cell_type": "code",
     "collapsed": false,
     "input": [
      "%%bash\n",
      "cmake CMakeLists.txt\n",
      "make"
     ],
     "language": "python",
     "metadata": {},
     "outputs": [
      {
       "output_type": "stream",
       "stream": "stdout",
       "text": [
        "-- Configuring done\n",
        "-- Generating done\n",
        "-- Build files have been written to: /home/grosca/mds/6-test\n",
        "Scanning dependencies of target runTests\n",
        "[ 50%] Building CXX object CMakeFiles/runTests.dir/zero.cpp.o\n",
        "[100%] Building CXX object CMakeFiles/runTests.dir/test_zero.cpp.o\n",
        "Linking CXX executable runTests\n",
        "[100%] Built target runTests\n"
       ]
      }
     ],
     "prompt_number": 9
    },
    {
     "cell_type": "code",
     "collapsed": false,
     "input": [
      "%%bash\n",
      "./runTests"
     ],
     "language": "python",
     "metadata": {},
     "outputs": [
      {
       "output_type": "stream",
       "stream": "stdout",
       "text": [
        "[==========] Running 1 test from 1 test case.\n",
        "[----------] Global test environment set-up.\n",
        "[----------] 1 test from test_zero\n",
        "[ RUN      ] test_zero.test_zero\n",
        "[       OK ] test_zero.test_zero (0 ms)\n",
        "[----------] 1 test from test_zero (0 ms total)\n",
        "\n",
        "[----------] Global test environment tear-down\n",
        "[==========] 1 test from 1 test case ran. (1 ms total)\n",
        "[  PASSED  ] 1 test.\n"
       ]
      }
     ],
     "prompt_number": 11
    },
    {
     "cell_type": "markdown",
     "metadata": {},
     "source": [
      "Even tested isolately, some functionalities may need a context to run properly.\n",
      "\n",
      "In the following example, we consider a simple library for random number generation.\n",
      "Testing randomized algorithms typically relies on the fact that we can impose reproducibility by fixing the seed of the pseudo random number generator.\n",
      "The seed may be fixed during **suite initialization**."
     ]
    },
    {
     "cell_type": "code",
     "collapsed": false,
     "input": [
      "%%bash\n",
      "cat > random.h << EOF\n",
      "void random_initialize(int seed);\n",
      "int random_get_int(int range);\n",
      "EOF"
     ],
     "language": "python",
     "metadata": {},
     "outputs": [],
     "prompt_number": 12
    },
    {
     "cell_type": "code",
     "collapsed": false,
     "input": [
      "%%bash\n",
      "cat > random.cpp << EOF\n",
      "#include \"random.h\"\n",
      "#include <stdlib.h>\n",
      "\n",
      "void random_initialize(int seed)\n",
      "{\n",
      "    srandom(seed);\n",
      "}\n",
      "\n",
      "int random_get_int(int range)\n",
      "{\n",
      "    return random() % range;\n",
      "}\n",
      "EOF"
     ],
     "language": "python",
     "metadata": {},
     "outputs": [],
     "prompt_number": 13
    },
    {
     "cell_type": "code",
     "collapsed": false,
     "input": [
      "%%bash\n",
      "cat > test_random.cpp << EOF\n",
      "#include <gtest/gtest.h>\n",
      "#include <stdlib.h>\n",
      "#include \"random.h\"\n",
      "\n",
      "class RandomTest : public ::testing::Test\n",
      "{\n",
      "protected:\n",
      "    virtual void SetUp()\n",
      "    {\n",
      "        random_initialize(5);\n",
      "    }\n",
      "\n",
      "    virtual void TearDown()\n",
      "    {\n",
      "    }\n",
      "};\n",
      "\n",
      "TEST_F(RandomTest, test_random_get_int)\n",
      "{\n",
      "    ASSERT_EQ(5, random_get_int(10));\n",
      "}\n",
      "\n",
      "int main(int argc, char **argv)\n",
      "{\n",
      "    testing::InitGoogleTest(&argc, argv);\n",
      "    return RUN_ALL_TESTS();\n",
      "}\n",
      "EOF"
     ],
     "language": "python",
     "metadata": {},
     "outputs": [],
     "prompt_number": 14
    },
    {
     "cell_type": "code",
     "collapsed": false,
     "input": [
      "%%bash\n",
      "cat > CMakeLists.txt << EOF\n",
      "cmake_minimum_required(VERSION 2.6)\n",
      " \n",
      "# Locate GTest\n",
      "find_package(GTest REQUIRED)\n",
      "include_directories(${GTEST_INCLUDE_DIRS})\n",
      " \n",
      "# Link runTests with what we want to test and the GTest and pthread library\n",
      "add_executable(runTests random.cpp test_random.cpp)\n",
      "target_link_libraries(runTests gtest ${GTEST_LIBRARIES} pthread)\n",
      "EOF"
     ],
     "language": "python",
     "metadata": {},
     "outputs": [],
     "prompt_number": 15
    },
    {
     "cell_type": "code",
     "collapsed": false,
     "input": [
      "%%bash\n",
      "cmake CMakeLists.txt\n",
      "make"
     ],
     "language": "python",
     "metadata": {},
     "outputs": [
      {
       "output_type": "stream",
       "stream": "stdout",
       "text": [
        "-- Configuring done\n",
        "-- Generating done\n",
        "-- Build files have been written to: /home/grosca/mds/6-test\n",
        "Scanning dependencies of target runTests\n",
        "[ 50%] Building CXX object CMakeFiles/runTests.dir/random.cpp.o\n",
        "[100%] Building CXX object CMakeFiles/runTests.dir/test_random.cpp.o\n",
        "Linking CXX executable runTests\n",
        "[100%] Built target runTests\n"
       ]
      }
     ],
     "prompt_number": 16
    },
    {
     "cell_type": "code",
     "collapsed": false,
     "input": [
      "%%bash\n",
      "./runTests"
     ],
     "language": "python",
     "metadata": {},
     "outputs": [
      {
       "output_type": "stream",
       "stream": "stdout",
       "text": [
        "[==========] Running 1 test from 1 test case.\n",
        "[----------] Global test environment set-up.\n",
        "[----------] 1 test from RandomTest\n",
        "[ RUN      ] RandomTest.test_random_get_int\n",
        "[       OK ] RandomTest.test_random_get_int (0 ms)\n",
        "[----------] 1 test from RandomTest (0 ms total)\n",
        "\n",
        "[----------] Global test environment tear-down\n",
        "[==========] 1 test from 1 test case ran. (0 ms total)\n",
        "[  PASSED  ] 1 test.\n"
       ]
      }
     ],
     "prompt_number": 17
    },
    {
     "cell_type": "heading",
     "level": 2,
     "metadata": {},
     "source": [
      "Unit testing"
     ]
    },
    {
     "cell_type": "markdown",
     "metadata": {},
     "source": [
      "A unit test is a test that **only checks a single function**.\n",
      "Writing unit tests for every functions **helps to isolate** which function is broken in case of regression.\n",
      "\n",
      "Unit tests should check in particular the behavior of the functions on the singular points of their parameters.\n",
      "\n",
      "Let us consider a function that is supposed to tell if the nth first elements of an array are sorted increasingly:"
     ]
    },
    {
     "cell_type": "code",
     "collapsed": false,
     "input": [
      "%%bash\n",
      "cat > sorted.h << EOF\n",
      "#include <stdbool.h>\n",
      "bool check_nth_first_elements_sorted(const int array[], unsigned int n);\n",
      "EOF"
     ],
     "language": "python",
     "metadata": {},
     "outputs": [],
     "prompt_number": 36
    },
    {
     "cell_type": "code",
     "collapsed": false,
     "input": [
      "%%bash\n",
      "cat > sorted.cpp << EOF\n",
      "#include \"sorted.h\"\n",
      "#include \"stdio.h\"\n",
      "\n",
      "bool check_nth_first_elements_sorted(const int array[], unsigned int n)\n",
      "{\n",
      "    if (n >= 2)\n",
      "    {\n",
      "        int last = array[0];\n",
      "        for (int i = 1; i < n; i ++)\n",
      "        {\n",
      "            int current = array[i];\n",
      "            \n",
      "            if (current < last)\n",
      "            {\n",
      "                return false;\n",
      "            }\n",
      "            last = current;\n",
      "        }\n",
      "    }\n",
      "    return true;\n",
      "}\n",
      "EOF"
     ],
     "language": "python",
     "metadata": {},
     "outputs": [],
     "prompt_number": 37
    },
    {
     "cell_type": "code",
     "collapsed": false,
     "input": [
      "%%bash\n",
      "cat > test_sorted.cpp << EOF\n",
      "#include <gtest/gtest.h>\n",
      "#include <stdlib.h>\n",
      "#include \"sorted.h\"\n",
      "\n",
      "TEST(sorted, test_sorted)\n",
      "{\n",
      "    int array[5] = {0, 1, 3, 3, 2};\n",
      "    ASSERT_TRUE(check_nth_first_elements_sorted(array, 0));\n",
      "    ASSERT_TRUE(check_nth_first_elements_sorted(array, 1));\n",
      "    ASSERT_TRUE(check_nth_first_elements_sorted(array, 2));\n",
      "    ASSERT_TRUE(check_nth_first_elements_sorted(array, 3));\n",
      "    ASSERT_TRUE(check_nth_first_elements_sorted(array, 4));\n",
      "}\n",
      "\n",
      "TEST(sorted, test_not_sorted)\n",
      "{\n",
      "    int array[5] = {0, 1, 3, 3, 2};\n",
      "    ASSERT_FALSE(check_nth_first_elements_sorted(array, 5));\n",
      "}\n",
      "\n",
      "int main(int argc, char **argv)\n",
      "{\n",
      "    testing::InitGoogleTest(&argc, argv);\n",
      "    return RUN_ALL_TESTS();\n",
      "}\n",
      "EOF"
     ],
     "language": "python",
     "metadata": {},
     "outputs": [],
     "prompt_number": 38
    },
    {
     "cell_type": "code",
     "collapsed": false,
     "input": [
      "%%bash\n",
      "cat > CMakeLists.txt << EOF\n",
      "cmake_minimum_required(VERSION 2.6)\n",
      " \n",
      "# Locate GTest\n",
      "find_package(GTest REQUIRED)\n",
      "include_directories(${GTEST_INCLUDE_DIRS})\n",
      " \n",
      "# Link runTests with what we want to test and the GTest and pthread library\n",
      "add_executable(runTests sorted.cpp test_sorted.cpp)\n",
      "target_link_libraries(runTests gtest ${GTEST_LIBRARIES} pthread)\n",
      "EOF"
     ],
     "language": "python",
     "metadata": {},
     "outputs": [],
     "prompt_number": 39
    },
    {
     "cell_type": "code",
     "collapsed": false,
     "input": [
      "%%bash\n",
      "cmake CMakeLists.txt\n",
      "make"
     ],
     "language": "python",
     "metadata": {},
     "outputs": [
      {
       "output_type": "stream",
       "stream": "stdout",
       "text": [
        "-- Configuring done\n",
        "-- Generating done\n",
        "-- Build files have been written to: /home/grosca/mds/6-test\n",
        "Scanning dependencies of target runTests\n",
        "[ 50%] Building CXX object CMakeFiles/runTests.dir/sorted.cpp.o\n",
        "[100%] Building CXX object CMakeFiles/runTests.dir/test_sorted.cpp.o\n",
        "Linking CXX executable runTests\n",
        "[100%] Built target runTests\n"
       ]
      }
     ],
     "prompt_number": 40
    },
    {
     "cell_type": "code",
     "collapsed": false,
     "input": [
      "%%bash\n",
      "./runTests"
     ],
     "language": "python",
     "metadata": {},
     "outputs": [
      {
       "output_type": "stream",
       "stream": "stdout",
       "text": [
        "[==========] Running 2 tests from 1 test case.\n",
        "[----------] Global test environment set-up.\n",
        "[----------] 2 tests from Sorting\n",
        "[ RUN      ] Sorting.test_sorted\n",
        "[       OK ] Sorting.test_sorted (0 ms)\n",
        "[ RUN      ] Sorting.test_not_sorted\n",
        "[       OK ] Sorting.test_not_sorted (0 ms)\n",
        "[----------] 2 tests from Sorting (0 ms total)\n",
        "\n",
        "[----------] Global test environment tear-down\n",
        "[==========] 2 tests from 1 test case ran. (0 ms total)\n",
        "[  PASSED  ] 2 tests.\n"
       ]
      }
     ],
     "prompt_number": 41
    },
    {
     "cell_type": "heading",
     "level": 2,
     "metadata": {},
     "source": [
      "Functional tests"
     ]
    },
    {
     "cell_type": "markdown",
     "metadata": {},
     "source": [
      "A functional test is a test that **checks a certain sequence of function calls** that corresponds to a functionality of the project: typically, this is a sequence that can occur during the typical life cycle of the program."
     ]
    },
    {
     "cell_type": "code",
     "collapsed": false,
     "input": [
      "%%bash\n",
      "cat > counter.h << EOF\n",
      "void reset_counter(void);\n",
      "\n",
      "void increment_counter(void);\n",
      "\n",
      "int get_counter_value(void);\n",
      "EOF"
     ],
     "language": "python",
     "metadata": {},
     "outputs": [],
     "prompt_number": 24
    },
    {
     "cell_type": "code",
     "collapsed": false,
     "input": [
      "%%bash\n",
      "cat > counter.cpp << EOF\n",
      "#include \"counter.h\"\n",
      "\n",
      "int counter;\n",
      "\n",
      "void reset_counter(void)\n",
      "{\n",
      "    counter = 0;\n",
      "}\n",
      "\n",
      "void increment_counter(void)\n",
      "{\n",
      "    counter++;\n",
      "}\n",
      "\n",
      "int get_counter_value(void)\n",
      "{\n",
      "    return counter;\n",
      "}\n",
      "\n",
      "EOF"
     ],
     "language": "python",
     "metadata": {},
     "outputs": [],
     "prompt_number": 25
    },
    {
     "cell_type": "code",
     "collapsed": false,
     "input": [
      "%%bash\n",
      "cat > test_counter.cpp << EOF\n",
      "#include <gtest/gtest.h>\n",
      "#include <stdlib.h>\n",
      "#include \"counter.h\"\n",
      "\n",
      "TEST(counter, test_counter)\n",
      "{\n",
      "    reset_counter();\n",
      "    increment_counter();\n",
      "    increment_counter();\n",
      "    increment_counter();\n",
      "    ASSERT_EQ(3, get_counter_value());\n",
      "}\n",
      "\n",
      "int main(int argc, char **argv)\n",
      "{\n",
      "    testing::InitGoogleTest(&argc, argv);\n",
      "    return RUN_ALL_TESTS();\n",
      "}\n",
      "EOF"
     ],
     "language": "python",
     "metadata": {},
     "outputs": [],
     "prompt_number": 26
    },
    {
     "cell_type": "code",
     "collapsed": false,
     "input": [
      "%%bash\n",
      "cat > CMakeLists.txt << EOF\n",
      "cmake_minimum_required(VERSION 2.6)\n",
      " \n",
      "# Locate GTest\n",
      "find_package(GTest REQUIRED)\n",
      "include_directories(${GTEST_INCLUDE_DIRS})\n",
      " \n",
      "# Link runTests with what we want to test and the GTest and pthread library\n",
      "add_executable(runTests counter.cpp test_counter.cpp)\n",
      "target_link_libraries(runTests gtest ${GTEST_LIBRARIES} pthread)\n",
      "EOF"
     ],
     "language": "python",
     "metadata": {},
     "outputs": [],
     "prompt_number": 27
    },
    {
     "cell_type": "code",
     "collapsed": false,
     "input": [
      "%%bash\n",
      "cmake CMakeLists.txt\n",
      "make"
     ],
     "language": "python",
     "metadata": {},
     "outputs": [
      {
       "output_type": "stream",
       "stream": "stdout",
       "text": [
        "-- Configuring done\n",
        "-- Generating done\n",
        "-- Build files have been written to: /home/grosca/mds/6-test\n",
        "Scanning dependencies of target runTests\n",
        "[ 50%] Building CXX object CMakeFiles/runTests.dir/counter.cpp.o\n",
        "[100%] Building CXX object CMakeFiles/runTests.dir/test_counter.cpp.o\n",
        "Linking CXX executable runTests\n",
        "[100%] Built target runTests\n"
       ]
      }
     ],
     "prompt_number": 28
    },
    {
     "cell_type": "code",
     "collapsed": false,
     "input": [
      "%%bash\n",
      "./runTests"
     ],
     "language": "python",
     "metadata": {},
     "outputs": [
      {
       "output_type": "stream",
       "stream": "stdout",
       "text": [
        "[==========] Running 1 test from 1 test case.\n",
        "[----------] Global test environment set-up.\n",
        "[----------] 1 test from test_counter\n",
        "[ RUN      ] test_counter.test_counter\n",
        "[       OK ] test_counter.test_counter (0 ms)\n",
        "[----------] 1 test from test_counter (0 ms total)\n",
        "\n",
        "[----------] Global test environment tear-down\n",
        "[==========] 1 test from 1 test case ran. (0 ms total)\n",
        "[  PASSED  ] 1 test.\n"
       ]
      }
     ],
     "prompt_number": 29
    },
    {
     "cell_type": "markdown",
     "metadata": {},
     "source": [
      "Code coverage is the **set of execution paths** (i.e. set of occurrences of instructions in the code) that are covered by the tests. Ideally, this set should be equal to the whole program to ensure that the whole program is tested."
     ]
    },
    {
     "cell_type": "heading",
     "level": 2,
     "metadata": {},
     "source": [
      "Unit Testing Frameworks"
     ]
    },
    {
     "cell_type": "markdown",
     "metadata": {},
     "source": [
      "As mentioned earlier, there are so many unit testing platforms we will not focus on those. Each language has it own standard one: **CUnit** for C, **CppUnit** for C++, **NUnit** for .Net, **JUnit** for Java, etc., but all of them share the same key principles.\n",
      "\n",
      "In order to better understand the role of a unit testing framework and its core functionalities we will try to implement from scratch one as below."
     ]
    },
    {
     "cell_type": "code",
     "collapsed": false,
     "input": [
      "%%bash\n",
      "cat > test.h << EOF\n",
      "#ifndef __TEST_H_\n",
      "#define __TEST_H_\n",
      "\n",
      "#include <string>\n",
      "#include <vector>\n",
      "#include <stdio.h>\n",
      "\n",
      "typedef void (*TestMethod)();\n",
      "std::vector<TestMethod> methods;\n",
      "std::vector<std::string> method_names;\n",
      "std::vector<std::string> errors;\n",
      "\n",
      "class Function\n",
      "{\n",
      "public:\n",
      "    Function(TestMethod method, std::string name)\n",
      "    {\n",
      "        methods.push_back(method);\n",
      "        method_names.push_back(name);\n",
      "    }\n",
      "};\n",
      "\n",
      "void assertEq(int expected, int actual)\n",
      "{\n",
      "    if (expected != actual)\n",
      "    {\n",
      "        char szError[256] = {0};\n",
      "        sprintf(szError, \"Expected <%d>, but <%d> found!\", expected, actual);\n",
      "        errors.push_back(szError);\n",
      "    }\n",
      "}\n",
      "\n",
      "void RunAllTests()\n",
      "{\n",
      "    for (size_t i = 0; i < methods.size(); i ++)\n",
      "    {\n",
      "        errors.clear();\n",
      "\n",
      "        printf(\"Running %30s\", method_names[i].c_str());\n",
      "        methods[i]();\n",
      "\n",
      "        printf(\"\\t%s\\r\\n\", errors.size() > 0 ? \"ERR\" : \"OK\");\n",
      "\n",
      "        for (size_t j = 0; j < errors.size(); j ++)\n",
      "            printf(\"\\t%s\\r\\n\", errors[j].c_str());\n",
      "    }\n",
      "}\n",
      "\n",
      "#define TEST_METHOD_INTERNAL(METH, NAME) \\\n",
      "    void METH();\\\n",
      "    Function METH ## METHO(METH, NAME);\\\n",
      "    void METH()\n",
      "#define TEST(X) TEST_METHOD_INTERNAL(X, #X)\n",
      "#define RUN_ALL_TESTS RunAllTests\n",
      "\n",
      "#endif\n",
      "EOF"
     ],
     "language": "python",
     "metadata": {},
     "outputs": [],
     "prompt_number": 54
    },
    {
     "cell_type": "code",
     "collapsed": false,
     "input": [
      "%%bash\n",
      "cat > sample.cpp << EOF\n",
      "\n",
      "// production code: sample fibonacci\n",
      "int f(unsigned int x)\n",
      "{\n",
      "    if(x <= 1) return 1;\n",
      "    else return f(x-1) + f(x-2);\n",
      "}\n",
      "\n",
      "#include \"test.h\"\n",
      "\n",
      "TEST(FibOne)\n",
      "{\n",
      "    assertEq(1, f(1));\n",
      "}\n",
      "\n",
      "TEST(FibFive)\n",
      "{\n",
      "    assertEq(8, f(5));\n",
      "}\n",
      "\n",
      "int main()\n",
      "{\n",
      "    RUN_ALL_TESTS();\n",
      "}\n",
      "EOF\n",
      "g++ sample.cpp -o sample\n",
      "./sample"
     ],
     "language": "python",
     "metadata": {},
     "outputs": [
      {
       "output_type": "stream",
       "stream": "stdout",
       "text": [
        "Running                         FibOne\tOK\r\n",
        "Running                        FibFive\tOK\r\n"
       ]
      }
     ],
     "prompt_number": 57
    },
    {
     "cell_type": "heading",
     "level": 2,
     "metadata": {},
     "source": [
      "Test Driven Development"
     ]
    },
    {
     "cell_type": "markdown",
     "metadata": {},
     "source": [
      "The Test Driven Development methodology relies on these three principles:\n",
      "- **test first**, implement after (and every test should initially fail),\n",
      "- **every functionality** should be tested,\n",
      "- the development flows over **short iterations of the cycle: test, code, refactor**.\n",
      "![tdd whell](images/tdd.jpg)"
     ]
    },
    {
     "cell_type": "heading",
     "level": 2,
     "metadata": {},
     "source": [
      "Working with Legacy Code"
     ]
    },
    {
     "cell_type": "markdown",
     "metadata": {},
     "source": [
      "How can one approach existing code through unit testing?"
     ]
    }
   ],
   "metadata": {}
  }
 ]
}
