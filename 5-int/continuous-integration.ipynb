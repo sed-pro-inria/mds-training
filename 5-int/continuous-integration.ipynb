{
 "metadata": {
  "name": "",
  "signature": "sha256:102749dce59f75f0bb33c6b395a8312b04d953d5854668cbd8ca32d92b09e0da"
 },
 "nbformat": 3,
 "nbformat_minor": 0,
 "worksheets": [
  {
   "cells": [
    {
     "cell_type": "heading",
     "level": 1,
     "metadata": {},
     "source": [
      "Continuous integration"
     ]
    },
    {
     "cell_type": "markdown",
     "metadata": {},
     "source": [
      "<img src=\"images/thumbr.png\">"
     ]
    },
    {
     "cell_type": "code",
     "collapsed": false,
     "input": [],
     "language": "python",
     "metadata": {},
     "outputs": []
    }
   ],
   "metadata": {}
  }
 ]
}