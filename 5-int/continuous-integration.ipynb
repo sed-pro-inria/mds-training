{
 "metadata": {
  "name": "",
  "signature": "sha256:ae833a8ffbbd5d9f42c5b84a13aeca808c9e5846b54da85d84d7f5b67dc74428"
 },
 "nbformat": 3,
 "nbformat_minor": 0,
 "worksheets": [
  {
   "cells": [
    {
     "cell_type": "heading",
     "level": 1,
     "metadata": {},
     "source": [
      "Continous integration"
     ]
    },
    {
     "cell_type": "markdown",
     "metadata": {},
     "source": [
      "<img src=\"images/thumbr.png\">"
     ]
    },
    {
     "cell_type": "markdown",
     "metadata": {},
     "source": [
      "Continuous integration: \n",
      "   - a software engeneiring pratice\n",
      "   - check code modifcation for regression\n",
      "   - automated\n",
      "   - detect and fix bugs as soon as possible"
     ]
    },
    {
     "cell_type": "heading",
     "level": 2,
     "metadata": {},
     "source": [
      "Continous integration basic concepts, an example of possible work flow"
     ]
    },
    {
     "cell_type": "markdown",
     "metadata": {},
     "source": [
      "- It is required that the developers team make use of a version control system.\n",
      "- The goal is to automatically run a suite of test after each commit."
     ]
    },
    {
     "cell_type": "markdown",
     "metadata": {},
     "source": [
      "- When a developer commit, a Git hook notifies the CI server (or the CI server is scruting the Git repository).\n",
      "- The CI server triggers a build on each slaves:\n",
      "  - Download the code modifications (Git)\n",
      "  - Build the code (CMake)\n",
      "  - Run the tests (CUnit)\n",
      "  - (Build the documentation, the packages ...)\n",
      " - Slave send results to Ci server\n",
      " - CI server send notifications, emails, publish results on a web interface\n",
      "- If a regression is detected, the developper fix the bug immediatelly\n",
      "\n",
      "<img src=\"files/images/ci-concept.svg\" width=500>"
     ]
    },
    {
     "cell_type": "heading",
     "level": 2,
     "metadata": {},
     "source": [
      "Prepare your source code for continuous integration"
     ]
    },
    {
     "cell_type": "markdown",
     "metadata": {},
     "source": [
      "- Build and installation of your software must be automated and reproductible\n",
      "- Test suite must be easy to execute (CTest).\n",
      "- Test suite must run fast.\n",
      "- Everything must be in the Git repository:\n",
      "    - build script\n",
      "    - test\n",
      "    - input data\n",
      "    - ..."
     ]
    },
    {
     "cell_type": "heading",
     "level": 2,
     "metadata": {},
     "source": [
      "Credentials"
     ]
    },
    {
     "cell_type": "markdown",
     "metadata": {},
     "source": [
      "The CI slaves must be able to fetch the sources code from the Git server.\n",
      "\n",
      "If the projet is not read-only public, it implies:\n",
      "- Add a new user on the forge with read-only access\n",
      "- Store credentials on the slaves, typically a SSH key with or without passphrase"
     ]
    },
    {
     "cell_type": "heading",
     "level": 2,
     "metadata": {},
     "source": [
      "Slaves"
     ]
    },
    {
     "cell_type": "markdown",
     "metadata": {},
     "source": [
      "Differents slave allow to test a software in different environment :\n",
      "    - Different architectutres (32 bits, 64 bits...)\n",
      "    - Different operation systems\n",
      "    - Differents library versions\n",
      "    \n",
      "Salve can be either:\n",
      " - physical:\n",
      "  - easy to set up, hard to maintain and scale\n",
      " - virtual:\n",
      "   - images manage on a desktop ( [Vagrant](https://www.vagrantup.com/) )\n",
      "   - a whole cloud [CloudStack](http://cloudstack.apache.org/)\n",
      "  - licences issues with proprietary OS (Mac OS X)\n",
      "  - performances tests issues"
     ]
    },
    {
     "cell_type": "heading",
     "level": 2,
     "metadata": {},
     "source": [
      "Build frequency"
     ]
    },
    {
     "cell_type": "markdown",
     "metadata": {},
     "source": [
      "- Incremental and fast after each commit (need for a powerfull build system)\n",
      "- From scratch each night, possibility to run longer functional tests"
     ]
    },
    {
     "cell_type": "heading",
     "level": 2,
     "metadata": {},
     "source": [
      "Tests"
     ]
    },
    {
     "cell_type": "markdown",
     "metadata": {},
     "source": [
      "- Must be easy to run (one command)\n",
      "- Must run fast\n",
      "- More or less easy to write given the software\n",
      "- On which criteria say that results of a scientific numerical code are correct or wrong?\n",
      "- Hard to test GUI."
     ]
    },
    {
     "cell_type": "heading",
     "level": 2,
     "metadata": {},
     "source": [
      "More things continuous integration can be used for"
     ]
    },
    {
     "cell_type": "markdown",
     "metadata": {},
     "source": [
      "- Check that a set of software examples always works\n",
      "- Fix regression bug immediately\n",
      "- Check that no dependency are forgotten\n",
      "- A developer have forgot to commit a file : work on its environment, but not for other developers\n",
      "- Fix portability bug (a developer on GNU/Linux may introduce a bug that reprocude only on Mac OS X)\n",
      "- Eliminate warnings\n",
      "- Check coding rules\n",
      "- Check for memory leaks\n",
      "- Build and release packages"
     ]
    },
    {
     "cell_type": "heading",
     "level": 2,
     "metadata": {},
     "source": [
      "Notification strategy"
     ]
    },
    {
     "cell_type": "markdown",
     "metadata": {},
     "source": [
      "- email\n",
      "- desktop notification\n",
      "- notification on the forge"
     ]
    },
    {
     "cell_type": "heading",
     "level": 2,
     "metadata": {},
     "source": [
      "[Jenkins](http://jenkins-ci.org/) CI tool"
     ]
    },
    {
     "cell_type": "markdown",
     "metadata": {},
     "source": [
      "- Come from the Java world.\n",
      "- Large number of plugins.\n",
      "- But Jenkins version VS plugin version can cause issues during upgrades.\n",
      "- All the configuration take place in the web browser.\n",
      "- Not easy to archive the configuration into version control."
     ]
    },
    {
     "cell_type": "markdown",
     "metadata": {},
     "source": [
      "Download the [Java Web Archive](http://mirrors.jenkins-ci.org/war/latest/jenkins.war), and execute it:\n",
      "\n",
      "    java -jar jenkins.war\n",
      "    \n",
      "Visit http://localhost:8080/.\n",
      "\n",
      "    - Create a new job.\n",
      "    - Install Git plugin.\n",
      "    - Give Git URL.\n",
      "    - Configure, build, test as Bash script.\n",
      "    - Create node."
     ]
    },
    {
     "cell_type": "heading",
     "level": 1,
     "metadata": {},
     "source": [
      "[Buildbot](http://trac.buildbot.net/) CI tool"
     ]
    },
    {
     "cell_type": "markdown",
     "metadata": {},
     "source": [
      "- Configured in a Python script.\n",
      "- Easy to scrip.\n",
      "- Configuration can be archived into version control."
     ]
    },
    {
     "cell_type": "markdown",
     "metadata": {},
     "source": [
      "Create an isolated Conda environment:\n",
      "    \n",
      "    conda create -n tetrinria-build python=2 pip\n",
      "    source activate tetrinria-build\n",
      "    \n",
      "Install buildbot:\n",
      "\n",
      "    pip install buildbot buildbot-slave\n",
      "    \n",
      "Create a master:\n",
      "\n",
      "    buildbot create-master master\n",
      "    \n",
      "Configure the master in the file **master.cfg**.\n",
      "\n",
      "Start the master:\n",
      "    \n",
      "    buildbot checkconfig\n",
      "    buildbot start master\n",
      "    \n",
      "Visit http://localhost:8010/.\n",
      "\n",
      "Create a slave:\n",
      "\n",
      "    buildslave create-slave ubuntu localhost:9989 ubuntu passwd\n",
      "    \n",
      "and starts it:\n",
      "\n",
      "    buildslave start"
     ]
    },
    {
     "cell_type": "heading",
     "level": 1,
     "metadata": {},
     "source": [
      "[Travis](https://travis-ci.org/) CI tool"
     ]
    },
    {
     "cell_type": "markdown",
     "metadata": {},
     "source": [
      "- Hosted plateform for open source project\n",
      "- Integrated with Github\n",
      "- Test each developer fork.\n",
      "- Very easy to set up:\n",
      "    - Sign up with Github account.\n",
      "    - Authorize Github and travis to communicate.\n",
      "    - Synchronize your repository list.\n",
      "    - Activate the repository you want Travis to test.\n",
      "    - Describe your build in a YAML file.\n",
      "    - Push the Travis YAML file.\n",
      "    - Synchronize the repository.\n",
      "\n",
      "An example of **.travis.yml** is:\n",
      "\n",
      "    os:\n",
      "      - linux\n",
      "\n",
      "    language: c\n",
      "\n",
      "    compiler:\n",
      "      - gcc\n",
      "\n",
      "    before_install:\n",
      "      - sudo apt-get update\n",
      "      - sudo apt-get install cmake libgtk2.0-dev libcunit1-dev cppcheck valgrind kwstyle\n",
      "    \n",
      "    install\n",
      "      - mkdir build\n",
      "      - cd build\n",
      "      - cmake -DCMAKE_BUILD_TYPE=TEST ..\n",
      "      - VERBOSE=1 make\n",
      "\n",
      "    script:\n",
      "      - CTEST_OUTPUT_ON_FAILURE=TRUE make test\n",
      "      - valgrind --leak-check=full core/test/test_tetrinria_core\n",
      "      - cd ..\n",
      "      - cppcheck --enable=all core \n",
      "      - cppcheck --enable=all gtk\n"
     ]
    },
    {
     "cell_type": "heading",
     "level": 2,
     "metadata": {},
     "source": [
      "References"
     ]
    },
    {
     "cell_type": "markdown",
     "metadata": {},
     "source": [
      "> http://cppcheck.sourceforge.net\n",
      "\n",
      "> http://www.forcheck.nl\n",
      "\n",
      "> http://jenkins-ci.org\n",
      "\n",
      "> http://buildbot.net\n",
      "\n",
      "> https://travis-ci.org\n",
      "\n",
      "> https://ci.gitlab.org"
     ]
    }
   ],
   "metadata": {}
  }
 ]
}