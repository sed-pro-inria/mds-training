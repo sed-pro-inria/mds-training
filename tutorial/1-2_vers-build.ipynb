{
 "metadata": {
  "name": "",
  "signature": "sha256:580dde54fdbf90890fe4a579b1a2d42abc880f08792d23d90cab6bf5951d00d7"
 },
 "nbformat": 3,
 "nbformat_minor": 0,
 "worksheets": [
  {
   "cells": [
    {
     "cell_type": "heading",
     "level": 1,
     "metadata": {},
     "source": [
      "Tutorial - GitHub and CMake"
     ]
    },
    {
     "cell_type": "heading",
     "level": 1,
     "metadata": {},
     "source": [
      "GitHub"
     ]
    },
    {
     "cell_type": "markdown",
     "metadata": {},
     "source": [
      "- Create a GitHub account.\n",
      "- Clone the repository: https://github.com/thierry-martinez/2014-11-mds/\n",
      "- Check that you can run `make` in the `tetris/` directory of the project and that you can play Tetris by running `tetris/tetris`."
     ]
    },
    {
     "cell_type": "heading",
     "level": 2,
     "metadata": {},
     "source": [
      "CMake"
     ]
    },
    {
     "cell_type": "markdown",
     "metadata": {},
     "source": [
      "- Adapt the `Makefile` into a `CMakeLists.txt` file.\n",
      "- Check that `CMake` is able to build the project properly."
     ]
    },
    {
     "cell_type": "heading",
     "level": 2,
     "metadata": {},
     "source": [
      "Git"
     ]
    },
    {
     "cell_type": "markdown",
     "metadata": {},
     "source": [
      "- Commit your changes.\n",
      "- Create your fork and make a pull request for your changes."
     ]
    },
    {
     "cell_type": "markdown",
     "metadata": {},
     "source": [
      "- Instead of a fork, change your commit so that it applies to a personal branch and push it to the server."
     ]
    }
   ],
   "metadata": {}
  }
 ]
}