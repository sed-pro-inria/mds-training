{
 "metadata": {
  "name": "",
  "signature": "sha256:9fdccf07cfb74054488b90521728a90685fb3c9bec1ffc1fc3a35452c68f9bcb"
 },
 "nbformat": 3,
 "nbformat_minor": 0,
 "worksheets": [
  {
   "cells": [
    {
     "cell_type": "heading",
     "level": 1,
     "metadata": {},
     "source": [
      "Tutorial - GitHub and CMake"
     ]
    },
    {
     "cell_type": "heading",
     "level": 1,
     "metadata": {},
     "source": [
      "GitHub"
     ]
    },
    {
     "cell_type": "markdown",
     "metadata": {},
     "source": [
      "- Create a GitHub account.\n",
      "- Fork the repository \n",
      "> https://github.com/sed-pro-inria/tetrinria.git\n",
      "- Check that you can run `make` in the `tetrinria/` directory of the project and that you can play Tetris by running `tetrinria/gtk/tetrinria-gtk`."
     ]
    },
    {
     "cell_type": "heading",
     "level": 2,
     "metadata": {},
     "source": [
      "CMake"
     ]
    },
    {
     "cell_type": "markdown",
     "metadata": {},
     "source": [
      "- Adapt the `Makefile` into a `CMakeLists.txt` file.\n",
      "- Check that `CMake` is able to build the project properly."
     ]
    },
    {
     "cell_type": "heading",
     "level": 2,
     "metadata": {},
     "source": [
      "Git"
     ]
    },
    {
     "cell_type": "markdown",
     "metadata": {},
     "source": [
      "- Create a branch cmake.\n",
      "- Commit your changes.\n",
      "- Push to your fork and make a pull request for your changes."
     ]
    },
    {
     "cell_type": "heading",
     "level": 2,
     "metadata": {},
     "source": [
      "Training sources"
     ]
    },
    {
     "cell_type": "markdown",
     "metadata": {},
     "source": [
      "> https://github.com/sed-pro-inria/tools-training.git\n",
      "\n",
      "> cd tools-training\n",
      "\n",
      "> ipython notebook"
     ]
    },
    {
     "cell_type": "code",
     "collapsed": false,
     "input": [
      "%%bash\n",
      "\n",
      "ls"
     ],
     "language": "python",
     "metadata": {},
     "outputs": [
      {
       "output_type": "stream",
       "stream": "stdout",
       "text": [
        "1-2_vers-build.ipynb\n"
       ]
      }
     ],
     "prompt_number": 2
    },
    {
     "cell_type": "code",
     "collapsed": false,
     "input": [],
     "language": "python",
     "metadata": {},
     "outputs": []
    }
   ],
   "metadata": {}
  }
 ]
}