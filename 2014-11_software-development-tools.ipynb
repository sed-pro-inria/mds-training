{
 "metadata": {
  "name": "",
  "signature": "sha256:3f556ea3f407990a514b31db490b5b02e5f329d963e8c185903a68279040289b"
 },
 "nbformat": 3,
 "nbformat_minor": 0,
 "worksheets": [
  {
   "cells": [
    {
     "cell_type": "heading",
     "level": 1,
     "metadata": {},
     "source": [
      "Software development tools - Maison de la Simulation, Saclay"
     ]
    },
    {
     "cell_type": "markdown",
     "metadata": {},
     "source": [
      "Good morning!"
     ]
    },
    {
     "cell_type": "markdown",
     "metadata": {},
     "source": [
      "<img src=\"images/good_code.png\">"
     ]
    },
    {
     "cell_type": "heading",
     "level": 2,
     "metadata": {},
     "source": [
      "Trainers from INRIA Paris-Rocquencourt"
     ]
    },
    {
     "cell_type": "markdown",
     "metadata": {},
     "source": [
      "Experimentation and development department: SED (service d'exp\u00e9rimentation et de d\u00e9veloppement)\n",
      "- *C\u00e9dric Doucet*, software engineer specialist in applied mathematics, **scientific parallel computing**, **C++**, Matlab, Fortran,\n",
      "- *David Froger*, software engineer specialist in **scientific computing**, **C**, Python,\n",
      "- *Thierry Martinez*, software engineer specialist in formal methods, **distributed computing**, web development, Prolog, Coq, OCaml,\n",
      "- *C\u00e9cile Stentzel*, head of development department, software engineer specialist in symbolic systems, **software engineering**, OCaml."
     ]
    },
    {
     "cell_type": "heading",
     "level": 2,
     "metadata": {},
     "source": [
      "Monday, November 24th 2014"
     ]
    },
    {
     "cell_type": "heading",
     "level": 3,
     "metadata": {},
     "source": [
      "09.30 AM - 12.30 PM"
     ]
    },
    {
     "cell_type": "markdown",
     "metadata": {},
     "source": [
      "- Training: **version control** - David Froger,\n",
      "    - Break: 20 minutes,\n",
      "- Training: **build management** - Thierry Martinez."
     ]
    },
    {
     "cell_type": "heading",
     "level": 3,
     "metadata": {},
     "source": [
      "02.00 PM - 06.00 PM"
     ]
    },
    {
     "cell_type": "markdown",
     "metadata": {},
     "source": [
      "- *Tutorial:* version control and build management - David Froger, and Thierry Martinez,,\n",
      "    - Break: 30 minutes,\n",
      "- Training and *tutorial:* **project management** - C\u00e9cile Stentzel."
     ]
    },
    {
     "cell_type": "heading",
     "level": 2,
     "metadata": {},
     "source": [
      "Tuesday, November 25th 2014"
     ]
    },
    {
     "cell_type": "heading",
     "level": 3,
     "metadata": {},
     "source": [
      "09.30 AM - 12.30 PM"
     ]
    },
    {
     "cell_type": "markdown",
     "metadata": {},
     "source": [
      "- Training and *tutorial:* **issue tracker** - Thierry Martinez,\n",
      "- Training: **continuous integration** - David Froger, and C\u00e9dric Doucet,\n",
      "    - Break: 20 minutes,\n",
      "- *Tutorial:* continuous integration - David Froger, and C\u00e9dric Doucet."
     ]
    },
    {
     "cell_type": "heading",
     "level": 3,
     "metadata": {},
     "source": [
      "02.00 PM - 06.00 PM"
     ]
    },
    {
     "cell_type": "markdown",
     "metadata": {},
     "source": [
      "- Training: **unit testing** - Thierry Martinez, and C\u00e9cile Stentzel,\n",
      "    - Break: 30 minutes,\n",
      "- *Tutorial:* unit testing - Thierry Martinez, and all the others."
     ]
    },
    {
     "cell_type": "heading",
     "level": 2,
     "metadata": {},
     "source": [
      "Wednesday, November 26th 2014"
     ]
    },
    {
     "cell_type": "heading",
     "level": 3,
     "metadata": {},
     "source": [
      "09.30 AM - 12.30 PM"
     ]
    },
    {
     "cell_type": "markdown",
     "metadata": {},
     "source": [
      "- Training: **coding style** - C\u00e9dric Doucet,\n",
      "- *Tutorial:* project management - C\u00e9cile Stentzel, and C\u00e9dric Doucet,\n",
      "    - Break: 20 minutes,\n",
      "- *Tutorial:* coding style - C\u00e9dric Doucet, and David Froger."
     ]
    },
    {
     "cell_type": "heading",
     "level": 3,
     "metadata": {},
     "source": [
      "02.00 PM - 06.00 PM"
     ]
    },
    {
     "cell_type": "markdown",
     "metadata": {},
     "source": [
      "- *Tutorial:* project management and unit testing - Thierry Martinez, and C\u00e9cile Stentzel,\n",
      "    - Break: 30 minutes,\n",
      "- *Tutorial:* version control - David Froger."
     ]
    },
    {
     "cell_type": "heading",
     "level": 2,
     "metadata": {},
     "source": [
      "Participants"
     ]
    },
    {
     "cell_type": "markdown",
     "metadata": {},
     "source": [
      "| Attendance | Last name | First name | Institute or company | Localisation | \n",
      "| - | - | - | - | - | \n",
      "| | |  |  |  |"
     ]
    },
    {
     "cell_type": "heading",
     "level": 3,
     "metadata": {},
     "source": [
      "Knowledge"
     ]
    },
    {
     "cell_type": "markdown",
     "metadata": {},
     "source": [
      "\n",
      "| Name | Version control | Build | Project management | Issue tracker | Continuous integration | Unit testing | Coding style | \n",
      "| - | - | - | - | - | - | - | - | \n",
      "| |  |  |  |  |  |  |  | "
     ]
    },
    {
     "cell_type": "markdown",
     "metadata": {},
     "source": [
      "Thank you!"
     ]
    }
   ],
   "metadata": {}
  }
 ]
}