{
 "metadata": {
  "name": "",
  "signature": "sha256:340032faff5903bb0bba6c835e5fb6a2d19cef20e2f3a0829c65b5facc8ac9f7"
 },
 "nbformat": 3,
 "nbformat_minor": 0,
 "worksheets": [
  {
   "cells": [
    {
     "cell_type": "heading",
     "level": 1,
     "metadata": {},
     "source": [
      "Software development tools"
     ]
    },
    {
     "cell_type": "markdown",
     "metadata": {},
     "source": [
      "<img src=\"images/good_code.png\">"
     ]
    },
    {
     "cell_type": "heading",
     "level": 2,
     "metadata": {},
     "source": [
      "Trainers from INRIA Paris-Rocquencourt SED (development team)"
     ]
    },
    {
     "cell_type": "markdown",
     "metadata": {},
     "source": [
      "- C\u00e9dric Doucet\n",
      "- David Froger\n",
      "- Thierry Martinez\n",
      "- C\u00e9cile Stentzel"
     ]
    },
    {
     "cell_type": "heading",
     "level": 2,
     "metadata": {},
     "source": [
      "Monday, November 24th 2014"
     ]
    },
    {
     "cell_type": "heading",
     "level": 3,
     "metadata": {},
     "source": [
      "09.30 AM - 12.30 PM"
     ]
    },
    {
     "cell_type": "markdown",
     "metadata": {},
     "source": [
      "- Training: **version control** - David Froger,\n",
      "    - Break: 20 minutes,\n",
      "- Training: **build management** - Thierry Martinez,\n",
      "- *Tutorial:* version control and build management - David Froger, and Thierry Martinez."
     ]
    },
    {
     "cell_type": "heading",
     "level": 3,
     "metadata": {},
     "source": [
      "02.00 PM - 06.00 PM"
     ]
    },
    {
     "cell_type": "markdown",
     "metadata": {},
     "source": [
      "- *Tutorial:* version control and build management - David Froger, and Thierry Martinez,\n",
      "- Training and *tutorial:* **project management** - C\u00e9cile Stentzel,\n",
      "    - Break: 30 minutes,\n",
      "- Training and *tutorial:* **issue tracker** - Thierry Martinez, and C\u00e9cile Stentzel,"
     ]
    },
    {
     "cell_type": "heading",
     "level": 2,
     "metadata": {},
     "source": [
      "Tuesday, November 25th 2014"
     ]
    },
    {
     "cell_type": "heading",
     "level": 3,
     "metadata": {},
     "source": [
      "09.30 AM - 12.30 PM"
     ]
    },
    {
     "cell_type": "markdown",
     "metadata": {},
     "source": [
      "- Training: **continuous integration** - David Froger, and C\u00e9dric Doucet,\n",
      "    - Break: 20 minutes,\n",
      "- *Tutorial:* continuous integration - David Froger, and C\u00e9dric Doucet."
     ]
    },
    {
     "cell_type": "heading",
     "level": 3,
     "metadata": {},
     "source": [
      "02.00 PM - 06.00 PM"
     ]
    },
    {
     "cell_type": "markdown",
     "metadata": {},
     "source": [
      "- Training: **unit testing** - Thierry Martinez, and C\u00e9cile Stentzel,\n",
      "    - Break: 30 minutes,\n",
      "- *Tutorial:* unit testing - Thierry Martinez, and all the others."
     ]
    },
    {
     "cell_type": "heading",
     "level": 2,
     "metadata": {},
     "source": [
      "Wednesday, November 26th 2014"
     ]
    },
    {
     "cell_type": "heading",
     "level": 3,
     "metadata": {},
     "source": [
      "09.30 AM - 12.30 PM"
     ]
    },
    {
     "cell_type": "markdown",
     "metadata": {},
     "source": [
      "- Training: **coding style** - C\u00e9dric Doucet,\n",
      "- *Tutorial:* project management - C\u00e9cile Stentzel, and C\u00e9dric Doucet,\n",
      "    - Break: 20 minutes,\n",
      "- *Tutorial:* coding style - C\u00e9dric Doucet, and David Froger."
     ]
    },
    {
     "cell_type": "heading",
     "level": 3,
     "metadata": {},
     "source": [
      "02.00 PM - 06.00 PM"
     ]
    },
    {
     "cell_type": "markdown",
     "metadata": {},
     "source": [
      "- *Tutorial:* project management and unit testing - Thierry Martinez, and C\u00e9cile Stentzel,\n",
      "    - Break: 30 minutes,\n",
      "- *Tutorial:* version control - David Froger."
     ]
    },
    {
     "cell_type": "heading",
     "level": 2,
     "metadata": {},
     "source": [
      "Participants"
     ]
    },
    {
     "cell_type": "markdown",
     "metadata": {},
     "source": [
      "| Last name | First name | Institute or company | Localisation | \n",
      "| - | - | - | - | \n",
      "| CUIF SJOSTRAND | Marianne | TOTAL | Pau, France | \n",
      "| DELAYE | Lauriane | LATMOS / CNRS | Guyancourt, France | \n",
      "| FANEY | Thibault | IFPEN, D\u00e9partement Math\u00e9matiques Appliqu\u00e9es | Rueil-Malmaison, France | \n",
      "| GASC | Thibault | Maison de la Simulation | Gif-sur-Yvette, France | \n",
      "| HAMOUDA | Raouf | INRIA | Rocquencourt, France | \n",
      "| KOUAKOU | Jacques | IFPEN | Rueil Malmaison, France | \n",
      "| MANCHE | Herv\u00e9 | CNRS, Institut de M\u00e9canique C\u00e9leste et de calcul des Eph\u00e9m\u00e9rides | Paris, France |\n",
      "| MARTINEZ | Cristian | Universite Paris-Est / Laboratoire d'Informatique Gaspard-Monge (LIGM) | Champs-sur-Marne, France, Columbia |\n",
      "| MERADJI | Sofiane | Universite de Toulon, IMATH | La Garde, France |\n",
      "| NATAF | Frederic | Laboratoire J.L. Lions | Paris, France |\n",
      "| ROIJALS MIRAS | Ivan J. | Karolinska Institute, Neurodevelopmental Disorders KIND / Collaborator at IFISC (Institute for Cross-Disciplinary Physics and Complex Systems) | Stockholm, Sweden / Palma, Spain | \n",
      "| ROZAR | Fabien | CEA Saclay / DSM, Maison de la Simulation | Gif sur Yvette, France |\n",
      "| SEVIN | Arnaud | LESIA / Obsevatoire de Paris | Meudon, France |\n",
      "| SUBLEMONTIER | Jacques-Henri | CEA LIST, CEA DRT / LIST / DM2I / LADIS | Gif-sur-Yvette, France |"
     ]
    }
   ],
   "metadata": {}
  }
 ]
}