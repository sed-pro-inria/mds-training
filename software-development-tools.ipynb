{
 "metadata": {
  "name": "",
  "signature": "sha256:bfc48a55e3b7ef86cd4a5bb9a2d18d495df23470d970a5b6b5abf606da6fdaaa"
 },
 "nbformat": 3,
 "nbformat_minor": 0,
 "worksheets": [
  {
   "cells": [
    {
     "cell_type": "heading",
     "level": 1,
     "metadata": {},
     "source": [
      "Software development tools"
     ]
    },
    {
     "cell_type": "markdown",
     "metadata": {},
     "source": [
      "Good morning!"
     ]
    },
    {
     "cell_type": "markdown",
     "metadata": {},
     "source": [
      "<img src=\"images/good_code.png\">"
     ]
    },
    {
     "cell_type": "heading",
     "level": 2,
     "metadata": {},
     "source": [
      "Trainers from INRIA Paris-Rocquencourt"
     ]
    },
    {
     "cell_type": "markdown",
     "metadata": {},
     "source": [
      "Experimentation and development department: SED (service d'exp\u00e9rimentation et de d\u00e9veloppement)\n",
      "- *C\u00e9dric Doucet*, software engineer specialist in applied mathematics, **scientific parallel computing**, **C++**, Matlab, Fortran,\n",
      "- *David Froger*, software engineer specialist in **scientific computing**, **C**, Python,\n",
      "- *Thierry Martinez*, software engineer specialist in formal methods, **distributed computing**, web development, Prolog, Coq, OCaml,\n",
      "- *C\u00e9cile Stentzel*, head of development department, software engineer specialist in symbolic systems, **software engineering**, OCaml."
     ]
    },
    {
     "cell_type": "heading",
     "level": 2,
     "metadata": {},
     "source": [
      "Monday, November 24th 2014"
     ]
    },
    {
     "cell_type": "heading",
     "level": 3,
     "metadata": {},
     "source": [
      "09.30 AM - 12.30 PM"
     ]
    },
    {
     "cell_type": "markdown",
     "metadata": {},
     "source": [
      "- Training: **version control** - David Froger,\n",
      "    - Break: 20 minutes,\n",
      "- Training: **build management** - Thierry Martinez."
     ]
    },
    {
     "cell_type": "heading",
     "level": 3,
     "metadata": {},
     "source": [
      "02.00 PM - 06.00 PM"
     ]
    },
    {
     "cell_type": "markdown",
     "metadata": {},
     "source": [
      "- *Tutorial:* version control and build management - David Froger, and Thierry Martinez,,\n",
      "    - Break: 30 minutes,\n",
      "- Training and *tutorial:* **project management** - C\u00e9cile Stentzel."
     ]
    },
    {
     "cell_type": "heading",
     "level": 2,
     "metadata": {},
     "source": [
      "Tuesday, November 25th 2014"
     ]
    },
    {
     "cell_type": "heading",
     "level": 3,
     "metadata": {},
     "source": [
      "09.30 AM - 12.30 PM"
     ]
    },
    {
     "cell_type": "markdown",
     "metadata": {},
     "source": [
      "- Training and *tutorial:* **issue tracker** - Thierry Martinez,\n",
      "- Training: **continuous integration** - David Froger, and C\u00e9dric Doucet,\n",
      "    - Break: 20 minutes,\n",
      "- *Tutorial:* continuous integration - David Froger, and C\u00e9dric Doucet."
     ]
    },
    {
     "cell_type": "heading",
     "level": 3,
     "metadata": {},
     "source": [
      "02.00 PM - 06.00 PM"
     ]
    },
    {
     "cell_type": "markdown",
     "metadata": {},
     "source": [
      "- Training: **unit testing** - Thierry Martinez, and C\u00e9cile Stentzel,\n",
      "    - Break: 30 minutes,\n",
      "- *Tutorial:* unit testing - Thierry Martinez, and all the others."
     ]
    },
    {
     "cell_type": "heading",
     "level": 2,
     "metadata": {},
     "source": [
      "Wednesday, November 26th 2014"
     ]
    },
    {
     "cell_type": "heading",
     "level": 3,
     "metadata": {},
     "source": [
      "09.30 AM - 12.30 PM"
     ]
    },
    {
     "cell_type": "markdown",
     "metadata": {},
     "source": [
      "- Training: **coding style** - C\u00e9dric Doucet,\n",
      "- *Tutorial:* project management - C\u00e9cile Stentzel, and C\u00e9dric Doucet,\n",
      "    - Break: 20 minutes,\n",
      "- *Tutorial:* coding style - C\u00e9dric Doucet, and David Froger."
     ]
    },
    {
     "cell_type": "heading",
     "level": 3,
     "metadata": {},
     "source": [
      "02.00 PM - 06.00 PM"
     ]
    },
    {
     "cell_type": "markdown",
     "metadata": {},
     "source": [
      "- *Tutorial:* project management and unit testing - Thierry Martinez, and C\u00e9cile Stentzel,\n",
      "    - Break: 30 minutes,\n",
      "- *Tutorial:* version control - David Froger."
     ]
    },
    {
     "cell_type": "heading",
     "level": 2,
     "metadata": {},
     "source": [
      "Participants"
     ]
    },
    {
     "cell_type": "markdown",
     "metadata": {},
     "source": [
      "| Attendance | Last name | First name | Institute or company | Localisation | \n",
      "| - | - | - | - | - | \n",
      "| Absent | BACLE | Am\u00e9lie | |  |\n",
      "| 3 days | CUIF SJOSTRAND | Marianne | TOTAL | Pau, France | \n",
      "| 3 days | DELAYE | Lauriane | LATMOS / CNRS | Guyancourt, France | \n",
      "| Absent | DEMBET | Roderick | | |\n",
      "| 3 days | FANEY | Thibault | IFPEN, D\u00e9partement Math\u00e9matiques Appliqu\u00e9es | Rueil-Malmaison, France | \n",
      "| 3 days | GASC | Thibault | Maison de la Simulation | Gif-sur-Yvette, France | \n",
      "| 3 days | HAMOUDA | Raouf | INRIA | Rocquencourt, France | \n",
      "| Absent | KOUAKOU | Jacques | IFPEN | Rueil Malmaison, France | \n",
      "| 3 days | LAINE | Maxime | Observatoire de Paris | Meudon, France |\n",
      "| 3 days | MANCHE | Herv\u00e9 | CNRS, Institut de M\u00e9canique C\u00e9leste et de calcul des Eph\u00e9m\u00e9rides | Paris, France |\n",
      "| Absent | MARTINEZ | Cristian | Universite Paris-Est / Laboratoire d'Informatique Gaspard-Monge (LIGM) | Champs-sur-Marne, France, Columbia |\n",
      "| Absent | MERADJI | Sofiane | Universite de Toulon, IMATH | La Garde, France |\n",
      "| 2 days | NATAF | Fr\u00e9d\u00e9ric | Laboratoire J.L. Lions | Paris, France |\n",
      "| Absent | ROIJALS MIRAS | Ivan J. | Karolinska Institute, Neurodevelopmental Disorders KIND / Collaborator at IFISC (Institute for Cross-Disciplinary Physics and Complex Systems) | Stockholm, Sweden / Palma, Spain | \n",
      "| 3 days | ROZAR | Fabien | CEA Saclay / DSM, Maison de la Simulation | Gif sur Yvette, France |\n",
      "| 1 day | SUBLEMONTIER | Jacques-Henri | CEA LIST, CEA DRT / LIST / DM2I / LADIS | Gif-sur-Yvette, France | "
     ]
    },
    {
     "cell_type": "heading",
     "level": 3,
     "metadata": {},
     "source": [
      "Knowledge"
     ]
    },
    {
     "cell_type": "markdown",
     "metadata": {},
     "source": [
      "\n",
      "| Name | Version control | Build | Project management | Issue tracker | Continuous integration | Unit testing | Coding style | \n",
      "| - | - | - | - | - | - | - | - | \n",
      "| Marianne C. F. | X | X | X |  | X |  |  | \n",
      "| Lauriane D. | X |  | X |  |  | X | X | \n",
      "| Thibault F. | X | X | X | X | X | X | X |\n",
      "| Thibault G. | X |  |  |  |  |  | X | \n",
      "| Raouf H. | X | X |  |  |  |  |  | \n",
      "| Maxime L. | x | x |  |  |  |  | x |\n",
      "| Herv\u00e9 M. | X |  |  |  |  |  |  | \n",
      "| Fr\u00e9d\u00e9ric N. | X |  |  |  |  |  |  | \n",
      "| Fabien R. | X | X |  | X | X |  | X | \n",
      "| Jacques-Henri S. | X | X |  |  |  |  |  | "
     ]
    },
    {
     "cell_type": "markdown",
     "metadata": {},
     "source": [
      "Thank you!"
     ]
    }
   ],
   "metadata": {}
  }
 ]
}