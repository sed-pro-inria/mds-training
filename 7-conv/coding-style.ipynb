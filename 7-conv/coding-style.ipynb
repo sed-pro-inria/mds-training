{
 "metadata": {
  "name": "",
  "signature": "sha256:30c83d37c306cd1374c2c922f3599a05f1326b0c800bc239ebffa8cef05152d3"
 },
 "nbformat": 3,
 "nbformat_minor": 0,
 "worksheets": [
  {
   "cells": [
    {
     "cell_type": "heading",
     "level": 1,
     "metadata": {},
     "source": [
      "Coding style"
     ]
    },
    {
     "cell_type": "markdown",
     "metadata": {},
     "source": [
      "<img src=\"images/words_that_end_in_gry.png\">"
     ]
    },
    {
     "cell_type": "heading",
     "level": 2,
     "metadata": {},
     "source": [
      "What is coding?"
     ]
    },
    {
     "cell_type": "heading",
     "level": 3,
     "metadata": {},
     "source": [
      "Coding is communicating"
     ]
    },
    {
     "cell_type": "markdown",
     "metadata": {},
     "source": [
      "When you write some code,\n",
      "- **you tell the machine** to do something (programming language, algorithmics),\n",
      "- **the machine tells you** what you are doing wrong (compilation errors, warnings).\n",
      "\n",
      "\n",
      "But, **coding is not only a dialog** between you and the machine:  \n",
      "- you tell **other developers** what you want from the machine,\n",
      "- among other developers, there is **\"future you\"**."
     ]
    },
    {
     "cell_type": "heading",
     "level": 3,
     "metadata": {},
     "source": [
      "Readable codes"
     ]
    },
    {
     "cell_type": "markdown",
     "metadata": {},
     "source": [
      "Assume you have to hire some developers.\n",
      "You ask candidates for coding an algorithm.\n",
      "\n",
      "\n",
      "Which code do you accept/reject?\n",
      "\n",
      "\n",
      "| _Code_ | Unreadable | Readable |\n",
      "| ------ | ----------- |\n",
      "| **Incorrect**   | ??? | ???\n",
      "| **Correct** | ??? | ??? |"
     ]
    },
    {
     "cell_type": "heading",
     "level": 3,
     "metadata": {},
     "source": [
      "Example"
     ]
    },
    {
     "cell_type": "markdown",
     "metadata": {},
     "source": [
      "The code below comes from _Numerical Recipes in C_.\n",
      "\n",
      "Can you tell what it does?\n",
      "\n",
      "\n",
      "```\n",
      "void piksrt(int n, float arr[])  \n",
      "{  \n",
      "  int i,j;  \n",
      "  float a;  \n",
      "  for (j=2;j<=n;j++) {  \n",
      "    a=arr[j];  \n",
      "    i=j-1;  \n",
      "    while (i > 0 && arr[i] > a) {  \n",
      "      arr[i+1]=arr[i];  \n",
      "      i--;  \n",
      "    }  \n",
      "    arr[i+1]=a;  \n",
      "  }  \n",
      "}\n",
      "```"
     ]
    },
    {
     "cell_type": "markdown",
     "metadata": {},
     "source": [
      "Do **comments** help you ?"
     ]
    },
    {
     "cell_type": "markdown",
     "metadata": {},
     "source": [
      "```\n",
      "void piksrt(int n, float arr[])\n",
      "/* Sorts an array arr[1..n] into ascending numerical order, by straight insertion. n is input; arr\n",
      "is replaced on output by its sorted rearrangement.*/\n",
      "{\n",
      "  int i,j;\n",
      "  float a;\n",
      "  for (j=2;j<=n;j++) { /* Pick out each element in turn. */\n",
      "    a=arr[j];\n",
      "    i=j-1;\n",
      "    while (i > 0 && arr[i] > a) { /* Look for the place to insert it. */\n",
      "      arr[i+1]=arr[i];\n",
      "      i--;\n",
      "    }\n",
      "    arr[i+1]=a; /* Insert it. */\n",
      "  }\n",
      "}\n",
      "```"
     ]
    },
    {
     "cell_type": "markdown",
     "metadata": {},
     "source": [
      "What do you think about that ?"
     ]
    },
    {
     "cell_type": "markdown",
     "metadata": {},
     "source": [
      "```\n",
      "void ascending_sort(Array* toBeSorted)\n",
      "{\n",
      "  int index;  \n",
      "  for (index = 2; index <= size(toBeSorted); ++index) \n",
      "  {\n",
      "    straight_insertion(index,toBeSorted);\n",
      "  }\n",
      "}\n",
      "```\n",
      "\n",
      "The last two codes are **equivalent from a communication viewpoint:**\n",
      "- the function sorts an array in ascending order\n",
      "- it uses a straight insertion algorithm  \n",
      "\n",
      "**Why do we reject the commented one?**"
     ]
    },
    {
     "cell_type": "heading",
     "level": 2,
     "metadata": {},
     "source": [
      "Comments"
     ]
    },
    {
     "cell_type": "markdown",
     "metadata": {},
     "source": [
      "<img src=\"images/commented.png\">"
     ]
    },
    {
     "cell_type": "heading",
     "level": 3,
     "metadata": {},
     "source": [
      "Comments lie"
     ]
    },
    {
     "cell_type": "markdown",
     "metadata": {},
     "source": [
      "Nothing is more useful than a good comment at the right place.\n",
      "**However, comments often lie.**  \n",
      "\n",
      "Contrary to the code, comments are not checked by the machine.  \n",
      "They have to be checked by developers.  \n",
      "**But, developers cannot maintain comments**.\n",
      "\n",
      "Current good comments will be wrong one day (entropy, Murphy's law):\n",
      "- commented codes may be modified,\n",
      "- commented codes may be erased,\n",
      "- commented codees may be displaced.  \n",
      "\n",
      "\n",
      "**If a developer forget to update corresponding comments, nobody will tell him.**\n",
      "\n",
      "If good comments may help, wrong comments are very confusing.\n",
      "It is better to not rely on comments to express our ideas.  "
     ]
    },
    {
     "cell_type": "heading",
     "level": 3,
     "metadata": {},
     "source": [
      "Palliative comments"
     ]
    },
    {
     "cell_type": "markdown",
     "metadata": {},
     "source": [
      "When you write comments, you admit that you failed in writing a readable code.\n",
      "\n",
      "Compare\n",
      "\n",
      "```\n",
      "void piksrt(int n, float arr[])\n",
      "/* Sorts an array arr[1..n] into ascending numerical order, by straight insertion. n is input; arr\n",
      "is replaced on output by its sorted rearrangement.*/\n",
      "```\n",
      "\n",
      "and\n",
      "\n",
      "```\n",
      "void ascending_sort(Array* toBeSorted)\n",
      "```\n",
      "\n",
      "You can remove comments by expressing the same ideas in variable and function names.  \n",
      "**Variable and function names are easily maintained because they are checked by the compiler.**"
     ]
    },
    {
     "cell_type": "heading",
     "level": 3,
     "metadata": {},
     "source": [
      "Redundant comments"
     ]
    },
    {
     "cell_type": "markdown",
     "metadata": {},
     "source": [
      "Some developers put comments almost everywhere because they do not know what to comment on:\n",
      "```\n",
      "arr[i+1]=a; /* Insert it. */\n",
      "```\n",
      "\n",
      "Source files commented like above are difficult to read: \n",
      "- you have to ** read twice ** the same information,\n",
      "- you have to try to ** ignore comments ** but it is hard to do and tiring.\n",
      "\n",
      "Redudant comments are far from being rare in codes.  \n",
      "Actually, **redundancy tend to be the main way of commenting**. \n",
      "\n",
      "Indeed, redudant comments naturally arise with documentation generators such as Doxygen:\n",
      "```\n",
      "/*! return the size of an array */  \n",
      "size_t array_size(Array an_array)  \n",
      "{ \n",
      "    return an_array.size; \n",
      "}\n",
      "```\n",
      "This is a very bad practice and you should **never** add comments to satisfy a documentation generator.  \n",
      "Instead, choose a documentation generator which allows you to add comments outside source files.  \n",
      "Note that it is possible to do it with Doxygen, and maybe with some other ones."
     ]
    },
    {
     "cell_type": "heading",
     "level": 3,
     "metadata": {},
     "source": [
      "What comments are not"
     ]
    },
    {
     "cell_type": "markdown",
     "metadata": {},
     "source": [
      "Comments **must not** be used to write\n",
      "- documentation,\n",
      "- versioning information (authors, history),\n",
      "- tracking information (todo, wishes).  \n",
      "\n",
      "Comments should be **rare**.\n",
      "\n",
      "How can we improve the **expressiveness** of a code?"
     ]
    },
    {
     "cell_type": "heading",
     "level": 2,
     "metadata": {},
     "source": [
      "Functions"
     ]
    },
    {
     "cell_type": "heading",
     "level": 3,
     "metadata": {},
     "source": [
      "Functions do what their name tells: not more, not less"
     ]
    },
    {
     "cell_type": "markdown",
     "metadata": {},
     "source": [
      "The following code does more than expected:\n",
      "```\n",
      "void min(Array* sortable)\n",
      "{\n",
      "    ascending_sort(sortable);\n",
      "    return an_array[0];\n",
      "}\n",
      "```\n",
      "The array is sorted after computing its minimum value.  \n",
      "This behavior is not suggested by the name of the function."
     ]
    },
    {
     "cell_type": "heading",
     "level": 3,
     "metadata": {},
     "source": [
      "Functions must be short"
     ]
    },
    {
     "cell_type": "markdown",
     "metadata": {},
     "source": [
      "The concept of abstraction level is the most important in writing readable codes.  \n",
      "\n",
      "\n",
      "**If you have to remember only one thing about readable codes, it is this concept.**\n",
      "\n",
      "The abstraction level of a function is defined by its input arguments:\n",
      "- there must be no more than one loop for accessing array coefficients,\n",
      "- data structure fields may be accessed, but not subfields.  \n",
      "\n",
      "**To maintain the abstraction level of a function, cut it in subfunctions**.\n",
      "\n",
      "Here is an example which violates this principle:\n",
      "\n",
      "\n",
      "```\n",
      "double sum_coefficients(double** matrix)\n",
      "{\n",
      "    size_t row_index;\n",
      "    size_t column_index;\n",
      "    double sum;\n",
      "    \n",
      "    sum = 0;\n",
      "    for (row_index = 0; row_index < size(matrix); ++row_index)\n",
      "    {\n",
      "        for (column_index = 0; column_index < size(matrix); ++column_index)\n",
      "        {\n",
      "            sum += matrix[row_index][column_index];\n",
      "        }\n",
      "    }\n",
      "    return sum;\n",
      "}\n",
      "```\n",
      "\n",
      "The input argument of this function is an array.  \n",
      "This function contains two loops.  \n",
      "You have to define a subfunction.  \n",
      "Below, we call a subfunction called _row_sum_:\n",
      "\n",
      "\n",
      "```\n",
      "double sum_coefficients(double** matrix)\n",
      "{\n",
      "    size_t row_index;\n",
      "    size_t column_index;\n",
      "    double sum;\n",
      "    \n",
      "    sum = 0;\n",
      "    for (row_index = 0; row_index < size(matrix); ++row_index)\n",
      "    {\n",
      "        sum += row_sum(matrix, row_index);\n",
      "    }\n",
      "    return sum;\n",
      "}\n",
      "```"
     ]
    },
    {
     "cell_type": "heading",
     "level": 3,
     "metadata": {},
     "source": [
      "Limit the number of arguments"
     ]
    },
    {
     "cell_type": "markdown",
     "metadata": {},
     "source": [
      "Functions having a lot of input arguments are difficult to understand:\n",
      "- arguments are not always easily distinguishable,\n",
      "- algorithmic complexity is often very high.\n",
      "```\n",
      "void interval_intersection(double left_min, \n",
      "                             double left_max,\n",
      "                             double right_min,\n",
      "                             double right_max,\n",
      "                             double inter_min,\n",
      "                             double inter_max)\n",
      "```\n",
      "\n",
      "To limit the number of arguments, define data structures:\n",
      "```\n",
      "Interval intersection(Interval left, Interval right)\n",
      "```"
     ]
    },
    {
     "cell_type": "markdown",
     "metadata": {},
     "source": [
      "To summarize, writing readable codes requires: \n",
      "- finding precise functions names\n",
      "- defining short functions\n",
      "- limiting the number of function arguments\n",
      "\n",
      "**But it is not sufficient: variables must be carefully chosen**"
     ]
    },
    {
     "cell_type": "heading",
     "level": 2,
     "metadata": {},
     "source": [
      "Variables"
     ]
    },
    {
     "cell_type": "markdown",
     "metadata": {},
     "source": [
      "<img src=\"images/names.png\">"
     ]
    },
    {
     "cell_type": "heading",
     "level": 3,
     "metadata": {},
     "source": [
      "Avoid one-letter names"
     ]
    },
    {
     "cell_type": "markdown",
     "metadata": {},
     "source": [
      "Variable names containing only one letter have three problems:\n",
      "- they are ambiguous,\n",
      "- they look like numbers on some editors (1 and l, O and 0),\n",
      "- search for them is very difficult."
     ]
    },
    {
     "cell_type": "heading",
     "level": 3,
     "metadata": {},
     "source": [
      "Avoid using too similar names"
     ]
    },
    {
     "cell_type": "markdown",
     "metadata": {},
     "source": [
      "In nested loops, some developers distinguish variables with numbers:\n",
      "```\n",
      "for (index1=0; index1<size1; ++index1)\n",
      "{\n",
      "    for (index2=0; index2<size2; ++index2)\n",
      "    {\n",
      "        /* do something */\n",
      "    }\n",
      "}\n",
      "```\n",
      "It is very difficult to understand the difference between index1 and index2 variables.  \n",
      "Furthermore, it is difficult to read the code as index1 and index2 are very similar.\n",
      "\n",
      "It is often possible to replace such enumerations by expressive names (e.g. row_index and column_index).  \n",
      "When you cannot see better names, prefer names without numbers:\n",
      "- left_index and right_index,\n",
      "- first_index and righ_index.\n",
      "The code will be easier to read. \n",
      "\n",
      "The same problem occur when one wants to satisfy a compiler by introducing typos or variants:\n",
      "- max and maxi,\n",
      "- index and indexe.  \n",
      "\n",
      "\n",
      "This practice should be forgotten: code stops to compile if someone remove typos!"
     ]
    },
    {
     "cell_type": "heading",
     "level": 3,
     "metadata": {},
     "source": [
      "Expressive names"
     ]
    },
    {
     "cell_type": "markdown",
     "metadata": {},
     "source": [
      "Generic names provide useless information.\n",
      "**You have to find expressive names**.\n",
      "\n",
      "There is two types of generic names:\n",
      "- catch-all names (info, data)\n",
      "- type-based names\n",
      "```\n",
      "Info send_label(TableOfContents* table, Label label)\n",
      "{\n",
      "    Data data = get_data(table,label);\n",
      "    return get_info(data);\n",
      "}\n",
      "```\n",
      "\n",
      "**Variable names should reflect what variables contain.**"
     ]
    },
    {
     "cell_type": "heading",
     "level": 3,
     "metadata": {},
     "source": [
      "Speakable names"
     ]
    },
    {
     "cell_type": "markdown",
     "metadata": {},
     "source": [
      "Codes are not only read.  \n",
      "You also **speak about codes** with your colleagues.   \n",
      "Giving speakable names to variables is recommended to improve discussions about codes.\n",
      "\n",
      "You may name variables with abbreviations if\n",
      "- these abbreviations are well known (max, gui, ...),  \n",
      "- these abbreviations are easy to pronounce."
     ]
    },
    {
     "cell_type": "heading",
     "level": 3,
     "metadata": {},
     "source": [
      "Limit the scope of variables"
     ]
    },
    {
     "cell_type": "markdown",
     "metadata": {},
     "source": [
      "Global variables should very **rare** in codes:\n",
      "- you have to search for their type in the code,\n",
      "- memory management is very hard,\n",
      "- race conditions in multithreading environments.  \n",
      "\n",
      "It is always possible to remove global variables by:\n",
      "- passing identical local variables as function parameters,\n",
      "- define data structures to limit the number of input arguments.  \n",
      "\n",
      "Some design patterns are based on global variables (singletons).   \n",
      "The usage of global variables in these patterns may be very smart.  \n",
      "**Singletons are sometimes useful but never needed.**  \n",
      "Their use is still controversial."
     ]
    },
    {
     "cell_type": "heading",
     "level": 2,
     "metadata": {},
     "source": [
      "Team coding"
     ]
    },
    {
     "cell_type": "markdown",
     "metadata": {},
     "source": [
      "<img src=\"images/standards.png\">"
     ]
    },
    {
     "cell_type": "heading",
     "level": 3,
     "metadata": {},
     "source": [
      "Respect team rules"
     ]
    },
    {
     "cell_type": "markdown",
     "metadata": {},
     "source": [
      "A software development may have poor coding rules.  \n",
      "Respecting these rules is bad.  \n",
      "Violating these rules is worst.\n",
      "\n",
      "**Never impose your own coding rules.**  \n",
      "\n",
      "\n",
      "Always try to convince developers to change their rules:\n",
      "- rules have to be explained,\n",
      "- there may be a good reason to not follow some rule,\n",
      "- other developers will waste their time modifying your code,\n",
      "- you will be fired.\n",
      "\n",
      "If your team has no coding rule:\n",
      "- apply your own rules,\n",
      "- until you convince them to decide a standard."
     ]
    },
    {
     "cell_type": "heading",
     "level": 3,
     "metadata": {},
     "source": [
      "Tools"
     ]
    },
    {
     "cell_type": "markdown",
     "metadata": {},
     "source": [
      "Many tools may help in respecting some coding rules:\n",
      "- beautifiers\n",
      "- style checkers\n",
      "- code review\n",
      "\n",
      "We will soon use a C/C++ style checker named KWStyle."
     ]
    }
   ],
   "metadata": {}
  }
 ]
}