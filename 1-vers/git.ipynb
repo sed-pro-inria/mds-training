{
 "metadata": {
  "name": "",
  "signature": "sha256:c46e222fe6de0617ff731eb2a1b898925df136ab68732008891b86ff355f9cde"
 },
 "nbformat": 3,
 "nbformat_minor": 0,
 "worksheets": [
  {
   "cells": [
    {
     "cell_type": "heading",
     "level": 1,
     "metadata": {},
     "source": [
      "Version control"
     ]
    },
    {
     "cell_type": "markdown",
     "metadata": {},
     "source": [
      "<img src=\"images/git_commit.png\">"
     ]
    },
    {
     "cell_type": "heading",
     "level": 2,
     "metadata": {},
     "source": [
      "Git, a distributed Version Control Manager"
     ]
    },
    {
     "cell_type": "markdown",
     "metadata": {},
     "source": [
      "Version Control Manager:\n",
      "  - Source code is frequently **committed** into Git database, and each **commit** can be retrieved, shared with team.\n",
      "  - Keep, search your code history.\n",
      "  - Develop software in team efficiently.\n",
      "  \n",
      "Distributed:\n",
      "  - Unlike **SVN** which is **centralized**, **Git** is **distributed**. It means that Git does not require to use one central repository, but multiple ones may be used.\n",
      "  - When one downloads source code from a Git repository, it creates a new Git repository, with the full database. There is no conceptual difference between the two repositories.\n",
      "  - Offline work possibiilty\n",
      "  - Multiple possible workflows to collaborate with other developers.\n",
      "  \n",
      "**Git** make it easy to work with **branches**.\n",
      "  - Branches are easy to create, merge and destroy.\n",
      "  - Create temporary branches to develop a topic is encouraged.\n",
      "  \n",
      "**Git** has some core concepts that must be understood.\n",
      "   - Without knowing these core concept, using Git is frustring and painfull.\n",
      "   - Knowing them, using Git is powerfull and easy.\n",
      "   \n",
      "Because of Git easiness to create new repositories and manage branches, a workflow adapted to your team\n",
      "may be chosen. For example:\n",
      "   - working with a central repository and contributing into branches (small private teams);\n",
      "   - working with forks and contributing with pull requests (large teams with external contributors).\n",
      "   \n",
      "This presentation deals with the core concepts of Git, so as to make its adoption easier."
     ]
    },
    {
     "cell_type": "heading",
     "level": 2,
     "metadata": {},
     "source": [
      "Local version control (only one Git repository)"
     ]
    },
    {
     "cell_type": "markdown",
     "metadata": {},
     "source": [
      "We start working on a repository alone.\n",
      "\n",
      "In this sections, we will learn the core concepts of Git:\n",
      "    - staging area,\n",
      "    - commits,\n",
      "    - branches.\n",
      "\n",
      "Start by creating a fresh directory to experiment with Git:"
     ]
    },
    {
     "cell_type": "code",
     "collapsed": false,
     "input": [
      "from os import makedirs, chdir, curdir, walk, sep\n",
      "from os.path import expanduser, isdir, abspath, join, relpath, basename\n",
      "from shutil import rmtree\n",
      "\n",
      "workdir = expanduser('~/git-training')\n",
      "\n",
      "# Remove possible existing working, and starts with a fresh one.\n",
      "if isdir(workdir):\n",
      "    rmtree(workdir)\n",
      "makedirs(workdir)          \n",
      "\n",
      "def changedir(directory):\n",
      "    \"\"\"Set up a directory relative to workdir\"\"\"\n",
      "    directory = abspath(join(workdir,directory))\n",
      "    if not isdir(directory):\n",
      "        makedirs(directory)\n",
      "    chdir(directory)\n",
      "    print(\"We are in directory \" + directory)\n",
      "    \n",
      "# The directory that will contains the Git repository\n",
      "changedir('repo')"
     ],
     "language": "python",
     "metadata": {},
     "outputs": [
      {
       "output_type": "stream",
       "stream": "stdout",
       "text": [
        "We are in directory /Users/stentzel/git-training/repo\n"
       ]
      }
     ],
     "prompt_number": 32
    },
    {
     "cell_type": "heading",
     "level": 3,
     "metadata": {},
     "source": [
      "The init command"
     ]
    },
    {
     "cell_type": "markdown",
     "metadata": {},
     "source": [
      "A Git **repository** is created in the current directory using the **init** command.\n",
      "    \n",
      "This will create a `.git` hidden directory, where Git stores its database."
     ]
    },
    {
     "cell_type": "code",
     "collapsed": false,
     "input": [
      "%%bash\n",
      "\n",
      "git init\n",
      "ls -la"
     ],
     "language": "python",
     "metadata": {},
     "outputs": [
      {
       "output_type": "stream",
       "stream": "stdout",
       "text": [
        "Initialized empty Git repository in /Users/stentzel/git-training/repo/.git/\n",
        "total 0\n",
        "drwxr-xr-x   3 stentzel  sed  102 24 nov 10:59 .\n",
        "drwxr-xr-x   3 stentzel  sed  102 24 nov 10:59 ..\n",
        "drwxr-xr-x  10 stentzel  sed  340 24 nov 10:59 .git\n"
       ]
      }
     ],
     "prompt_number": 33
    },
    {
     "cell_type": "markdown",
     "metadata": {},
     "source": [
      "You can now start developing. For example, we may write \"First Line\" in a file called ``foo.txt``. But in practice, we would probably want to write some real source code."
     ]
    },
    {
     "cell_type": "code",
     "collapsed": false,
     "input": [
      "%%bash\n",
      "\n",
      "echo \"First line\" > foo.txt"
     ],
     "language": "python",
     "metadata": {},
     "outputs": [],
     "prompt_number": 34
    },
    {
     "cell_type": "heading",
     "level": 3,
     "metadata": {},
     "source": [
      "The staging area and add commmand"
     ]
    },
    {
     "cell_type": "markdown",
     "metadata": {},
     "source": [
      "We ask Git to track changes in the file ``foo`` using **add** command"
     ]
    },
    {
     "cell_type": "code",
     "collapsed": false,
     "input": [
      "%%bash\n",
      "\n",
      "git add foo.txt"
     ],
     "language": "python",
     "metadata": {},
     "outputs": [],
     "prompt_number": 35
    },
    {
     "cell_type": "markdown",
     "metadata": {},
     "source": [
      "This command does two things:\n",
      "  - Because this is the first time we use **add** on foo.txt, it tells Git to track changes of this file.\n",
      "  - The second thing is more subtle. **add** adds the file and its content to what is called the **staging area**, which is in the **.git** directory. Later, we will use the **commit** command to commit ``foo.txt`` into Git database. What Git put into its database is not the content of ``foo.txt`` file, located in ``~/git-training/repo`` directory: it puts the content of the file as it is in the **staging_area**, which may differ.\n",
      "  \n",
      "Let us see it in action on our example."
     ]
    },
    {
     "cell_type": "markdown",
     "metadata": {},
     "source": [
      "Until now, we have:\n",
      "  - written ``First line`` in ``foo.txt``,\n",
      "  - run **add** command on ``foo.txt``.\n",
      " \n",
      "So:\n",
      "  - ``foo.txt`` in the working directory contains ``First line``.\n",
      "  - ``foo.txt`` in the staging area contains ``First line`` as well.\n",
      "  \n",
      "Now suppose that we add another line in ``foo.txt``."
     ]
    },
    {
     "cell_type": "code",
     "collapsed": false,
     "input": [
      "%%bash\n",
      "\n",
      "echo \"Second line\" >> foo.txt"
     ],
     "language": "python",
     "metadata": {},
     "outputs": [],
     "prompt_number": 36
    },
    {
     "cell_type": "markdown",
     "metadata": {},
     "source": [
      "Now:\n",
      "  - ``foo.txt`` in the working directory contains ``First line`` and ``Second line``.\n",
      "  - ``foo.txt`` in the staging area still contains ``First line`` only.\n",
      "    \n",
      "If we commit ``foo.txt`` into the Git database now, using **commit** command, it will commit the file as it is in the staging area.\n",
      "\n",
      "To update the staging area, we use **add** command again, which copies ``myfile.txt`` from the working directory into the staging area."
     ]
    },
    {
     "cell_type": "code",
     "collapsed": false,
     "input": [
      "%%bash\n",
      "\n",
      "git add foo.txt"
     ],
     "language": "python",
     "metadata": {},
     "outputs": [],
     "prompt_number": 37
    },
    {
     "cell_type": "markdown",
     "metadata": {},
     "source": [
      "Using the staging area, we can choose and prepare exactly what to commit. For example, we may want to commit unrelated changes in our files in two separate commits. The staging area allows us to do it easily."
     ]
    },
    {
     "cell_type": "heading",
     "level": 3,
     "metadata": {},
     "source": [
      "Commit command"
     ]
    },
    {
     "cell_type": "markdown",
     "metadata": {},
     "source": [
      "Now, ``foo.txt`` version of the staging area will be committed into the Git database.\n",
      "\n",
      "A message is written with the commit, to help remember its meaning."
     ]
    },
    {
     "cell_type": "code",
     "collapsed": false,
     "input": [
      "%%bash\n",
      "\n",
      "git commit -m 'Two lines in the new foo.txt file.'"
     ],
     "language": "python",
     "metadata": {},
     "outputs": [
      {
       "output_type": "stream",
       "stream": "stdout",
       "text": [
        "[master (root-commit) 656e8cd] Two lines in the new foo.txt file.\n",
        " 1 file changed, 2 insertions(+)\n",
        " create mode 100644 foo.txt\n"
       ]
      }
     ],
     "prompt_number": 38
    },
    {
     "cell_type": "heading",
     "level": 3,
     "metadata": {},
     "source": [
      "The diff and status command"
     ]
    },
    {
     "cell_type": "markdown",
     "metadata": {},
     "source": [
      "Modify the ``foo.txt`` file, and observe the outputs of the **diff** and **status** commands"
     ]
    },
    {
     "cell_type": "code",
     "collapsed": false,
     "input": [
      "%%bash\n",
      "\n",
      "echo 'Third line' >> foo.txt"
     ],
     "language": "python",
     "metadata": {},
     "outputs": [],
     "prompt_number": 39
    },
    {
     "cell_type": "code",
     "collapsed": false,
     "input": [
      "%%bash\n",
      "\n",
      "git diff"
     ],
     "language": "python",
     "metadata": {},
     "outputs": [
      {
       "output_type": "stream",
       "stream": "stdout",
       "text": [
        "diff --git a/foo.txt b/foo.txt\n",
        "index 7d91453..6da4d3e 100644\n",
        "--- a/foo.txt\n",
        "+++ b/foo.txt\n",
        "@@ -1,2 +1,3 @@\n",
        " First line\n",
        " Second line\n",
        "+Third line\n"
       ]
      }
     ],
     "prompt_number": 40
    },
    {
     "cell_type": "code",
     "collapsed": false,
     "input": [
      "%%bash\n",
      "\n",
      "git status"
     ],
     "language": "python",
     "metadata": {},
     "outputs": [
      {
       "output_type": "stream",
       "stream": "stdout",
       "text": [
        "On branch master\n",
        "Changes not staged for commit:\n",
        "  (use \"git add <file>...\" to update what will be committed)\n",
        "  (use \"git checkout -- <file>...\" to discard changes in working directory)\n",
        "\n",
        "\tmodified:   foo.txt\n",
        "\n",
        "no changes added to commit (use \"git add\" and/or \"git commit -a\")\n"
       ]
      }
     ],
     "prompt_number": 41
    },
    {
     "cell_type": "markdown",
     "metadata": {},
     "source": [
      "Stage the file, and observe the new output of **diff** and **log** commands"
     ]
    },
    {
     "cell_type": "code",
     "collapsed": false,
     "input": [
      "%%bash\n",
      "\n",
      "git add foo.txt"
     ],
     "language": "python",
     "metadata": {},
     "outputs": [],
     "prompt_number": 42
    },
    {
     "cell_type": "code",
     "collapsed": false,
     "input": [
      "%%bash\n",
      "\n",
      "git diff"
     ],
     "language": "python",
     "metadata": {},
     "outputs": [],
     "prompt_number": 43
    },
    {
     "cell_type": "code",
     "collapsed": false,
     "input": [
      "%%bash\n",
      "\n",
      "git diff --cached"
     ],
     "language": "python",
     "metadata": {},
     "outputs": [
      {
       "output_type": "stream",
       "stream": "stdout",
       "text": [
        "diff --git a/foo.txt b/foo.txt\n",
        "index 7d91453..6da4d3e 100644\n",
        "--- a/foo.txt\n",
        "+++ b/foo.txt\n",
        "@@ -1,2 +1,3 @@\n",
        " First line\n",
        " Second line\n",
        "+Third line\n"
       ]
      }
     ],
     "prompt_number": 44
    },
    {
     "cell_type": "code",
     "collapsed": false,
     "input": [
      "%%bash\n",
      "\n",
      "git status"
     ],
     "language": "python",
     "metadata": {},
     "outputs": [
      {
       "output_type": "stream",
       "stream": "stdout",
       "text": [
        "On branch master\n",
        "Changes to be committed:\n",
        "  (use \"git reset HEAD <file>...\" to unstage)\n",
        "\n",
        "\tmodified:   foo.txt\n",
        "\n"
       ]
      }
     ],
     "prompt_number": 45
    },
    {
     "cell_type": "markdown",
     "metadata": {},
     "source": [
      "Commit the file."
     ]
    },
    {
     "cell_type": "code",
     "collapsed": false,
     "input": [
      "%%bash\n",
      "\n",
      "git commit -m 'Add third line to file.txt'"
     ],
     "language": "python",
     "metadata": {},
     "outputs": [
      {
       "output_type": "stream",
       "stream": "stdout",
       "text": [
        "[master a4d45ae] Add third line to file.txt\n",
        " 1 file changed, 1 insertion(+)\n"
       ]
      }
     ],
     "prompt_number": 46
    },
    {
     "cell_type": "heading",
     "level": 3,
     "metadata": {},
     "source": [
      "The log command"
     ]
    },
    {
     "cell_type": "markdown",
     "metadata": {},
     "source": [
      "The **log** command prints an history of all the commits."
     ]
    },
    {
     "cell_type": "code",
     "collapsed": false,
     "input": [
      "%%bash\n",
      "git log"
     ],
     "language": "python",
     "metadata": {},
     "outputs": [
      {
       "output_type": "stream",
       "stream": "stdout",
       "text": [
        "commit a4d45aefa80461e46df6461862c4dc57d8107ae2\n",
        "Author: C\u00e9cile Stentzel <cecile.stentzel@inria.fr>\n",
        "Date:   Mon Nov 24 11:00:03 2014 +0100\n",
        "\n",
        "    Add third line to file.txt\n",
        "\n",
        "commit 656e8cda032572ffae4e4b800fcb99c2cf3516bd\n",
        "Author: C\u00e9cile Stentzel <cecile.stentzel@inria.fr>\n",
        "Date:   Mon Nov 24 10:59:58 2014 +0100\n",
        "\n",
        "    Two lines in the new foo.txt file.\n"
       ]
      }
     ],
     "prompt_number": 47
    },
    {
     "cell_type": "code",
     "collapsed": false,
     "input": [
      "%%bash\n",
      "git log -p"
     ],
     "language": "python",
     "metadata": {},
     "outputs": [
      {
       "output_type": "stream",
       "stream": "stdout",
       "text": [
        "commit a4d45aefa80461e46df6461862c4dc57d8107ae2\n",
        "Author: C\u00e9cile Stentzel <cecile.stentzel@inria.fr>\n",
        "Date:   Mon Nov 24 11:00:03 2014 +0100\n",
        "\n",
        "    Add third line to file.txt\n",
        "\n",
        "diff --git a/foo.txt b/foo.txt\n",
        "index 7d91453..6da4d3e 100644\n",
        "--- a/foo.txt\n",
        "+++ b/foo.txt\n",
        "@@ -1,2 +1,3 @@\n",
        " First line\n",
        " Second line\n",
        "+Third line\n",
        "\n",
        "commit 656e8cda032572ffae4e4b800fcb99c2cf3516bd\n",
        "Author: C\u00e9cile Stentzel <cecile.stentzel@inria.fr>\n",
        "Date:   Mon Nov 24 10:59:58 2014 +0100\n",
        "\n",
        "    Two lines in the new foo.txt file.\n",
        "\n",
        "diff --git a/foo.txt b/foo.txt\n",
        "new file mode 100644\n",
        "index 0000000..7d91453\n",
        "--- /dev/null\n",
        "+++ b/foo.txt\n",
        "@@ -0,0 +1,2 @@\n",
        "+First line\n",
        "+Second line\n"
       ]
      }
     ],
     "prompt_number": 48
    },
    {
     "cell_type": "heading",
     "level": 3,
     "metadata": {},
     "source": [
      "Checkout command"
     ]
    },
    {
     "cell_type": "markdown",
     "metadata": {},
     "source": [
      "**checkout** command restores a previous commit. We are in a ``detached HEAD`` state, which will be explained later in ``branch`` section."
     ]
    },
    {
     "cell_type": "code",
     "collapsed": false,
     "input": [
      "%%bash\n",
      "git checkout master^"
     ],
     "language": "python",
     "metadata": {},
     "outputs": [
      {
       "output_type": "stream",
       "stream": "stderr",
       "text": [
        "Note: checking out 'master^'.\n",
        "\n",
        "You are in 'detached HEAD' state. You can look around, make experimental\n",
        "changes and commit them, and you can discard any commits you make in this\n",
        "state without impacting any branches by performing another checkout.\n",
        "\n",
        "If you want to create a new branch to retain commits you create, you may\n",
        "do so (now or later) by using -b with the checkout command again. Example:\n",
        "\n",
        "  git checkout -b new_branch_name\n",
        "\n",
        "HEAD is now at 656e8cd... Two lines in the new foo.txt file.\n"
       ]
      }
     ],
     "prompt_number": 49
    },
    {
     "cell_type": "code",
     "collapsed": false,
     "input": [
      "%%bash\n",
      "cat foo.txt"
     ],
     "language": "python",
     "metadata": {},
     "outputs": [
      {
       "output_type": "stream",
       "stream": "stdout",
       "text": [
        "First line\n",
        "Second line\n"
       ]
      }
     ],
     "prompt_number": 50
    },
    {
     "cell_type": "code",
     "collapsed": false,
     "input": [
      "%%bash\n",
      "git checkout master"
     ],
     "language": "python",
     "metadata": {},
     "outputs": [
      {
       "output_type": "stream",
       "stream": "stderr",
       "text": [
        "Previous HEAD position was 656e8cd... Two lines in the new foo.txt file.\n",
        "Switched to branch 'master'\n"
       ]
      }
     ],
     "prompt_number": 51
    },
    {
     "cell_type": "code",
     "collapsed": false,
     "input": [
      "%%bash\n",
      "cat foo.txt"
     ],
     "language": "python",
     "metadata": {},
     "outputs": [
      {
       "output_type": "stream",
       "stream": "stdout",
       "text": [
        "First line\n",
        "Second line\n",
        "Third line\n"
       ]
      }
     ],
     "prompt_number": 52
    },
    {
     "cell_type": "heading",
     "level": 3,
     "metadata": {},
     "source": [
      "Git commits"
     ]
    },
    {
     "cell_type": "markdown",
     "metadata": {},
     "source": [
      "To take advantages of all the powerfull features of Git, it is important to underdand what actually a **commit** is.\n",
      "\n",
      "The first thing to know is that Git has stored in its database 2 commits that contains the full 2 versions of the file ``foo.txt``.\n",
      "  - At the first commit, Git has stored in its database  a commit containing ``First line``.\n",
      "  - At the second commit, Git has stored in its database a commit containing not the difference of the two versions, but the whole file: ``First line`` (duplicated in Git database) and ``Second line``.\n",
      "  - After the third commit, ``First line`` **is** duplicated in the 2 different commits in Git database.\n",
      "  \n",
      "Note that for performance, Git has the ability to efficiently compresses its database and stores differences only (especially during network communication), but the model is to store the whole content of files of each commit.\n",
      "\n",
      "This yields to a very simple model. A commit contains the directories and files we have commited (called ``tree`` and ``blob`` in Git), plus some metadata.\n",
      "\n",
      "In Git, a commit contains:\n",
      "  - One parent commit (or more).\n",
      "  - The (root) tree (which itself contains trees and blobs).\n",
      "  - The commit message.\n",
      "  - The author.\n",
      "  - The commit date."
     ]
    },
    {
     "cell_type": "heading",
     "level": 3,
     "metadata": {},
     "source": [
      "The SHA-1"
     ]
    },
    {
     "cell_type": "markdown",
     "metadata": {},
     "source": [
      "Git uses **SHA-1** cryptographic hash function to identify each object (**commit**, **tree**, **blob**) with a hash value. Such an hash value may look like the following one:  ``0e1e060688a560015614cf7ec4b77d8a0df07c2f``.\n",
      "\n",
      "The hash value is computed from the object content. It is almost impossible that **SHA-1** gives the same hash value for two different contents. The risk of collision is almost zero, and we consider it to be zero.\n",
      "\n",
      "Each hash value identifies only one commit. It also identifies all the directories and files that makes the commit. Note that parent commits are also part of the commit:  two commits sharing same files and directories, but with different commit parents, will have different hash values.\n",
      "\n",
      "Note:\n",
      "  - if two developpers create exactly the same commit on two different computers, the hash value will be the same,\n",
      "  - we know that two commits are different by only comparing their hash values,\n",
      "  - hash value is very fast to compute: if a whole tree in a commit has not changed, Git does not have to recompute it."
     ]
    },
    {
     "cell_type": "heading",
     "level": 3,
     "metadata": {},
     "source": [
      "Git branches"
     ]
    },
    {
     "cell_type": "markdown",
     "metadata": {},
     "source": [
      "Suppose we now want to try developing a new feature in our code, while continuing our previous work on ``foo.txt``.\n",
      "\n",
      "Git encourages creating a branch for this. \n",
      "\n",
      "A branch is created with **branch** command, followed by a branch **name**:"
     ]
    },
    {
     "cell_type": "code",
     "collapsed": false,
     "input": [
      "%%bash\n",
      "\n",
      "git branch bar"
     ],
     "language": "python",
     "metadata": {},
     "outputs": [],
     "prompt_number": 53
    },
    {
     "cell_type": "markdown",
     "metadata": {},
     "source": [
      "Without any argument, **branch** command lists all the branches and marks the current one with an asterix."
     ]
    },
    {
     "cell_type": "code",
     "collapsed": false,
     "input": [
      "%%bash\n",
      "\n",
      "git branch"
     ],
     "language": "python",
     "metadata": {},
     "outputs": [
      {
       "output_type": "stream",
       "stream": "stdout",
       "text": [
        "  bar\n",
        "* master\n"
       ]
      }
     ],
     "prompt_number": 54
    },
    {
     "cell_type": "markdown",
     "metadata": {},
     "source": [
      "**checkout** command allows you to switch to another branch:"
     ]
    },
    {
     "cell_type": "code",
     "collapsed": false,
     "input": [
      "%%bash\n",
      "\n",
      "git checkout bar\n",
      "git branch"
     ],
     "language": "python",
     "metadata": {},
     "outputs": [
      {
       "output_type": "stream",
       "stream": "stdout",
       "text": [
        "* bar\n",
        "  master\n"
       ]
      },
      {
       "output_type": "stream",
       "stream": "stderr",
       "text": [
        "Switched to branch 'bar'\n"
       ]
      }
     ],
     "prompt_number": 55
    },
    {
     "cell_type": "markdown",
     "metadata": {},
     "source": [
      "Now, let us develop something in the two branches:"
     ]
    },
    {
     "cell_type": "code",
     "collapsed": false,
     "input": [
      "%%bash\n",
      "\n",
      "echo 'First line' > bar.txt\n",
      "git add bar.txt\n",
      "git commit -m 'First line of bar.txt'\n",
      "\n",
      "echo 'Second line' >> bar.txt\n",
      "git add bar.txt\n",
      "git commit -m 'Second line of bar.txt'\n",
      "\n",
      "git checkout master\n",
      "echo \"Fourth line\" >> foo.txt\n",
      "git add foo.txt\n",
      "git commit -m  'Fourth line of foo.txt'\n",
      "\n",
      "echo \"Five line\" >> foo.txt\n",
      "git add foo.txt\n",
      "git commit -m 'Fifth line of foo.txt'\n",
      "\n",
      "git checkout bar\n",
      "echo 'Third line' >> bar.txt\n",
      "git add bar.txt\n",
      "git commit -m 'Second line of bar.txt'"
     ],
     "language": "python",
     "metadata": {},
     "outputs": [
      {
       "output_type": "stream",
       "stream": "stdout",
       "text": [
        "[bar f788c0f] First line of bar.txt\n",
        " 1 file changed, 1 insertion(+)\n",
        " create mode 100644 bar.txt\n",
        "[bar cf23407] Second line of bar.txt\n",
        " 1 file changed, 1 insertion(+)\n",
        "[master b25e427] Fourth line of foo.txt\n",
        " 1 file changed, 1 insertion(+)\n",
        "[master c677188] Fifth line of foo.txt\n",
        " 1 file changed, 1 insertion(+)\n",
        "[bar 0b8ea54] Second line of bar.txt\n",
        " 1 file changed, 1 insertion(+)\n"
       ]
      },
      {
       "output_type": "stream",
       "stream": "stderr",
       "text": [
        "Switched to branch 'master'\n",
        "Switched to branch 'bar'\n"
       ]
      }
     ],
     "prompt_number": 56
    },
    {
     "cell_type": "heading",
     "level": 3,
     "metadata": {},
     "source": [
      "The merge command"
     ]
    },
    {
     "cell_type": "markdown",
     "metadata": {},
     "source": [
      "We merge the work of the two branches. More specifically, we merge **bar** branch into **master** branch"
     ]
    },
    {
     "cell_type": "code",
     "collapsed": false,
     "input": [
      "%%bash\n",
      "\n",
      "git checkout master\n",
      "git merge bar"
     ],
     "language": "python",
     "metadata": {},
     "outputs": [
      {
       "output_type": "stream",
       "stream": "stdout",
       "text": [
        "Merge made by the 'recursive' strategy.\n",
        " bar.txt | 3 +++\n",
        " 1 file changed, 3 insertions(+)\n",
        " create mode 100644 bar.txt\n"
       ]
      },
      {
       "output_type": "stream",
       "stream": "stderr",
       "text": [
        "Switched to branch 'master'\n"
       ]
      }
     ],
     "prompt_number": 57
    },
    {
     "cell_type": "markdown",
     "metadata": {},
     "source": [
      "Bescause there is no conflict, the merge is performed automatically. In case of confict (same lines of a file modified in both branches):\n",
      "   - the merge operation stops,\n",
      "   - the developper edits the conflicted files, and solves the conflict,\n",
      "   - the developper commits the merged files."
     ]
    },
    {
     "cell_type": "heading",
     "level": 3,
     "metadata": {},
     "source": [
      "What Git branches are"
     ]
    },
    {
     "cell_type": "markdown",
     "metadata": {},
     "source": [
      "Edit the file ``~/.gitconfig`` and add the content:\n",
      "\n",
      "    [alias]\n",
      "      graph = log --graph --full-history --all --color --pretty=tformat:\"%x1b[31m%h%x09%x1b[32m%d%x1b[0m%x20%s%x20%x1b[33m(%an)%x1b[0m\"\n",
      "\n",
      "This will provide Git with a usefull **gr** command, that displays a colored graph of the branches."
     ]
    },
    {
     "cell_type": "code",
     "collapsed": false,
     "input": [
      "%%bash\n",
      "\n",
      "git graph"
     ],
     "language": "python",
     "metadata": {},
     "outputs": [
      {
       "output_type": "stream",
       "stream": "stdout",
       "text": [
        "*   \u001b[31mc2ae6ee\t\u001b[32m (HEAD, master)\u001b[0m Merge branch 'bar' \u001b[33m(C\u00e9cile Stentzel)\u001b[0m\n",
        "\u001b[31m|\u001b[m\u001b[32m\\\u001b[m  \n",
        "\u001b[31m|\u001b[m * \u001b[31m0b8ea54\t\u001b[32m (bar)\u001b[0m Second line of bar.txt \u001b[33m(C\u00e9cile Stentzel)\u001b[0m\n",
        "\u001b[31m|\u001b[m * \u001b[31mcf23407\t\u001b[32m\u001b[0m Second line of bar.txt \u001b[33m(C\u00e9cile Stentzel)\u001b[0m\n",
        "\u001b[31m|\u001b[m * \u001b[31mf788c0f\t\u001b[32m\u001b[0m First line of bar.txt \u001b[33m(C\u00e9cile Stentzel)\u001b[0m\n",
        "* \u001b[32m|\u001b[m \u001b[31mc677188\t\u001b[32m\u001b[0m Fifth line of foo.txt \u001b[33m(C\u00e9cile Stentzel)\u001b[0m\n",
        "* \u001b[32m|\u001b[m \u001b[31mb25e427\t\u001b[32m\u001b[0m Fourth line of foo.txt \u001b[33m(C\u00e9cile Stentzel)\u001b[0m\n",
        "\u001b[32m|\u001b[m\u001b[32m/\u001b[m  \n",
        "* \u001b[31ma4d45ae\t\u001b[32m\u001b[0m Add third line to file.txt \u001b[33m(C\u00e9cile Stentzel)\u001b[0m\n",
        "* \u001b[31m656e8cd\t\u001b[32m\u001b[0m Two lines in the new foo.txt file. \u001b[33m(C\u00e9cile Stentzel)\u001b[0m\n"
       ]
      }
     ],
     "prompt_number": 58
    },
    {
     "cell_type": "markdown",
     "metadata": {},
     "source": [
      "All the commits form a chain, in which each commit is linked to its parent.\n",
      "\n",
      "Creating a branch means having two commits with the same parent, while merging means creating a commit with two parents.\n",
      "\n",
      "We can now give a simple definition of a branch : their are just a reference/pointer/name for a given commit.\n",
      "\n",
      "Two special branches are:\n",
      "   - **master**, the original branch when a repository is created. That's a branch like the others.\n",
      "   - **HEAD**, the current branch, which is updated after each commit.\n",
      "   \n",
      "The situation of a **detached HEAD** seen above means restoring an old commit, while leaving HEAD pointing to the commit we where in.\n",
      "\n",
      "Note: with this knowledge on commits and branches, some Git features not demonstrated here will be easy to understand:\n",
      "    - rebase\n",
      "    - fast-forward\n",
      "    - tag"
     ]
    },
    {
     "cell_type": "heading",
     "level": 2,
     "metadata": {},
     "source": [
      "Centralized version control"
     ]
    },
    {
     "cell_type": "markdown",
     "metadata": {},
     "source": [
      "Now we have learned how to work with a single Git repository, we will learn how to send/receive commits between two Git repositories\n",
      "\n",
      "In this section, we will consider the workflow of two developpers:\n",
      "    - Alice,\n",
      "    - Bob,\n",
      "\n",
      "each one having its own repository on its computer:\n",
      "    - Alice repository A on Alice's computer,\n",
      "    - Bob repository B on Bob's computer.\n",
      "    \n",
      "and a central repository on a computer that both Alice and Bob can communicate with:\n",
      "    - central repository C on a \"server\".\n",
      "    \n",
      "For simplicity, we will demonstrate the commands on the same machine, using Git **file://** protocol. However, Git commands would be **exactly the same**, but using instead the **ssh://** or **https://** protocols.\n",
      "\n",
      "Note that configuring a \"server\" machine to host a Git repository and managing users permissions, backup, availability, Web views of the repository, etc. is not easy. Forges like **GitHub**, **Bitbucket**, **Gitorious** shoudl be preferred."
     ]
    },
    {
     "cell_type": "code",
     "collapsed": false,
     "input": [
      "changedir(workdir)"
     ],
     "language": "python",
     "metadata": {},
     "outputs": []
    },
    {
     "cell_type": "heading",
     "level": 3,
     "metadata": {},
     "source": [
      "Init --bare command"
     ]
    },
    {
     "cell_type": "markdown",
     "metadata": {},
     "source": [
      "We start by creating a central repository.\n",
      "\n",
      "There is a subtlety. Suppose we create a git repository in ``~/git-training/central`` and that someone else edits files in this Git repository. \n",
      "\n",
      "It is possible that someone else sends commits (in Git, this is call **push**) in this repository, which would be stored in ``~/git-training/central/.git``. Then Git database and the files in the directory would be inconsistent.\n",
      "\n",
      "To avoid this situtation, Git provides **--bare** options to **init**. It creates a Git repository, but without working directory. Nobody can **commit** directly into this repository, but only **send** commits via **pushes**.\n",
      "\n",
      "Never **push** commits to a Git repository that is not **bare**, to avoid inconsistency with its working directory.\n",
      "\n",
      "By convention, **bare** repositories are suffixed with **.git**, even if it is not necessary."
     ]
    },
    {
     "cell_type": "code",
     "collapsed": false,
     "input": [
      "%%bash\n",
      "\n",
      "git init --bare central.git\n",
      "ls -l central.git"
     ],
     "language": "python",
     "metadata": {},
     "outputs": []
    },
    {
     "cell_type": "markdown",
     "metadata": {},
     "source": [
      "Alice clones the central repository:"
     ]
    },
    {
     "cell_type": "code",
     "collapsed": false,
     "input": [
      "%%bash\n",
      "\n",
      "git clone file://$PWD/central.git alice"
     ],
     "language": "python",
     "metadata": {},
     "outputs": []
    },
    {
     "cell_type": "markdown",
     "metadata": {},
     "source": [
      "Alice enter her Git repository"
     ]
    },
    {
     "cell_type": "code",
     "collapsed": false,
     "input": [
      "changedir('alice')"
     ],
     "language": "python",
     "metadata": {},
     "outputs": []
    },
    {
     "cell_type": "heading",
     "level": 3,
     "metadata": {},
     "source": [
      "Remote command"
     ]
    },
    {
     "cell_type": "markdown",
     "metadata": {},
     "source": [
      "Without argument, *remote* command lists the **remote** repository Git know about:"
     ]
    },
    {
     "cell_type": "code",
     "collapsed": false,
     "input": [
      "%%bash\n",
      "\n",
      "git remote"
     ],
     "language": "python",
     "metadata": {},
     "outputs": []
    },
    {
     "cell_type": "markdown",
     "metadata": {},
     "source": [
      "When the central repository has been cloned, Git has given it the name **origin**, by convention.\n",
      "\n",
      "Later, we will learn how to register additionnal remote repositories.\n",
      "\n",
      "Alice works and commits into her repository:"
     ]
    },
    {
     "cell_type": "code",
     "collapsed": false,
     "input": [
      "%%bash\n",
      "\n",
      "echo 'First line' > foo.txt\n",
      "git add foo.txt\n",
      "git commit -m 'First line of foo.txt'\n",
      "\n",
      "echo 'Second line' >> foo.txt\n",
      "git add foo.txt\n",
      "git commit -m 'Second line of foo.txt'"
     ],
     "language": "python",
     "metadata": {},
     "outputs": []
    },
    {
     "cell_type": "heading",
     "level": 3,
     "metadata": {},
     "source": [
      "Push command"
     ]
    },
    {
     "cell_type": "markdown",
     "metadata": {},
     "source": [
      "Now, Alice wants to send her commits to the central repository, so that Bob can get them.\n",
      "\n",
      "To send her commits to the central repository, Alice uses **push** command, whose arguments are:\n",
      "\n",
      "    git push <remote_name> <local_branch>:<remote_branch>\n",
      "    \n",
      "The remote_name is **origin**, Alice pushes **master** branch of her repository to **master** branch of the central repository:\n",
      "   "
     ]
    },
    {
     "cell_type": "code",
     "collapsed": false,
     "input": [
      "%%bash\n",
      "\n",
      "git push origin master:master"
     ],
     "language": "python",
     "metadata": {},
     "outputs": []
    },
    {
     "cell_type": "code",
     "collapsed": false,
     "input": [
      "changedir(workdir)"
     ],
     "language": "python",
     "metadata": {},
     "outputs": []
    },
    {
     "cell_type": "markdown",
     "metadata": {},
     "source": [
      "Bob now clones the central repository too:"
     ]
    },
    {
     "cell_type": "code",
     "collapsed": false,
     "input": [
      "%%bash\n",
      "\n",
      "git clone file://$PWD/central.git bob"
     ],
     "language": "python",
     "metadata": {},
     "outputs": []
    },
    {
     "cell_type": "code",
     "collapsed": false,
     "input": [
      "changedir('bob')"
     ],
     "language": "python",
     "metadata": {},
     "outputs": []
    },
    {
     "cell_type": "markdown",
     "metadata": {},
     "source": [
      "It brings him the work of Alice."
     ]
    },
    {
     "cell_type": "code",
     "collapsed": false,
     "input": [
      "%%bash\n",
      "\n",
      "git log"
     ],
     "language": "python",
     "metadata": {},
     "outputs": []
    },
    {
     "cell_type": "markdown",
     "metadata": {},
     "source": [
      "Bob makes some changes, commits and pushes:"
     ]
    },
    {
     "cell_type": "code",
     "collapsed": false,
     "input": [
      "%%bash\n",
      "\n",
      "echo \"Third line\" >> foo.txt\n",
      "git add foo.txt\n",
      "git commit -m \"Third line to foo.txt\"\n",
      "git push origin master:master"
     ],
     "language": "python",
     "metadata": {},
     "outputs": []
    },
    {
     "cell_type": "heading",
     "level": 3,
     "metadata": {},
     "source": [
      "Fetch command"
     ]
    },
    {
     "cell_type": "code",
     "collapsed": false,
     "input": [
      "changedir('alice')"
     ],
     "language": "python",
     "metadata": {},
     "outputs": []
    },
    {
     "cell_type": "markdown",
     "metadata": {},
     "source": [
      "Alice wants to get Bob's commits. She\n",
      "uses **fetch** command, which donwloads all the commits of all branches from a repository."
     ]
    },
    {
     "cell_type": "code",
     "collapsed": false,
     "input": [
      "%%bash\n",
      "\n",
      "git fetch origin"
     ],
     "language": "python",
     "metadata": {},
     "outputs": []
    },
    {
     "cell_type": "heading",
     "level": 3,
     "metadata": {},
     "source": [
      "Remote branches"
     ]
    },
    {
     "cell_type": "markdown",
     "metadata": {},
     "source": [
      "Git **branch** command lists all branches of Alice's repository:"
     ]
    },
    {
     "cell_type": "code",
     "collapsed": false,
     "input": [
      "%%bash\n",
      "\n",
      "git branch"
     ],
     "language": "python",
     "metadata": {},
     "outputs": []
    },
    {
     "cell_type": "markdown",
     "metadata": {},
     "source": [
      "But where are the **central** repository branches which have just been downloaded?\n",
      "\n",
      "Adding **-a** option to **branch** command reveals them:"
     ]
    },
    {
     "cell_type": "code",
     "collapsed": false,
     "input": [
      "%%bash\n",
      "\n",
      "git branch -a"
     ],
     "language": "python",
     "metadata": {},
     "outputs": []
    },
    {
     "cell_type": "markdown",
     "metadata": {},
     "source": [
      "``remotes/central/master.git`` is called a **remote branch**. \n",
      "\n",
      "A **remote branch** is a read-only branch that reflects the state of a branch on a remote. If the branch changes on the remote repository, use **fetch** again to refresh it."
     ]
    },
    {
     "cell_type": "markdown",
     "metadata": {},
     "source": [
      "To get all commits of ``remotes/central/master.git`` **remote branch** into **branch** master, merge it:"
     ]
    },
    {
     "cell_type": "code",
     "collapsed": false,
     "input": [
      "%%bash\n",
      "\n",
      "git merge remotes/origin/master"
     ],
     "language": "python",
     "metadata": {},
     "outputs": []
    },
    {
     "cell_type": "markdown",
     "metadata": {},
     "source": [
      "Note: **fetch** and **merge** operations can be accomplished in one command, **pull**:\n",
      "\n",
      "    git pull <remote_name> <remote_branch>:<local_branch>"
     ]
    },
    {
     "cell_type": "heading",
     "level": 3,
     "metadata": {},
     "source": [
      "Pushing feature branch"
     ]
    },
    {
     "cell_type": "markdown",
     "metadata": {},
     "source": [
      "While Alice and Bob are working on master branch, Alice wants to develop an experimental feature.\n",
      "\n",
      "She creates a branch for this, and works in it:"
     ]
    },
    {
     "cell_type": "code",
     "collapsed": false,
     "input": [
      "%%bash\n",
      "\n",
      "git branch exp\n",
      "git checkout exp\n",
      "\n",
      "echo \"First line\" > bar.txt\n",
      "git add bar.txt\n",
      "git commit -m 'First line of bar.txt'\n",
      "\n",
      "echo \"Second line\" >> bar.txt\n",
      "git add bar.txt\n",
      "git commit -m \"Second line in bar.txt\""
     ],
     "language": "python",
     "metadata": {},
     "outputs": []
    },
    {
     "cell_type": "markdown",
     "metadata": {},
     "source": [
      "Alice then pushes her branch to the central repository, in a branch of the same name, which is created in the central repository."
     ]
    },
    {
     "cell_type": "code",
     "collapsed": false,
     "input": [
      "%%bash\n",
      "\n",
      "git push origin exp:exp"
     ],
     "language": "python",
     "metadata": {},
     "outputs": []
    },
    {
     "cell_type": "heading",
     "level": 3,
     "metadata": {},
     "source": [
      "Tracking branch"
     ]
    },
    {
     "cell_type": "markdown",
     "metadata": {},
     "source": [
      "In the same time, Bob has worked on master branch:"
     ]
    },
    {
     "cell_type": "code",
     "collapsed": false,
     "input": [
      "changedir('bob')"
     ],
     "language": "python",
     "metadata": {},
     "outputs": []
    },
    {
     "cell_type": "code",
     "collapsed": false,
     "input": [
      "%%bash\n",
      "\n",
      "echo \"Third line\" >> foo.txt\n",
      "git add foo.txt\n",
      "git commit -m \"Third line in foo.txt\"\n",
      "\n",
      "echo \"Fourth line\" >> foo.txt\n",
      "git add foo.txt\n",
      "git commit -m \"Fourth line in foo.txt\""
     ],
     "language": "python",
     "metadata": {},
     "outputs": []
    },
    {
     "cell_type": "markdown",
     "metadata": {},
     "source": [
      "Bob wants to see the work of Alice on ``exp`` branch. He downloads all branches of the central repository:"
     ]
    },
    {
     "cell_type": "code",
     "collapsed": false,
     "input": [
      "%%bash\n",
      "\n",
      "git fetch\n",
      "git branch -a"
     ],
     "language": "python",
     "metadata": {},
     "outputs": []
    },
    {
     "cell_type": "markdown",
     "metadata": {},
     "source": [
      "Bob has remote branch ``remotes/central/exp``, but how to work with it?\n",
      "\n",
      "Adding **--track** option to **checkout** command makes Git create a **tracking branch**:"
     ]
    },
    {
     "cell_type": "code",
     "collapsed": false,
     "input": [
      "%%bash\n",
      "git checkout --track origin/exp"
     ],
     "language": "python",
     "metadata": {},
     "outputs": []
    },
    {
     "cell_type": "markdown",
     "metadata": {},
     "source": [
      "A tracking branch is our local copy of a remote branch. Unlike the remote branch, we have write access to.\n",
      "\n",
      "Tracking branch can also be used to use **pull** and **push** command without arguments."
     ]
    },
    {
     "cell_type": "markdown",
     "metadata": {},
     "source": [
      "Note that Alice and Bob can work on ``exp`` branch without disturbing ``master`` branch.\n",
      "  - if ``exp`` was not a good idea, the branch can be dropped,\n",
      "  - if ``exp`` is a good idea, it may be merged in master branch."
     ]
    },
    {
     "cell_type": "heading",
     "level": 3,
     "metadata": {},
     "source": [
      "Visualizing branches"
     ]
    },
    {
     "cell_type": "markdown",
     "metadata": {},
     "source": [
      "Bob  helps Alice to develop ``exp`` branch by making a new commit:"
     ]
    },
    {
     "cell_type": "code",
     "collapsed": false,
     "input": [
      "%%bash\n",
      "\n",
      "echo \"Third line\" >> bar.txt\n",
      "git add bar.txt\n",
      "git commit -m \"Third line in bar.txt\""
     ],
     "language": "python",
     "metadata": {},
     "outputs": []
    },
    {
     "cell_type": "markdown",
     "metadata": {},
     "source": [
      "At this point, it is instructive to visualize the differents branches:"
     ]
    },
    {
     "cell_type": "code",
     "collapsed": false,
     "input": [
      "%%bash\n",
      "\n",
      "git graph"
     ],
     "language": "python",
     "metadata": {},
     "outputs": []
    },
    {
     "cell_type": "markdown",
     "metadata": {},
     "source": [
      "We note that:\n",
      "    - Bob master branch has 2 more commits than the central one.\n",
      "    - Bob master branch has 1 more commit that the central one."
     ]
    },
    {
     "cell_type": "markdown",
     "metadata": {},
     "source": [
      "The verbose option of **branch** is useful to see tracking branches:"
     ]
    },
    {
     "cell_type": "code",
     "collapsed": false,
     "input": [
      "%%bash\n",
      "git branch -avv"
     ],
     "language": "python",
     "metadata": {},
     "outputs": []
    },
    {
     "cell_type": "markdown",
     "metadata": {},
     "source": [
      "Bob pushes the commits of the two branches."
     ]
    },
    {
     "cell_type": "code",
     "collapsed": false,
     "input": [
      "%%bash\n",
      "git push origin exp:exp\n",
      "git push origin master:master"
     ],
     "language": "python",
     "metadata": {},
     "outputs": []
    },
    {
     "cell_type": "code",
     "collapsed": false,
     "input": [
      "%%bash\n",
      "\n",
      "git checkout master\n",
      "\n",
      "git push origin master:master\n",
      "git graph"
     ],
     "language": "python",
     "metadata": {},
     "outputs": []
    },
    {
     "cell_type": "markdown",
     "metadata": {},
     "source": [
      "Finally, the ``exp`` branch is merged into master. The commit of the merge is pushed to the central repository, and the branch is deleted:"
     ]
    },
    {
     "cell_type": "code",
     "collapsed": false,
     "input": [
      "%%bash\n",
      "\n",
      "# We already are in the master branch\n",
      "\n",
      "git merge exp\n",
      "git push origin master:master\n",
      "git branch -d exp\n",
      "git graph"
     ],
     "language": "python",
     "metadata": {},
     "outputs": []
    },
    {
     "cell_type": "heading",
     "level": 2,
     "metadata": {},
     "source": [
      "Distributed workflow\n",
      "    \n",
      "    "
     ]
    },
    {
     "cell_type": "markdown",
     "metadata": {},
     "source": [
      "Committing to a central repository is ok for small team where developpers know each others\n",
      "\n",
      "For large projects, it is blocking and dangerous to give write access to the central repository to an external contributor.\n",
      "\n",
      "Git solves this problem with **forks**.\n",
      "\n",
      "When a developper wants to contribute to a project, it forks the original bare repository. It means that the developper get its own bare repository. In this repository, he develops a feature in a branch. When the work his done, he asks an administrator to pull the feature branch of his repository to the master branch of the central repository.\n",
      "\n",
      "This is called a **pull request**.\n",
      "\n",
      "Let us see this in practice by adding **Emma** developper to our previous example."
     ]
    },
    {
     "cell_type": "code",
     "collapsed": false,
     "input": [
      "changedir(workdir)"
     ],
     "language": "python",
     "metadata": {},
     "outputs": []
    },
    {
     "cell_type": "markdown",
     "metadata": {},
     "source": [
      "Emma starts by forking the central repository to her own bare repository.\n",
      "\n",
      "Note: this is a functionnality provided out of the box by Github\n",
      "    \n",
      "Then Emma clones her central repository."
     ]
    },
    {
     "cell_type": "code",
     "collapsed": false,
     "input": [
      "%%bash\n",
      "\n",
      "git clone --bare central.git central-emma-fork.git\n",
      "\n",
      "git clone central-emma-fork.git emma"
     ],
     "language": "python",
     "metadata": {},
     "outputs": []
    },
    {
     "cell_type": "code",
     "collapsed": false,
     "input": [
      "changedir('emma')"
     ],
     "language": "python",
     "metadata": {},
     "outputs": []
    },
    {
     "cell_type": "markdown",
     "metadata": {},
     "source": [
      "Emma creates a topic branch, works on it, and pushes it:"
     ]
    },
    {
     "cell_type": "code",
     "collapsed": false,
     "input": [
      "%%bash\n",
      "\n",
      "git branch baz\n",
      "git checkout baz\n",
      "\n",
      "echo \"First line\" > baz.txt\n",
      "git add baz.txt\n",
      "git commit -m 'First line in baz.txt'\n",
      "\n",
      "echo \"Second line\" >> baz.txt\n",
      "git add baz.txt\n",
      "git commit -m 'Second line in baz.txt'\n",
      "\n",
      "git push origin baz:baz"
     ],
     "language": "python",
     "metadata": {},
     "outputs": []
    },
    {
     "cell_type": "code",
     "collapsed": false,
     "input": [
      "changedir('alice')"
     ],
     "language": "python",
     "metadata": {},
     "outputs": []
    },
    {
     "cell_type": "markdown",
     "metadata": {},
     "source": [
      "The next step for Emma is to ask Alice to get **baz** branch of **central-emma-for** pulled into **master** branch for **central**.\n",
      "\n",
      "Note: Github provides functionnality to ask for pull request, and review the associated code.\n",
      "\n",
      "Alice fetches Emma's bare repository. To do this, she first adds Emma's bare repository to the list of her remote repositories."
     ]
    },
    {
     "cell_type": "code",
     "collapsed": false,
     "input": [
      "%%bash\n",
      "\n",
      "git remote add emma file://$HOME/git-training/central-emma-fork.git\n",
      "git fetch emma"
     ],
     "language": "python",
     "metadata": {},
     "outputs": []
    },
    {
     "cell_type": "markdown",
     "metadata": {},
     "source": [
      "At this point, Alice and Emmma can interact each other to add more commits to ``baz`` branch. When her work is done, Alice merges it to ``master``, and ``pushes``"
     ]
    },
    {
     "cell_type": "code",
     "collapsed": false,
     "input": [
      "%%bash\n",
      "\n",
      "git checkout master\n",
      "git merge emma/baz\n",
      "git push origin master:master"
     ],
     "language": "python",
     "metadata": {},
     "outputs": []
    },
    {
     "cell_type": "heading",
     "level": 2,
     "metadata": {},
     "source": [
      "References"
     ]
    },
    {
     "cell_type": "markdown",
     "metadata": {},
     "source": [
      "> http://www.git-scm.com/docs\n",
      "\n",
      "> http://githowto.com\n",
      "\n",
      "> \"Version Control with Git, Powerful tools and techniques for collaborative software development\" By Jon Loeliger, Matthew McCullough"
     ]
    }
   ],
   "metadata": {}
  }
 ]
}