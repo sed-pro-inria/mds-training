{
 "metadata": {
  "name": "",
  "signature": "sha256:4599402408065cff248acc480eb930020b1355f9fa23001b9d4b4284f26a862a"
 },
 "nbformat": 3,
 "nbformat_minor": 0,
 "worksheets": [
  {
   "cells": [
    {
     "cell_type": "heading",
     "level": 1,
     "metadata": {},
     "source": [
      "Version control with Git"
     ]
    },
    {
     "cell_type": "markdown",
     "metadata": {},
     "source": [
      "<img src=\"images/git_commit.png\">"
     ]
    },
    {
     "cell_type": "heading",
     "level": 2,
     "metadata": {},
     "source": [
      "Git, a distributed Version Control System"
     ]
    },
    {
     "cell_type": "markdown",
     "metadata": {},
     "source": [
      "Version control means keeping track of code evlolution by recording\n",
      "the code's state after each meaningful change. This is useful:\n",
      "  - To cancel a non-working modification\n",
      "  - To perform regression tests / continuous integration\n",
      "\n",
      "The database where the different states of the code are recorded can be:\n",
      "  - Local: the project has only one developer\n",
      "  - Centralised: it is available on a server but developers do not\n",
      "receive it when they get the project's sources (cvs, svn).\n",
      "  - Distributed: every developer that has the sources also has the full code\n",
      "history (git, mercurial, darcs).\n",
      "\n",
      "\n",
      "Version Control Manager:\n",
      "  - Source code is frequently **committed** into Git database, and each **commit** can be retrieved, shared with team.\n",
      "  - Keep, search your code history.\n",
      "  - Develop software in team efficiently.\n",
      "  \n",
      "Distributed:\n",
      "  - Unlike **SVN** which is **centralized**, **Git** is **distributed**. It means that Git does not require to use one central repository, but multiple ones may be used.\n",
      "  - When one downloads source code from a Git repository, it creates a new Git repository, with the full database. There is no conceptual difference between the two repositories.\n",
      "  - Offline work possibility\n",
      "  - Multiple possible workflows to collaborate with other developers.\n",
      "  \n",
      "Some terminology:\n",
      "  - Repository: the vesion-controlled project and optionally the database\n",
      "containing the project's history.\n",
      "  - Commit: one record of the code's state in the project's history.\n",
      "  - Branch: maintain several versions of the project in parallel\n",
      "  \n",
      "**Git** makes it easy to work with **branches**.\n",
      "  - Branches are easy to create, merge and destroy.\n",
      "  - Creating temporary branches to develop a feature is encouraged.\n",
      "  \n",
      "**Git** has a few core concepts that must be understood.\n",
      "   - Without knowing these core concepts, using Git is frustrating and painful.\n",
      "   - Knowing them, using Git is powerful and easy.\n",
      "   \n",
      "Thanks to Git's simplicity for creating new repositories and managing branches, a workflow adapted to your team may be chosen. For example:\n",
      "   - working with a central repository and contributing into branches (small private teams);\n",
      "   - working with forks and contributing with pull requests (large teams with external contributors).\n",
      "   \n",
      "This presentation deals with the core concepts of Git, so as to make its adoption easier."
     ]
    },
    {
     "cell_type": "heading",
     "level": 2,
     "metadata": {},
     "source": [
      "Local version control (only one Git repository)"
     ]
    },
    {
     "cell_type": "markdown",
     "metadata": {},
     "source": [
      "We start working on a single repository.\n",
      "\n",
      "In this section, we will learn the core concepts of Git:\n",
      "    - commits,\n",
      "    - staging area (index),\n",
      "    - branches.\n",
      "\n",
      "Start by creating a new empty directory to experiment with Git:"
     ]
    },
    {
     "cell_type": "code",
     "collapsed": false,
     "input": [
      "from os import makedirs, chdir, curdir, walk, sep\n",
      "from os.path import expanduser, isdir, abspath, join, relpath, basename\n",
      "from shutil import rmtree\n",
      "\n",
      "workdir = expanduser('~/git-training')\n",
      "\n",
      "# Remove possible existing working, and starts with a fresh one.\n",
      "if isdir(workdir):\n",
      "    rmtree(workdir)\n",
      "makedirs(workdir)\n",
      "\n",
      "def changedir(directory):\n",
      "    \"\"\"Set up a directory relative to workdir\"\"\"\n",
      "    directory = abspath(join(workdir,directory))\n",
      "    if not isdir(directory):\n",
      "        makedirs(directory)\n",
      "    chdir(directory)\n",
      "    print(\"We are in directory \" + directory)\n",
      "    \n",
      "# The directory that will contain the Git repository\n",
      "changedir('repo')"
     ],
     "language": "python",
     "metadata": {},
     "outputs": [
      {
       "output_type": "stream",
       "stream": "stdout",
       "text": [
        "We are in directory /home/ROCQ/sedrocq/froger/git-training/repo\n"
       ]
      }
     ],
     "prompt_number": 85
    },
    {
     "cell_type": "heading",
     "level": 3,
     "metadata": {},
     "source": [
      "The init command"
     ]
    },
    {
     "cell_type": "markdown",
     "metadata": {},
     "source": [
      "A Git **repository** is created in the current directory using the **init** command.\n",
      "\n",
      "This will create a `.git` hidden directory, where Git stores its database."
     ]
    },
    {
     "cell_type": "code",
     "collapsed": false,
     "input": [
      "%%bash\n",
      "\n",
      "git init\n",
      "ls -la"
     ],
     "language": "python",
     "metadata": {},
     "outputs": [
      {
       "output_type": "stream",
       "stream": "stdout",
       "text": [
        "Initialized empty Git repository in /nas/home3/f/froger/git-training/repo/.git/\n",
        "total 12\n",
        "drwxr-xr-x 3 froger sed 4096 Jun  4 10:01 .\n",
        "drwxr-xr-x 3 froger sed 4096 Jun  4 10:01 ..\n",
        "drwxr-xr-x 7 froger sed 4096 Jun  4 10:01 .git\n"
       ]
      }
     ],
     "prompt_number": 86
    },
    {
     "cell_type": "markdown",
     "metadata": {},
     "source": [
      "You can now start developing. For example, we may write \"First Line\" in a file called ``foo.txt``. But in practice, we would probably want to write some real source code."
     ]
    },
    {
     "cell_type": "code",
     "collapsed": false,
     "input": [
      "%%bash\n",
      "\n",
      "echo \"First line\" > foo.txt"
     ],
     "language": "python",
     "metadata": {},
     "outputs": [],
     "prompt_number": 87
    },
    {
     "cell_type": "markdown",
     "metadata": {},
     "source": [
      "### The add, commit and log commands"
     ]
    },
    {
     "cell_type": "markdown",
     "metadata": {},
     "source": [
      "To record (commit) the previous changes to Git's database, do as follows:"
     ]
    },
    {
     "cell_type": "code",
     "collapsed": false,
     "input": [
      "%%bash\n",
      "\n",
      "git add foo.txt\n",
      "git commit -m \"Initial commit.\"  "
     ],
     "language": "python",
     "metadata": {},
     "outputs": [
      {
       "output_type": "stream",
       "stream": "stdout",
       "text": [
        "[master (root-commit) c163bac] Initial commit.\n",
        " 1 file changed, 1 insertion(+)\n",
        " create mode 100644 foo.txt\n"
       ]
      }
     ],
     "prompt_number": 88
    },
    {
     "cell_type": "markdown",
     "metadata": {},
     "source": [
      "The **add** command tells Git to track changes in the file ``foo.txt``\n",
      "and says that the current content of this file should be commited by\n",
      "the next **commit** command.\n",
      "\n",
      "The **commit** command itself then records (commits) all the added\n",
      "changes to git's database and associates a few metadata to this\n",
      "set of changes.\n",
      "\n",
      "The argument of -m is a commit message, that is, a description of the\n",
      "commited change. The commit message is mandatory. If -m is not given,\n",
      "the **commit** command will open an editor where the commit message\n",
      "should be typed.\n",
      "\n",
      "To make sure things have been properly commited, one may use the\n",
      "**log** command:"
     ]
    },
    {
     "cell_type": "code",
     "collapsed": false,
     "input": [
      "%%bash\n",
      "\n",
      "git log"
     ],
     "language": "python",
     "metadata": {},
     "outputs": [
      {
       "output_type": "stream",
       "stream": "stdout",
       "text": [
        "commit c163bac3d069253137601b8aa6f5ef37a400ab32\n",
        "Author: David Froger <david.froger@inria.fr>\n",
        "Date:   Thu Jun 4 10:01:28 2015 +0200\n",
        "\n",
        "    Initial commit.\n"
       ]
      }
     ],
     "prompt_number": 89
    },
    {
     "cell_type": "markdown",
     "metadata": {},
     "source": [
      "As can be seen, the metadata associated with the commit includes its\n",
      "author. However, the name or e-mail address printed at the moment\n",
      "may not look so pretty. Here is how to improve this for future\n",
      "commits:"
     ]
    },
    {
     "cell_type": "code",
     "collapsed": false,
     "input": [
      "%%bash\n",
      "\n",
      "# git config --global user.name \"Pr\u00e9nom Nom\"\n",
      "# git config --global user.email prenom.nom@inria.fr"
     ],
     "language": "python",
     "metadata": {},
     "outputs": [],
     "prompt_number": 90
    },
    {
     "cell_type": "markdown",
     "metadata": {},
     "source": [
      "It is even possible to fix the authorship of our previous commit:"
     ]
    },
    {
     "cell_type": "code",
     "collapsed": false,
     "input": [
      "%%bash\n",
      "\n",
      "#git commit --amend --reset-author "
     ],
     "language": "python",
     "metadata": {},
     "outputs": [],
     "prompt_number": 91
    },
    {
     "cell_type": "markdown",
     "metadata": {},
     "source": [
      "And let's make sure this actually worked:"
     ]
    },
    {
     "cell_type": "code",
     "collapsed": false,
     "input": [
      "%%bash\n",
      "\n",
      "git log"
     ],
     "language": "python",
     "metadata": {},
     "outputs": [
      {
       "output_type": "stream",
       "stream": "stdout",
       "text": [
        "commit c163bac3d069253137601b8aa6f5ef37a400ab32\n",
        "Author: David Froger <david.froger@inria.fr>\n",
        "Date:   Thu Jun 4 10:01:28 2015 +0200\n",
        "\n",
        "    Initial commit.\n"
       ]
      }
     ],
     "prompt_number": 92
    },
    {
     "cell_type": "markdown",
     "metadata": {},
     "source": [
      "Note: we used the **--local** flag here so that the configuration applies\n",
      "only to the current repository, but one can also use the **--global** flag to\n",
      "make the coniguration the default for all repositories, given that it can\n",
      "then be overloaded in each repository."
     ]
    },
    {
     "cell_type": "markdown",
     "metadata": {},
     "source": [
      "## How it works: working copy, staging area (index) and database.\n",
      "\n",
      "Woking copy and database are conceps which are well known in other\n",
      "revision control systems. To these, Git adds a third zone, the\n",
      "staging area. It is an intermediary place where changes go before\n",
      "being commited to Git's database.\n",
      "\n",
      "Having this third area may seem odd at first, but it turns out to be\n",
      "useful e.g. to seperate commits, as we will see.\n",
      "\n",
      "Suppose we add two lines to foo.txt:"
     ]
    },
    {
     "cell_type": "code",
     "collapsed": false,
     "input": [
      "%%bash\n",
      "\n",
      "echo \"Second line\" >> foo.txt\n",
      "echo \"Third line\" >> foo.txt"
     ],
     "language": "python",
     "metadata": {},
     "outputs": [],
     "prompt_number": 93
    },
    {
     "cell_type": "markdown",
     "metadata": {},
     "source": [
      "But then we realise that these two lines really represent two distinct\n",
      "changes and should thus be commited separately.\n",
      "\n",
      "Git makes it possible to achieve this thanks to its index or staging\n",
      "area, like this:"
     ]
    },
    {
     "cell_type": "code",
     "collapsed": false,
     "input": [
      "%%bash\n",
      "\n",
      "#git add -p foo.txt"
     ],
     "language": "python",
     "metadata": {},
     "outputs": [],
     "prompt_number": 94
    },
    {
     "cell_type": "markdown",
     "metadata": {},
     "source": [
      "And choose 'e' to edit the hunk, then remove the line\n",
      "\n",
      "+Third line\n",
      "\n",
      "so that the only line starting wih a + symbol \"Second line\".\n",
      "\n",
      "To make sure only the second line has been added to the index and will\n",
      "thus be commited, use the **diff** command as follows:"
     ]
    },
    {
     "cell_type": "code",
     "collapsed": false,
     "input": [
      "%%bash\n",
      "\n",
      "git diff --cached"
     ],
     "language": "python",
     "metadata": {},
     "outputs": [],
     "prompt_number": 95
    },
    {
     "cell_type": "markdown",
     "metadata": {},
     "source": [
      "Before continuing, notice how we now have three different versions of\n",
      "foo.txt:\n",
      "\n",
      "- One in the working copy (3 lines)\n",
      "- One in the index (2 lines)\n",
      "- One in the database (1 line)\n",
      "\n",
      "Let's commit what has been staged:"
     ]
    },
    {
     "cell_type": "code",
     "collapsed": false,
     "input": [
      "%%bash\n",
      "\n",
      "git commit -m \"Second commit\" "
     ],
     "language": "python",
     "metadata": {},
     "outputs": [
      {
       "output_type": "stream",
       "stream": "stdout",
       "text": [
        "# On branch master\n",
        "# Changes not staged for commit:\n",
        "#   (use \"git add <file>...\" to update what will be committed)\n",
        "#   (use \"git checkout -- <file>...\" to discard changes in working directory)\n",
        "#\n",
        "#\tmodified:   foo.txt\n",
        "#\n",
        "no changes added to commit (use \"git add\" and/or \"git commit -a\")\n"
       ]
      }
     ],
     "prompt_number": 96
    },
    {
     "cell_type": "markdown",
     "metadata": {},
     "source": [
      "Let's make sure the commit has worked:"
     ]
    },
    {
     "cell_type": "code",
     "collapsed": false,
     "input": [
      "%%bash\n",
      "\n",
      "git log"
     ],
     "language": "python",
     "metadata": {},
     "outputs": [
      {
       "output_type": "stream",
       "stream": "stdout",
       "text": [
        "commit c163bac3d069253137601b8aa6f5ef37a400ab32\n",
        "Author: David Froger <david.froger@inria.fr>\n",
        "Date:   Thu Jun 4 10:01:28 2015 +0200\n",
        "\n",
        "    Initial commit.\n"
       ]
      }
     ],
     "prompt_number": 97
    },
    {
     "cell_type": "markdown",
     "metadata": {},
     "source": [
      "And note that the staging area is now empty:"
     ]
    },
    {
     "cell_type": "code",
     "collapsed": false,
     "input": [
      "%%bash\n",
      "\n",
      "git diff --cached"
     ],
     "language": "python",
     "metadata": {},
     "outputs": [],
     "prompt_number": 98
    },
    {
     "cell_type": "markdown",
     "metadata": {},
     "source": [
      "We can now commit our second change to foo.txt:"
     ]
    },
    {
     "cell_type": "code",
     "collapsed": false,
     "input": [
      "%%bash\n",
      "\n",
      "git add foo.txt\n",
      "git commit -m \"Third commit\""
     ],
     "language": "python",
     "metadata": {},
     "outputs": [
      {
       "output_type": "stream",
       "stream": "stdout",
       "text": [
        "[master 622a5f4] Third commit\n",
        " 1 file changed, 2 insertions(+)\n"
       ]
      }
     ],
     "prompt_number": 99
    },
    {
     "cell_type": "markdown",
     "metadata": {},
     "source": [
      "Two remarks are due here:\n",
      "\n",
      "1. The example we have jsut seen to understand why the staging area is\n",
      "useful is quite artificial. It is however rather imortant, because\n",
      "the situation it describes can happen quite a lot in practice. For\n",
      "instance, suppose that while adding a feature to a program one\n",
      "discovers typos in the existing code. The new\n",
      "feature and the typo fixups could for sure be commited together,\n",
      "but doing two distinct commits is considered better practice because\n",
      "it gives a cleaner history (In particular, should the feature be removed\n",
      "later, that could be achieved without loosing the typo fixups.)\n",
      "\n",
      "In such a situation, the -p flag to the add\n",
      "command turns out to be especially useful. Moreover, since the\n",
      "changes happen most of the time in different hunks (regions), it will\n",
      "be easier to use the interactive **add** in such situations than in\n",
      "the one above, since it will not require any manual hunk edition as before.\n",
      "\n",
      "\n",
      "2. The three areas that have just been introduced (working copy,\n",
      "staging area and commit database) are of crucial importance. Indeed,\n",
      "almost all git commands either\n",
      "manipulate one of these areas or transfer content between two\n",
      "of them and understanding Git in terms of how the commands work on areas\n",
      "turns out to be especially helpful (if not fundamental) in practice.\n",
      "\n",
      "Moreover, for one specific command, its arguments may change the areas\n",
      "it affects. As an example, git commit transfers content from the\n",
      "staging area to the database, but with the -a argument, the same command\n",
      "will transfer all the uncommited (and unstaged) changes directly from\n",
      "the working copy to the database and leave the staging area unmodified.\n",
      "\n",
      "Exercise: can you explain what **log** and **add** do in terms of\n",
      "the three areas?"
     ]
    },
    {
     "cell_type": "heading",
     "level": 3,
     "metadata": {},
     "source": [
      "The diff and status commands"
     ]
    },
    {
     "cell_type": "markdown",
     "metadata": {},
     "source": [
      "Modify the ``foo.txt`` file, and observe the outputs of the **diff** and **status** commands"
     ]
    },
    {
     "cell_type": "code",
     "collapsed": false,
     "input": [
      "%%bash\n",
      "\n",
      "echo 'Fourth line' >> foo.txt"
     ],
     "language": "python",
     "metadata": {},
     "outputs": [],
     "prompt_number": 100
    },
    {
     "cell_type": "code",
     "collapsed": false,
     "input": [
      "%%bash\n",
      "\n",
      "git diff"
     ],
     "language": "python",
     "metadata": {},
     "outputs": [
      {
       "output_type": "stream",
       "stream": "stdout",
       "text": [
        "diff --git a/foo.txt b/foo.txt\n",
        "index 6da4d3e..5028ae5 100644\n",
        "--- a/foo.txt\n",
        "+++ b/foo.txt\n",
        "@@ -1,3 +1,4 @@\n",
        " First line\n",
        " Second line\n",
        " Third line\n",
        "+Fourth line\n"
       ]
      }
     ],
     "prompt_number": 101
    },
    {
     "cell_type": "code",
     "collapsed": false,
     "input": [
      "%%bash\n",
      "\n",
      "git status"
     ],
     "language": "python",
     "metadata": {},
     "outputs": [
      {
       "output_type": "stream",
       "stream": "stdout",
       "text": [
        "# On branch master\n",
        "# Changes not staged for commit:\n",
        "#   (use \"git add <file>...\" to update what will be committed)\n",
        "#   (use \"git checkout -- <file>...\" to discard changes in working directory)\n",
        "#\n",
        "#\tmodified:   foo.txt\n",
        "#\n",
        "no changes added to commit (use \"git add\" and/or \"git commit -a\")\n"
       ]
      }
     ],
     "prompt_number": 102
    },
    {
     "cell_type": "markdown",
     "metadata": {},
     "source": [
      "Stage the file, and observe the new outputs of the **diff** and **status** commands"
     ]
    },
    {
     "cell_type": "code",
     "collapsed": false,
     "input": [
      "%%bash\n",
      "\n",
      "git add foo.txt"
     ],
     "language": "python",
     "metadata": {},
     "outputs": [],
     "prompt_number": 103
    },
    {
     "cell_type": "code",
     "collapsed": false,
     "input": [
      "%%bash\n",
      "\n",
      "git diff"
     ],
     "language": "python",
     "metadata": {},
     "outputs": [],
     "prompt_number": 104
    },
    {
     "cell_type": "code",
     "collapsed": false,
     "input": [
      "%%bash\n",
      "\n",
      "git diff --cached"
     ],
     "language": "python",
     "metadata": {},
     "outputs": [
      {
       "output_type": "stream",
       "stream": "stdout",
       "text": [
        "diff --git a/foo.txt b/foo.txt\n",
        "index 6da4d3e..5028ae5 100644\n",
        "--- a/foo.txt\n",
        "+++ b/foo.txt\n",
        "@@ -1,3 +1,4 @@\n",
        " First line\n",
        " Second line\n",
        " Third line\n",
        "+Fourth line\n"
       ]
      }
     ],
     "prompt_number": 105
    },
    {
     "cell_type": "code",
     "collapsed": false,
     "input": [
      "%%bash\n",
      "\n",
      "git status"
     ],
     "language": "python",
     "metadata": {},
     "outputs": [
      {
       "output_type": "stream",
       "stream": "stdout",
       "text": [
        "# On branch master\n",
        "# Changes to be committed:\n",
        "#   (use \"git reset HEAD <file>...\" to unstage)\n",
        "#\n",
        "#\tmodified:   foo.txt\n",
        "#\n"
       ]
      }
     ],
     "prompt_number": 106
    },
    {
     "cell_type": "markdown",
     "metadata": {},
     "source": [
      "Commit the file."
     ]
    },
    {
     "cell_type": "code",
     "collapsed": false,
     "input": [
      "%%bash\n",
      "\n",
      "git commit -m 'Add fourth line to foo.txt'"
     ],
     "language": "python",
     "metadata": {},
     "outputs": [
      {
       "output_type": "stream",
       "stream": "stdout",
       "text": [
        "[master 7c292c8] Add fourth line to foo.txt\n",
        " 1 file changed, 1 insertion(+)\n"
       ]
      }
     ],
     "prompt_number": 107
    },
    {
     "cell_type": "heading",
     "level": 3,
     "metadata": {},
     "source": [
      "The log command"
     ]
    },
    {
     "cell_type": "markdown",
     "metadata": {},
     "source": [
      "The **log** command prints an history of all the commits."
     ]
    },
    {
     "cell_type": "code",
     "collapsed": false,
     "input": [
      "%%bash\n",
      "git log"
     ],
     "language": "python",
     "metadata": {},
     "outputs": [
      {
       "output_type": "stream",
       "stream": "stdout",
       "text": [
        "commit 7c292c89908a43c0f35069a5f6804dbf0f35da3a\n",
        "Author: David Froger <david.froger@inria.fr>\n",
        "Date:   Thu Jun 4 10:01:29 2015 +0200\n",
        "\n",
        "    Add fourth line to foo.txt\n",
        "\n",
        "commit 622a5f4ad964a4edee74b3dde33b4ae016f9e54c\n",
        "Author: David Froger <david.froger@inria.fr>\n",
        "Date:   Thu Jun 4 10:01:29 2015 +0200\n",
        "\n",
        "    Third commit\n",
        "\n",
        "commit c163bac3d069253137601b8aa6f5ef37a400ab32\n",
        "Author: David Froger <david.froger@inria.fr>\n",
        "Date:   Thu Jun 4 10:01:28 2015 +0200\n",
        "\n",
        "    Initial commit.\n"
       ]
      }
     ],
     "prompt_number": 108
    },
    {
     "cell_type": "code",
     "collapsed": false,
     "input": [
      "%%bash\n",
      "git log -p"
     ],
     "language": "python",
     "metadata": {},
     "outputs": [
      {
       "output_type": "stream",
       "stream": "stdout",
       "text": [
        "commit 7c292c89908a43c0f35069a5f6804dbf0f35da3a\n",
        "Author: David Froger <david.froger@inria.fr>\n",
        "Date:   Thu Jun 4 10:01:29 2015 +0200\n",
        "\n",
        "    Add fourth line to foo.txt\n",
        "\n",
        "diff --git a/foo.txt b/foo.txt\n",
        "index 6da4d3e..5028ae5 100644\n",
        "--- a/foo.txt\n",
        "+++ b/foo.txt\n",
        "@@ -1,3 +1,4 @@\n",
        " First line\n",
        " Second line\n",
        " Third line\n",
        "+Fourth line\n",
        "\n",
        "commit 622a5f4ad964a4edee74b3dde33b4ae016f9e54c\n",
        "Author: David Froger <david.froger@inria.fr>\n",
        "Date:   Thu Jun 4 10:01:29 2015 +0200\n",
        "\n",
        "    Third commit\n",
        "\n",
        "diff --git a/foo.txt b/foo.txt\n",
        "index 9649cde..6da4d3e 100644\n",
        "--- a/foo.txt\n",
        "+++ b/foo.txt\n",
        "@@ -1 +1,3 @@\n",
        " First line\n",
        "+Second line\n",
        "+Third line\n",
        "\n",
        "commit c163bac3d069253137601b8aa6f5ef37a400ab32\n",
        "Author: David Froger <david.froger@inria.fr>\n",
        "Date:   Thu Jun 4 10:01:28 2015 +0200\n",
        "\n",
        "    Initial commit.\n",
        "\n",
        "diff --git a/foo.txt b/foo.txt\n",
        "new file mode 100644\n",
        "index 0000000..9649cde\n",
        "--- /dev/null\n",
        "+++ b/foo.txt\n",
        "@@ -0,0 +1 @@\n",
        "+First line\n"
       ]
      }
     ],
     "prompt_number": 109
    },
    {
     "cell_type": "markdown",
     "metadata": {},
     "source": [
      "A common practice when writing commit messages is to start with a \n",
      "one-line description of the commit, optionally followed by a longer\n",
      "description which may be split into several paragraphs.\n",
      "\n",
      "Another thing one may do when writing commit messages is to explain\n",
      "more why the change is done than the change itself, since the change\n",
      "can be figured out by studying the patch itself."
     ]
    },
    {
     "cell_type": "heading",
     "level": 3,
     "metadata": {},
     "source": [
      "The checkout command"
     ]
    },
    {
     "cell_type": "markdown",
     "metadata": {},
     "source": [
      "The **checkout** command updates files in the working tree to match the version in the index or the specified tree. For example:\n"
     ]
    },
    {
     "cell_type": "code",
     "collapsed": false,
     "input": [
      "%%bash\n",
      "git checkout master^"
     ],
     "language": "python",
     "metadata": {},
     "outputs": [
      {
       "output_type": "stream",
       "stream": "stderr",
       "text": [
        "Note: checking out 'master^'.\n",
        "\n",
        "You are in 'detached HEAD' state. You can look around, make experimental\n",
        "changes and commit them, and you can discard any commits you make in this\n",
        "state without impacting any branches by performing another checkout.\n",
        "\n",
        "If you want to create a new branch to retain commits you create, you may\n",
        "do so (now or later) by using -b with the checkout command again. Example:\n",
        "\n",
        "  git checkout -b new_branch_name\n",
        "\n",
        "HEAD is now at 622a5f4... Third commit\n"
       ]
      }
     ],
     "prompt_number": 110
    },
    {
     "cell_type": "markdown",
     "metadata": {},
     "source": [
      "Will ask Git to set-up the working copy according to the content of\n",
      "Git's database at commit master^, namely one commit before master as\n",
      "indicated by the ^ postfix operator.\n",
      "\n",
      "Let's verify: "
     ]
    },
    {
     "cell_type": "code",
     "collapsed": false,
     "input": [
      "%%bash\n",
      "cat foo.txt"
     ],
     "language": "python",
     "metadata": {},
     "outputs": [
      {
       "output_type": "stream",
       "stream": "stdout",
       "text": [
        "First line\n",
        "Second line\n",
        "Third line\n"
       ]
      }
     ],
     "prompt_number": 111
    },
    {
     "cell_type": "markdown",
     "metadata": {},
     "source": [
      "And now let's restore the working copy as it was before this checkout:"
     ]
    },
    {
     "cell_type": "code",
     "collapsed": false,
     "input": [
      "%%bash\n",
      "git checkout master"
     ],
     "language": "python",
     "metadata": {},
     "outputs": [
      {
       "output_type": "stream",
       "stream": "stderr",
       "text": [
        "Previous HEAD position was 622a5f4... Third commit\n",
        "Switched to branch 'master'\n"
       ]
      }
     ],
     "prompt_number": 112
    },
    {
     "cell_type": "markdown",
     "metadata": {},
     "source": [
      "And let's verify that this worked, too:"
     ]
    },
    {
     "cell_type": "code",
     "collapsed": false,
     "input": [
      "%%bash\n",
      "cat foo.txt"
     ],
     "language": "python",
     "metadata": {},
     "outputs": [
      {
       "output_type": "stream",
       "stream": "stdout",
       "text": [
        "First line\n",
        "Second line\n",
        "Third line\n",
        "Fourth line\n"
       ]
      }
     ],
     "prompt_number": 113
    },
    {
     "cell_type": "heading",
     "level": 3,
     "metadata": {},
     "source": [
      "More on commits"
     ]
    },
    {
     "cell_type": "markdown",
     "metadata": {},
     "source": [
      "To take advantage of all the powerful features of Git, it is important to\n",
      "understand what a **commit** actually is.\n",
      "\n",
      "The first thing to know is that Git has stored in its database 1 commit\n",
      "object,for each commit, each commit object containing a complete\n",
      "version of the ``foo.txt`` file.\n",
      "  - For the first commit, Git has stored in its database a commit object\n",
      "containing ``First line``.\n",
      "  - For the second commit, Git has stored in its database a commit object\n",
      "containing not the difference between the two versions, but the whole file:\n",
      "``First line`` (hence duplicated in Git's database), and ``Second line``.\n",
      "\n",
      "  - After the second commit, ``First line`` **is** duplicated in the 2\n",
      "different commit objects in Git's database.\n",
      "\n",
      "Note that for performance, Git has the ability to efficiently compress its\n",
      "database and handle differences only (especially during network transfer),\n",
      "but the model is to store the whole content of files for each commit, as\n",
      "opposed to some other revision control systems which only store differences.\n",
      "\n",
      "This yields a very simple model. A commit contains the directories and files we\n",
      "have commited (called ``tree`` and ``blob`` in Git), plus some metadata.\n",
      "\n",
      "In Git, a commit object contains:\n",
      "  - At least one parent commit (except for the initial commit)\n",
      "  - The (root) tree (which itself contains trees and blobs).\n",
      "  - The commit message.\n",
      "  - The author.\n",
      "  - The commit date."
     ]
    },
    {
     "cell_type": "heading",
     "level": 3,
     "metadata": {},
     "source": [
      "The SHA-1"
     ]
    },
    {
     "cell_type": "markdown",
     "metadata": {},
     "source": [
      "With Git it is not possible to assign integer numbers to commits in a\n",
      "sequential way as is done in svn for instance, because Git's distributed\n",
      "nature and branches make the very notion of linear sequence vanish.\n",
      "\n",
      "Git uses the **SHA-1** cryptographic hash function to identify each object\n",
      "(**commit**, **tree**, **blob**) with a hash value. Such a hash value may look\n",
      "like the following one:  ``0e1e060688a560015614cf7ec4b77d8a0df07c2f``.\n",
      "\n",
      "The hash value is computed from the object's content. It is very\n",
      "unlikely that two diferent commit objects have the same\n",
      "**SHA-1** hash value. The likelihood of such collisions is so low that it\n",
      "is generally considered to be 0, meaning that in practice it is\n",
      "considered that having same SHA-1 hash and being the same commit are\n",
      "equivalent propositions.\n",
      "\n",
      "Each hash value identifies only one commit. It also identifies all the\n",
      "directories and files that belong to the commit. Note that parent commits are\n",
      "also part of the commit: two commits sharing the same files and directories,\n",
      "but with different commit parents, will have different hash values.\n",
      "\n",
      "Note:\n",
      "  - if two developpers create exactly the same commit on two different\n",
      "computers, the hash value will be the same,\n",
      "  - we know that two commits are different by only comparing their hash values,\n",
      "  - hash value are very fast to compute: if a whole tree in a commit has not\n",
      "changed, Git does not have to recompute its hash again.\n"
     ]
    },
    {
     "cell_type": "heading",
     "level": 3,
     "metadata": {},
     "source": [
      "Git branches"
     ]
    },
    {
     "cell_type": "markdown",
     "metadata": {},
     "source": [
      "Suppose we now want to try developing a new feature in our code, while continuing our previous work on ``foo.txt``.\n",
      "\n",
      "Git encourages creating a branch for this.\n",
      "\n",
      "A branch is created with the **branch** command, followed by a branch **name**:"
     ]
    },
    {
     "cell_type": "code",
     "collapsed": false,
     "input": [
      "%%bash\n",
      "\n",
      "git branch bar"
     ],
     "language": "python",
     "metadata": {},
     "outputs": [],
     "prompt_number": 114
    },
    {
     "cell_type": "markdown",
     "metadata": {},
     "source": [
      "Without any argument, the **branch** command lists all the branches and marks the current one with an asterisk (git status also displays the current branch)."
     ]
    },
    {
     "cell_type": "code",
     "collapsed": false,
     "input": [
      "%%bash\n",
      "\n",
      "git branch"
     ],
     "language": "python",
     "metadata": {},
     "outputs": [
      {
       "output_type": "stream",
       "stream": "stdout",
       "text": [
        "  bar\n",
        "* master\n"
       ]
      }
     ],
     "prompt_number": 115
    },
    {
     "cell_type": "markdown",
     "metadata": {},
     "source": [
      "The **checkout** command allows you to switch to another branch:"
     ]
    },
    {
     "cell_type": "code",
     "collapsed": false,
     "input": [
      "%%bash\n",
      "\n",
      "git checkout bar\n",
      "git branch"
     ],
     "language": "python",
     "metadata": {},
     "outputs": [
      {
       "output_type": "stream",
       "stream": "stdout",
       "text": [
        "* bar\n",
        "  master\n"
       ]
      },
      {
       "output_type": "stream",
       "stream": "stderr",
       "text": [
        "Switched to branch 'bar'\n"
       ]
      }
     ],
     "prompt_number": 116
    },
    {
     "cell_type": "markdown",
     "metadata": {},
     "source": [
      "It is very important to remember that git branch b creates branch b but\n",
      "does not change the current branch. This is similar to Unix's mkdir\n",
      "command which creates a new directory without changing the current\n",
      "directory to the one it just created. To continue the analogy with Unix\n",
      "commands, git checkout b changes the current branch in the same way\n",
      "cd changes the current directory.\n",
      "\n",
      "It is however common when creating a branch that the intention is to\n",
      "switch to that branch right after it has been created and this is what\n",
      "the git checkout -b command does. In other words, what had been achieved\n",
      "in two steps before (namely git branch bar and git checkout bar) can\n",
      "be achieved with just the following command: git checkout -b bar.\n",
      "\n",
      "Now, let us develop different things in the two branches:"
     ]
    },
    {
     "cell_type": "code",
     "collapsed": false,
     "input": [
      "%%bash\n",
      "\n",
      "echo 'First line' > bar.txt\n",
      "git add bar.txt\n",
      "git commit -m 'First line of bar.txt'\n",
      "\n",
      "echo 'Second line' >> bar.txt\n",
      "git add bar.txt\n",
      "git commit -m 'Second line of bar.txt'\n",
      "\n",
      "git checkout master\n",
      "echo \"Fifth line\" >> foo.txt\n",
      "git add foo.txt\n",
      "git commit -m  'Fifth line of foo.txt'\n",
      "\n",
      "echo \"Sixth line\" >> foo.txt\n",
      "git add foo.txt\n",
      "git commit -m 'Sixth line of foo.txt'\n",
      "\n",
      "git checkout bar\n",
      "echo 'Third line' >> bar.txt\n",
      "git add bar.txt\n",
      "git commit -m 'Third line of bar.txt'"
     ],
     "language": "python",
     "metadata": {},
     "outputs": [
      {
       "output_type": "stream",
       "stream": "stdout",
       "text": [
        "[bar 4a44475] First line of bar.txt\n",
        " 1 file changed, 1 insertion(+)\n",
        " create mode 100644 bar.txt\n",
        "[bar 2470080] Second line of bar.txt\n",
        " 1 file changed, 1 insertion(+)\n",
        "[master 25f6bbe] Fifth line of foo.txt\n",
        " 1 file changed, 1 insertion(+)\n",
        "[master 5df9df1] Sixth line of foo.txt\n",
        " 1 file changed, 1 insertion(+)\n",
        "[bar 08c70a7] Third line of bar.txt\n",
        " 1 file changed, 1 insertion(+)\n"
       ]
      },
      {
       "output_type": "stream",
       "stream": "stderr",
       "text": [
        "Switched to branch 'master'\n",
        "Switched to branch 'bar'\n"
       ]
      }
     ],
     "prompt_number": 117
    },
    {
     "cell_type": "heading",
     "level": 3,
     "metadata": {},
     "source": [
      "The merge command"
     ]
    },
    {
     "cell_type": "markdown",
     "metadata": {},
     "source": [
      "We merge the work of the two branches. More specifically, we merge the **bar** branch into the **master** branch"
     ]
    },
    {
     "cell_type": "code",
     "collapsed": false,
     "input": [
      "%%bash\n",
      "\n",
      "git checkout master\n",
      "git merge bar"
     ],
     "language": "python",
     "metadata": {},
     "outputs": [
      {
       "output_type": "stream",
       "stream": "stdout",
       "text": [
        "Merge made by the 'recursive' strategy.\n",
        " bar.txt |    3 +++\n",
        " 1 file changed, 3 insertions(+)\n",
        " create mode 100644 bar.txt\n"
       ]
      },
      {
       "output_type": "stream",
       "stream": "stderr",
       "text": [
        "Switched to branch 'master'\n"
       ]
      }
     ],
     "prompt_number": 118
    },
    {
     "cell_type": "markdown",
     "metadata": {},
     "source": [
      "Because there is no conflict, the merge is performed automatically. In case of confict (same lines of a file modified in both branches):\n",
      "   - the merge operation stops,\n",
      "   - the developper edits the conflicting files to solve the conflict,\n",
      "   - the developper commits the merged files."
     ]
    },
    {
     "cell_type": "heading",
     "level": 3,
     "metadata": {},
     "source": [
      "What Git branches are"
     ]
    },
    {
     "cell_type": "markdown",
     "metadata": {},
     "source": [
      "Edit the file ``~/.gitconfig`` and add the content:\n",
      "\n",
      "    [alias]\n",
      "      gr = log --graph --full-history --all --color --pretty=tformat:\"%x1b[31m%h%x09%x1b[32m%d%x1b[0m%x20%s%x20%x1b[33m(%an)%x1b[0m\"\n",
      "\n",
      "This adds a useful **gr** command to Git, that displays a colored graph of the branches."
     ]
    },
    {
     "cell_type": "code",
     "collapsed": false,
     "input": [
      "%%bash\n",
      "\n",
      "git gr"
     ],
     "language": "python",
     "metadata": {},
     "outputs": [
      {
       "output_type": "stream",
       "stream": "stdout",
       "text": [
        "*   \u001b[31m64be58d\t\u001b[32m (HEAD, master)\u001b[0m Merge branch 'bar' \u001b[33m(David Froger)\u001b[0m\n",
        "\u001b[31m|\u001b[m\u001b[32m\\\u001b[m  \n",
        "\u001b[31m|\u001b[m * \u001b[31m08c70a7\t\u001b[32m (bar)\u001b[0m Third line of bar.txt \u001b[33m(David Froger)\u001b[0m\n",
        "\u001b[31m|\u001b[m * \u001b[31m2470080\t\u001b[32m\u001b[0m Second line of bar.txt \u001b[33m(David Froger)\u001b[0m\n",
        "\u001b[31m|\u001b[m * \u001b[31m4a44475\t\u001b[32m\u001b[0m First line of bar.txt \u001b[33m(David Froger)\u001b[0m\n",
        "* \u001b[32m|\u001b[m \u001b[31m5df9df1\t\u001b[32m\u001b[0m Sixth line of foo.txt \u001b[33m(David Froger)\u001b[0m\n",
        "* \u001b[32m|\u001b[m \u001b[31m25f6bbe\t\u001b[32m\u001b[0m Fifth line of foo.txt \u001b[33m(David Froger)\u001b[0m\n",
        "\u001b[32m|\u001b[m\u001b[32m/\u001b[m  \n",
        "* \u001b[31m7c292c8\t\u001b[32m\u001b[0m Add fourth line to foo.txt \u001b[33m(David Froger)\u001b[0m\n",
        "* \u001b[31m622a5f4\t\u001b[32m\u001b[0m Third commit \u001b[33m(David Froger)\u001b[0m\n",
        "* \u001b[31mc163bac\t\u001b[32m\u001b[0m Initial commit. \u001b[33m(David Froger)\u001b[0m\n"
       ]
      }
     ],
     "prompt_number": 119
    },
    {
     "cell_type": "markdown",
     "metadata": {},
     "source": [
      "All the commits form a chain, in which each commit is linked to its parent(s).\n",
      "\n",
      "Creating a branch means having two commits with the same parent, while merging means creating a commit with two parents.\n",
      "\n",
      "We can now give a simple definition of a branch: a symbolic name that points to a commit with no children.\n",
      "\n",
      "Two special branches are:\n",
      "   - **master**, the original branch when a repository is created. That's a\n",
      "branch like the others.\n",
      "   - **HEAD**, the current branch, which is updated after each commit\n",
      "   (like $PWD in Unix shells).\n",
      "\n",
      "When a commit is checked out that is not the end of a branch (has\n",
      "children), it is said that the repository is in \"detached head\" mode. In\n",
      "that state, it is possible to create commits which will be linked to tehe\n",
      "one that has been checked out, but it must be kept in mind that no\n",
      "symbolic name (apart from HEAD) will be associated with the last commit,\n",
      "so when HEAD moves to a different branch the repo wil have a branch with\n",
      "no symbolic name associated to its tip and which may hence be\n",
      "garbage-collected later by Git. It is however possible and easy to\n",
      "associate a symbolic name with a commit at any time with the git\n",
      "branch command.\n",
      "\n",
      "Note: with this knowledge on commits and branches, some Git features not\n",
      "demonstrated here will be easy to understand:\n",
      "    - rebase\n",
      "    - fast-forward\n",
      "    - tags (symbolic names which don't move, as opposed to branches)"
     ]
    },
    {
     "cell_type": "heading",
     "level": 1,
     "metadata": {},
     "source": [
      "Exercice"
     ]
    },
    {
     "cell_type": "markdown",
     "metadata": {},
     "source": [
      "During the exercice, experiment with `git log`, and `git status`, `git gr`, etc.\n",
      "\n",
      "0- Initialize an empty Git repository."
     ]
    },
    {
     "cell_type": "markdown",
     "metadata": {},
     "source": [
      "1- Create a script `main.py` with the following content, and commit it."
     ]
    },
    {
     "cell_type": "code",
     "collapsed": false,
     "input": [
      "#!/usr/bin/env python\n",
      "\n",
      "def greet():\n",
      "    print(\"Hello world!\")\n",
      "\n",
      "greet()"
     ],
     "language": "python",
     "metadata": {},
     "outputs": [
      {
       "output_type": "stream",
       "stream": "stdout",
       "text": [
        "Hello world!\n"
       ]
      }
     ],
     "prompt_number": 120
    },
    {
     "cell_type": "markdown",
     "metadata": {},
     "source": [
      "2- Modify the the script, commit it"
     ]
    },
    {
     "cell_type": "code",
     "collapsed": false,
     "input": [
      "#!/usr/bin/env python\n",
      "\n",
      "def greet(name):\n",
      "    print(\"Hello %s!\" % name)\n",
      "\n",
      "greet(\"Alice\")"
     ],
     "language": "python",
     "metadata": {},
     "outputs": [
      {
       "output_type": "stream",
       "stream": "stdout",
       "text": [
        "Hello Alice!\n"
       ]
      }
     ],
     "prompt_number": 121
    },
    {
     "cell_type": "markdown",
     "metadata": {},
     "source": [
      "3- Modify and commit the script again."
     ]
    },
    {
     "cell_type": "code",
     "collapsed": false,
     "input": [
      "#!/usr/bin/env python\n",
      "import sys\n",
      "\n",
      "def greet(name):\n",
      "    print(\"Hello %s!\" % name)\n",
      "\n",
      "if len(sys.argv) > 1:\n",
      "    greet(sys.argv[1])\n",
      "else:\n",
      "    sys.stderr.write(\"Usage: %s NAME\\n\" % sys.argv[0])\n",
      "    sys.exit(1)"
     ],
     "language": "python",
     "metadata": {},
     "outputs": [
      {
       "output_type": "stream",
       "stream": "stdout",
       "text": [
        "Hello -f!\n"
       ]
      }
     ],
     "prompt_number": 122
    },
    {
     "cell_type": "markdown",
     "metadata": {},
     "source": [
      "4- In a branch `format_name`, modify and commit the script:"
     ]
    },
    {
     "cell_type": "code",
     "collapsed": false,
     "input": [
      "#!/usr/bin/env python\n",
      "import sys\n",
      "\n",
      "def greet(name):\n",
      "    print(\"Hello %s!\" % name.capitalize())\n",
      "\n",
      "if len(sys.argv) > 1:\n",
      "    greet(sys.argv[1])\n",
      "else:\n",
      "    sys.stderr.write(\"Usage: %s NAME\\n\" % sys.argv[0])\n",
      "    sys.exit(1)"
     ],
     "language": "python",
     "metadata": {},
     "outputs": [
      {
       "output_type": "stream",
       "stream": "stdout",
       "text": [
        "Hello -f!\n"
       ]
      }
     ],
     "prompt_number": 123
    },
    {
     "cell_type": "markdown",
     "metadata": {},
     "source": [
      "5- In the `master` branch, modify the script and commit:"
     ]
    },
    {
     "cell_type": "code",
     "collapsed": false,
     "input": [
      "#!/usr/bin/env python\n",
      "import sys\n",
      "\n",
      "def greet(name):\n",
      "    print(\"Hello %s! How are you?\" % name)\n",
      "\n",
      "if len(sys.argv) > 1:\n",
      "    greet(sys.argv[1])\n",
      "else:\n",
      "    sys.stderr.write(\"Usage: %s NAME\\n\" % sys.argv[0])\n",
      "    sys.exit(1)"
     ],
     "language": "python",
     "metadata": {},
     "outputs": [
      {
       "output_type": "stream",
       "stream": "stdout",
       "text": [
        "Hello -f! How are you?\n"
       ]
      }
     ],
     "prompt_number": 124
    },
    {
     "cell_type": "markdown",
     "metadata": {},
     "source": [
      "6- Merge the `format_name` branch. You will have to resolve a conflict, and the commit"
     ]
    },
    {
     "cell_type": "heading",
     "level": 2,
     "metadata": {},
     "source": [
      "Centralized (\u00e0 la cvs/svn) version control"
     ]
    },
    {
     "cell_type": "markdown",
     "metadata": {},
     "source": [
      "Now that we have learned how to work with a single Git repository, we will learn\n",
      "how to send/receive commits between two Git repositories\n",
      "\n",
      "In this section, we will assume a workflow with two developpers: Alice\n",
      "and Bob. Both of them have their own repository on their computer:\n",
      "    - Alice's repository A on her computer,\n",
      "    - Bob's repository B on his computer.\n",
      "\n",
      "and a central repository on a computer which both Alice and Bob can communicate\n",
      "with:\n",
      "    - central repository C on a \"server\".\n",
      "\n",
      "For simplicity, we will demonstrate the commands on the same machine, using Git\n",
      "**file://** protocol. However, Git commands would be **exactly the same**, but\n",
      "using instead the **ssh://** or **https://** protocols.\n",
      "\n",
      "Note that configuring a \"server\" machine to host a Git repository and managing\n",
      "user permissions, backup, availability, Web views of the repository, etc. is not\n",
      "easy. Forges like **Inria's GForge**, **GitHub**, **Bitbucket**, **Gitorious**\n",
      "should be preferred."
     ]
    },
    {
     "cell_type": "code",
     "collapsed": false,
     "input": [
      "changedir('')"
     ],
     "language": "python",
     "metadata": {},
     "outputs": [
      {
       "output_type": "stream",
       "stream": "stdout",
       "text": [
        "We are in directory /home/ROCQ/sedrocq/froger/git-training\n"
       ]
      }
     ],
     "prompt_number": 125
    },
    {
     "cell_type": "heading",
     "level": 3,
     "metadata": {},
     "source": [
      "The --bare option of the init command"
     ]
    },
    {
     "cell_type": "markdown",
     "metadata": {},
     "source": [
      "We start by creating a central repository.\n",
      "\n",
      "There is a subtlety. Suppose we create a git repository in ``~/git-\n",
      "training/central`` and that someone else edits files in this Git repository.\n",
      "\n",
      "It is possible that someone else sends commits (in Git, this is called **push**)\n",
      "to this repository, which would be stored in ``~/git-training/central/.git``.\n",
      "Then Git's database and working copy would differ.\n",
      "\n",
      "To avoid this situtation, Git provides the **--bare** option to **init**. It\n",
      "creates a Git repository, but without a working copy. Nobody can **commit**\n",
      "directly into this repository, but only **push** commits.\n",
      "\n",
      "Never **push** commits to a Git repository that is not **bare**, to avoid\n",
      "inconsistencies with its working copy.\n",
      "\n",
      "By convention, **bare** repositories are suffixed with **.git**, even if it is\n",
      "not necessary."
     ]
    },
    {
     "cell_type": "code",
     "collapsed": false,
     "input": [
      "%%bash\n",
      "\n",
      "git init --bare central.git\n",
      "ls -l central.git"
     ],
     "language": "python",
     "metadata": {},
     "outputs": [
      {
       "output_type": "stream",
       "stream": "stdout",
       "text": [
        "Initialized empty Git repository in /nas/home3/f/froger/git-training/central.git/\n",
        "total 28\n",
        "drwxr-xr-x 2 froger sed 4096 Jun  4 10:01 branches\n",
        "-rw-r--r-- 1 froger sed   66 Jun  4 10:01 config\n",
        "-rw-r--r-- 1 froger sed   73 Jun  4 10:01 description\n",
        "-rw-r--r-- 1 froger sed   23 Jun  4 10:01 HEAD\n",
        "drwxr-xr-x 2 froger sed 4096 Jun  4 10:01 hooks\n",
        "drwxr-xr-x 2 froger sed 4096 Jun  4 10:01 info\n",
        "drwxr-xr-x 4 froger sed 4096 Jun  4 10:01 objects\n",
        "drwxr-xr-x 4 froger sed 4096 Jun  4 10:01 refs\n"
       ]
      }
     ],
     "prompt_number": 126
    },
    {
     "cell_type": "markdown",
     "metadata": {},
     "source": [
      "Alice clones the central repository:"
     ]
    },
    {
     "cell_type": "code",
     "collapsed": false,
     "input": [
      "%%bash\n",
      "\n",
      "git clone file://$PWD/central.git alice"
     ],
     "language": "python",
     "metadata": {},
     "outputs": [
      {
       "output_type": "stream",
       "stream": "stdout",
       "text": [
        "Cloning into 'alice'...\n"
       ]
      },
      {
       "output_type": "stream",
       "stream": "stderr",
       "text": [
        "warning: You appear to have cloned an empty repository.\n"
       ]
      }
     ],
     "prompt_number": 127
    },
    {
     "cell_type": "markdown",
     "metadata": {},
     "source": [
      "Alice enters her Git repository and configures her name and email for\n",
      "that repository (we assume here she didn't do it at the global level, to\n",
      "keep all the examples self-contained):"
     ]
    },
    {
     "cell_type": "code",
     "collapsed": false,
     "input": [
      "changedir('alice')"
     ],
     "language": "python",
     "metadata": {},
     "outputs": [
      {
       "output_type": "stream",
       "stream": "stdout",
       "text": [
        "We are in directory /home/ROCQ/sedrocq/froger/git-training/alice\n"
       ]
      }
     ],
     "prompt_number": 128
    },
    {
     "cell_type": "code",
     "collapsed": false,
     "input": [
      "%%bash\n",
      "\n",
      "git config --local user.name \"Alice\"\n",
      "git config --local user.email alice@inria.fr"
     ],
     "language": "python",
     "metadata": {},
     "outputs": [],
     "prompt_number": 129
    },
    {
     "cell_type": "heading",
     "level": 3,
     "metadata": {},
     "source": [
      "The remote command"
     ]
    },
    {
     "cell_type": "markdown",
     "metadata": {},
     "source": [
      "Without argument, the *remote* command lists the **remote** repositories Git knows about:"
     ]
    },
    {
     "cell_type": "code",
     "collapsed": false,
     "input": [
      "%%bash\n",
      "\n",
      "git remote"
     ],
     "language": "python",
     "metadata": {},
     "outputs": [
      {
       "output_type": "stream",
       "stream": "stdout",
       "text": [
        "origin\n"
       ]
      }
     ],
     "prompt_number": 130
    },
    {
     "cell_type": "markdown",
     "metadata": {},
     "source": [
      "When the central repository has been cloned, Git has given it the name **origin**, by convention.\n",
      "\n",
      "Later, we will learn how to register additionnal remote repositories.\n",
      "\n",
      "Alice works and commits into her repository:"
     ]
    },
    {
     "cell_type": "code",
     "collapsed": false,
     "input": [
      "%%bash\n",
      "\n",
      "echo 'First line' > foo.txt\n",
      "git add foo.txt\n",
      "git commit -m 'First line of foo.txt'\n",
      "\n",
      "echo 'Second line' >> foo.txt\n",
      "git add foo.txt\n",
      "git commit -m 'Second line of foo.txt'"
     ],
     "language": "python",
     "metadata": {},
     "outputs": [
      {
       "output_type": "stream",
       "stream": "stdout",
       "text": [
        "[master (root-commit) cd4f3b8] First line of foo.txt\n",
        " 1 file changed, 1 insertion(+)\n",
        " create mode 100644 foo.txt\n",
        "[master aa51798] Second line of foo.txt\n",
        " 1 file changed, 1 insertion(+)\n"
       ]
      }
     ],
     "prompt_number": 131
    },
    {
     "cell_type": "heading",
     "level": 3,
     "metadata": {},
     "source": [
      "The push command"
     ]
    },
    {
     "cell_type": "markdown",
     "metadata": {},
     "source": [
      "Now, Alice wants to send her commits to the central repository, so that Bob can get them.\n",
      "\n",
      "To do so, she uses the **push** command, whose arguments are:\n",
      "\n",
      "    git push <remote_name> <local_branch>:<remote_branch>\n",
      "\n",
      "The remote_name is **origin**, Alice pushes the **master** branch of her repository to the **master** branch of the central repository:"
     ]
    },
    {
     "cell_type": "code",
     "collapsed": false,
     "input": [
      "%%bash\n",
      "\n",
      "git push origin master:master"
     ],
     "language": "python",
     "metadata": {},
     "outputs": [
      {
       "output_type": "stream",
       "stream": "stderr",
       "text": [
        "To file:///nas/home3/f/froger/git-training/central.git\n",
        " * [new branch]      master -> master\n"
       ]
      }
     ],
     "prompt_number": 132
    },
    {
     "cell_type": "markdown",
     "metadata": {},
     "source": [
      "Bob now clones the central repository too, enters it and configures his name and email:"
     ]
    },
    {
     "cell_type": "code",
     "collapsed": false,
     "input": [
      "changedir('')"
     ],
     "language": "python",
     "metadata": {},
     "outputs": [
      {
       "output_type": "stream",
       "stream": "stdout",
       "text": [
        "We are in directory /home/ROCQ/sedrocq/froger/git-training\n"
       ]
      }
     ],
     "prompt_number": 133
    },
    {
     "cell_type": "code",
     "collapsed": false,
     "input": [
      "%%bash\n",
      "\n",
      "git clone file://$PWD/central.git bob"
     ],
     "language": "python",
     "metadata": {},
     "outputs": [
      {
       "output_type": "stream",
       "stream": "stdout",
       "text": [
        "Cloning into 'bob'...\n"
       ]
      }
     ],
     "prompt_number": 134
    },
    {
     "cell_type": "code",
     "collapsed": false,
     "input": [
      "changedir('bob')"
     ],
     "language": "python",
     "metadata": {},
     "outputs": [
      {
       "output_type": "stream",
       "stream": "stdout",
       "text": [
        "We are in directory /home/ROCQ/sedrocq/froger/git-training/bob\n"
       ]
      }
     ],
     "prompt_number": 135
    },
    {
     "cell_type": "code",
     "collapsed": false,
     "input": [
      "%%bash\n",
      "\n",
      "git config --local user.name \"Bob\"\n",
      "git config --local user.email bob@inria.fr"
     ],
     "language": "python",
     "metadata": {},
     "outputs": [],
     "prompt_number": 136
    },
    {
     "cell_type": "markdown",
     "metadata": {},
     "source": [
      "Doing so, Bob fetches Alice's work."
     ]
    },
    {
     "cell_type": "code",
     "collapsed": false,
     "input": [
      "%%bash\n",
      "\n",
      "git log"
     ],
     "language": "python",
     "metadata": {},
     "outputs": [
      {
       "output_type": "stream",
       "stream": "stdout",
       "text": [
        "commit aa51798dd381c33d0cd2e59a066037dcc37e8cc2\n",
        "Author: Alice <alice@inria.fr>\n",
        "Date:   Thu Jun 4 10:01:31 2015 +0200\n",
        "\n",
        "    Second line of foo.txt\n",
        "\n",
        "commit cd4f3b87412ea4cf73d23dc4cbb4bef77b1961be\n",
        "Author: Alice <alice@inria.fr>\n",
        "Date:   Thu Jun 4 10:01:31 2015 +0200\n",
        "\n",
        "    First line of foo.txt\n"
       ]
      }
     ],
     "prompt_number": 137
    },
    {
     "cell_type": "markdown",
     "metadata": {},
     "source": [
      "Bob makes some changes, commits and pushes:"
     ]
    },
    {
     "cell_type": "code",
     "collapsed": false,
     "input": [
      "%%bash\n",
      "\n",
      "echo \"Third line\" >> foo.txt\n",
      "git add foo.txt\n",
      "git commit -m \"Third line to foo.txt\"\n",
      "git push origin master:master"
     ],
     "language": "python",
     "metadata": {},
     "outputs": [
      {
       "output_type": "stream",
       "stream": "stdout",
       "text": [
        "[master 594e23d] Third line to foo.txt\n",
        " 1 file changed, 1 insertion(+)\n"
       ]
      },
      {
       "output_type": "stream",
       "stream": "stderr",
       "text": [
        "To file:///nas/home3/f/froger/git-training/central.git\n",
        "   aa51798..594e23d  master -> master\n"
       ]
      }
     ],
     "prompt_number": 138
    },
    {
     "cell_type": "heading",
     "level": 3,
     "metadata": {},
     "source": [
      "The fetch command"
     ]
    },
    {
     "cell_type": "code",
     "collapsed": false,
     "input": [
      "changedir('alice')"
     ],
     "language": "python",
     "metadata": {},
     "outputs": [
      {
       "output_type": "stream",
       "stream": "stdout",
       "text": [
        "We are in directory /home/ROCQ/sedrocq/froger/git-training/alice\n"
       ]
      }
     ],
     "prompt_number": 139
    },
    {
     "cell_type": "markdown",
     "metadata": {},
     "source": [
      "Alice wants to get Bob's commits. She\n",
      "uses the **fetch** command, which donwloads all the commits of all branches from a remote repository."
     ]
    },
    {
     "cell_type": "code",
     "collapsed": false,
     "input": [
      "%%bash\n",
      "\n",
      "git fetch origin"
     ],
     "language": "python",
     "metadata": {},
     "outputs": [
      {
       "output_type": "stream",
       "stream": "stderr",
       "text": [
        "From file:///nas/home3/f/froger/git-training/central\n",
        "   aa51798..594e23d  master     -> origin/master\n"
       ]
      }
     ],
     "prompt_number": 140
    },
    {
     "cell_type": "heading",
     "level": 3,
     "metadata": {},
     "source": [
      "Remote branches"
     ]
    },
    {
     "cell_type": "markdown",
     "metadata": {},
     "source": [
      "The git **branch** command lists all branches of Alice's repository, also known as local branches:"
     ]
    },
    {
     "cell_type": "code",
     "collapsed": false,
     "input": [
      "%%bash\n",
      "\n",
      "git branch"
     ],
     "language": "python",
     "metadata": {},
     "outputs": [
      {
       "output_type": "stream",
       "stream": "stdout",
       "text": [
        "* master\n"
       ]
      }
     ],
     "prompt_number": 141
    },
    {
     "cell_type": "markdown",
     "metadata": {},
     "source": [
      "But where are the **central** repository branches which have just been fetched?\n",
      "\n",
      "Adding the **-a** option to the **branch** command reveals them:"
     ]
    },
    {
     "cell_type": "code",
     "collapsed": false,
     "input": [
      "%%bash\n",
      "\n",
      "git branch -a"
     ],
     "language": "python",
     "metadata": {},
     "outputs": [
      {
       "output_type": "stream",
       "stream": "stdout",
       "text": [
        "* master\n",
        "  remotes/origin/master\n"
       ]
      }
     ],
     "prompt_number": 142
    },
    {
     "cell_type": "markdown",
     "metadata": {},
     "source": [
      "``remotes/central/master.git`` is called a **remote branch**.\n",
      "\n",
      "A **remote branch** is a read-only branch that reflects the state of a branch of a remote repository. If the branch changes on the remote repository, use **fetch** again to refresh it.\n",
      "\n",
      "Note: to see only remote branches rather than all branches one can use the -r flag instead of -a:"
     ]
    },
    {
     "cell_type": "code",
     "collapsed": false,
     "input": [
      "%%%bash\n",
      "\n",
      "git branch -r"
     ],
     "language": "python",
     "metadata": {},
     "outputs": [
      {
       "output_type": "stream",
       "stream": "stdout",
       "text": [
        "  origin/master\n"
       ]
      }
     ],
     "prompt_number": 143
    },
    {
     "cell_type": "markdown",
     "metadata": {},
     "source": [
      "To get all commits of ``remotes/central/master`` **remote branch** into the\n",
      "**master** branch, merge it:"
     ]
    },
    {
     "cell_type": "code",
     "collapsed": false,
     "input": [
      "%%bash\n",
      "\n",
      "git merge remotes/origin/master"
     ],
     "language": "python",
     "metadata": {},
     "outputs": [
      {
       "output_type": "stream",
       "stream": "stdout",
       "text": [
        "Updating aa51798..594e23d\n",
        "Fast-forward\n",
        " foo.txt |    1 +\n",
        " 1 file changed, 1 insertion(+)\n"
       ]
      }
     ],
     "prompt_number": 144
    },
    {
     "cell_type": "markdown",
     "metadata": {},
     "source": [
      "Note: **fetch** and **merge** operations can be accomplished in one command, **pull**:\n",
      "\n",
      "    git pull <remote_name> <remote_branch>:<local_branch>"
     ]
    },
    {
     "cell_type": "heading",
     "level": 3,
     "metadata": {},
     "source": [
      "Pushing a (feature) branch"
     ]
    },
    {
     "cell_type": "markdown",
     "metadata": {},
     "source": [
      "While Alice and Bob are working on the master branch, Alice wants to develop an experimental feature.\n",
      "\n",
      "She creates a branch for this, and works in it:"
     ]
    },
    {
     "cell_type": "code",
     "collapsed": false,
     "input": [
      "%%bash\n",
      "\n",
      "git checkout -b exp\n",
      "\n",
      "echo \"First line\" > bar.txt\n",
      "git add bar.txt\n",
      "git commit -m 'First line of bar.txt'\n",
      "\n",
      "echo \"Second line\" >> bar.txt\n",
      "git add bar.txt\n",
      "git commit -m \"Second line in bar.txt\""
     ],
     "language": "python",
     "metadata": {},
     "outputs": [
      {
       "output_type": "stream",
       "stream": "stdout",
       "text": [
        "[exp 9c3fd57] First line of bar.txt\n",
        " 1 file changed, 1 insertion(+)\n",
        " create mode 100644 bar.txt\n",
        "[exp 3ec96a5] Second line in bar.txt\n",
        " 1 file changed, 1 insertion(+)\n"
       ]
      },
      {
       "output_type": "stream",
       "stream": "stderr",
       "text": [
        "Switched to a new branch 'exp'\n"
       ]
      }
     ],
     "prompt_number": 145
    },
    {
     "cell_type": "markdown",
     "metadata": {},
     "source": [
      "Alice then pushes her branch to a similarly named branch of the central repository:"
     ]
    },
    {
     "cell_type": "code",
     "collapsed": false,
     "input": [
      "%%bash\n",
      "\n",
      "git push origin exp:exp"
     ],
     "language": "python",
     "metadata": {},
     "outputs": [
      {
       "output_type": "stream",
       "stream": "stderr",
       "text": [
        "To file:///nas/home3/f/froger/git-training/central.git\n",
        " * [new branch]      exp -> exp\n"
       ]
      }
     ],
     "prompt_number": 146
    },
    {
     "cell_type": "heading",
     "level": 3,
     "metadata": {},
     "source": [
      "Tracking branch"
     ]
    },
    {
     "cell_type": "markdown",
     "metadata": {},
     "source": [
      "At the same time, Bob has worked on the master branch:"
     ]
    },
    {
     "cell_type": "code",
     "collapsed": false,
     "input": [
      "changedir('bob')"
     ],
     "language": "python",
     "metadata": {},
     "outputs": [
      {
       "output_type": "stream",
       "stream": "stdout",
       "text": [
        "We are in directory /home/ROCQ/sedrocq/froger/git-training/bob\n"
       ]
      }
     ],
     "prompt_number": 147
    },
    {
     "cell_type": "code",
     "collapsed": false,
     "input": [
      "%%bash\n",
      "\n",
      "echo \"Third line\" >> foo.txt\n",
      "git add foo.txt\n",
      "git commit -m \"Third line in foo.txt\"\n",
      "\n",
      "echo \"Fourth line\" >> foo.txt\n",
      "git add foo.txt\n",
      "git commit -m \"Fourth line in foo.txt\""
     ],
     "language": "python",
     "metadata": {},
     "outputs": [
      {
       "output_type": "stream",
       "stream": "stdout",
       "text": [
        "[master 46257db] Third line in foo.txt\n",
        " 1 file changed, 1 insertion(+)\n",
        "[master eb1ccb3] Fourth line in foo.txt\n",
        " 1 file changed, 1 insertion(+)\n"
       ]
      }
     ],
     "prompt_number": 148
    },
    {
     "cell_type": "markdown",
     "metadata": {},
     "source": [
      "Bob wants to see Alice's work on the ``exp`` branch. He fetches all branches of the central repository:"
     ]
    },
    {
     "cell_type": "code",
     "collapsed": false,
     "input": [
      "%%bash\n",
      "\n",
      "git fetch\n",
      "git branch -r"
     ],
     "language": "python",
     "metadata": {},
     "outputs": [
      {
       "output_type": "stream",
       "stream": "stdout",
       "text": [
        "  origin/HEAD -> origin/master\n",
        "  origin/exp\n",
        "  origin/master\n"
       ]
      },
      {
       "output_type": "stream",
       "stream": "stderr",
       "text": [
        "From file:///nas/home3/f/froger/git-training/central\n",
        " * [new branch]      exp        -> origin/exp\n"
       ]
      }
     ],
     "prompt_number": 149
    },
    {
     "cell_type": "markdown",
     "metadata": {},
     "source": [
      "Bob has remote branch ``central/exp``, but how to work with it?\n",
      "\n",
      "Adding the **--track** option to the **checkout** command makes Git create a **tracking branch**:"
     ]
    },
    {
     "cell_type": "code",
     "collapsed": false,
     "input": [
      "%%bash\n",
      "git checkout --track origin/exp"
     ],
     "language": "python",
     "metadata": {},
     "outputs": [
      {
       "output_type": "stream",
       "stream": "stdout",
       "text": [
        "Branch exp set up to track remote branch exp from origin.\n"
       ]
      },
      {
       "output_type": "stream",
       "stream": "stderr",
       "text": [
        "Switched to a new branch 'exp'\n"
       ]
      }
     ],
     "prompt_number": 150
    },
    {
     "cell_type": "markdown",
     "metadata": {},
     "source": [
      "A tracking branch is our local copy of a remote branch. Unlike the remote branch, we have write access to it.\n",
      "\n",
      "Tracking branches can also be used to call the **pull** and **push** commands without arguments."
     ]
    },
    {
     "cell_type": "markdown",
     "metadata": {},
     "source": [
      "Note that Alice and Bob can work on the ``exp`` branch without changing anything to the ``master`` branch.\n",
      "  - if ``exp`` was not a good idea, the branch can be dropped,\n",
      "  - if ``exp`` is a good idea, it may be merged into the ``master`` branch."
     ]
    },
    {
     "cell_type": "heading",
     "level": 3,
     "metadata": {},
     "source": [
      "Visualizing branches"
     ]
    },
    {
     "cell_type": "markdown",
     "metadata": {},
     "source": [
      "Bob  helps Alice to develop the ``exp`` branch by making a new commit:"
     ]
    },
    {
     "cell_type": "code",
     "collapsed": false,
     "input": [
      "%%bash\n",
      "\n",
      "echo \"Third line\" >> bar.txt\n",
      "git add bar.txt\n",
      "git commit -m \"Third line in bar.txt\""
     ],
     "language": "python",
     "metadata": {},
     "outputs": [
      {
       "output_type": "stream",
       "stream": "stdout",
       "text": [
        "[exp 45795a1] Third line in bar.txt\n",
        " 1 file changed, 1 insertion(+)\n"
       ]
      }
     ],
     "prompt_number": 151
    },
    {
     "cell_type": "markdown",
     "metadata": {},
     "source": [
      "At this point, it is instructive to visualize the different branches:"
     ]
    },
    {
     "cell_type": "code",
     "collapsed": false,
     "input": [
      "%%bash\n",
      "\n",
      "git gr"
     ],
     "language": "python",
     "metadata": {},
     "outputs": [
      {
       "output_type": "stream",
       "stream": "stdout",
       "text": [
        "* \u001b[31m45795a1\t\u001b[32m (HEAD, exp)\u001b[0m Third line in bar.txt \u001b[33m(Bob)\u001b[0m\n",
        "* \u001b[31m3ec96a5\t\u001b[32m (origin/exp)\u001b[0m Second line in bar.txt \u001b[33m(Alice)\u001b[0m\n",
        "* \u001b[31m9c3fd57\t\u001b[32m\u001b[0m First line of bar.txt \u001b[33m(Alice)\u001b[0m\n",
        "\u001b[31m|\u001b[m * \u001b[31meb1ccb3\t\u001b[32m (master)\u001b[0m Fourth line in foo.txt \u001b[33m(Bob)\u001b[0m\n",
        "\u001b[31m|\u001b[m * \u001b[31m46257db\t\u001b[32m\u001b[0m Third line in foo.txt \u001b[33m(Bob)\u001b[0m\n",
        "\u001b[31m|\u001b[m\u001b[31m/\u001b[m  \n",
        "* \u001b[31m594e23d\t\u001b[32m (origin/master, origin/HEAD)\u001b[0m Third line to foo.txt \u001b[33m(Bob)\u001b[0m\n",
        "* \u001b[31maa51798\t\u001b[32m\u001b[0m Second line of foo.txt \u001b[33m(Alice)\u001b[0m\n",
        "* \u001b[31mcd4f3b8\t\u001b[32m\u001b[0m First line of foo.txt \u001b[33m(Alice)\u001b[0m\n"
       ]
      }
     ],
     "prompt_number": 152
    },
    {
     "cell_type": "markdown",
     "metadata": {},
     "source": [
      "We note that:\n",
      "    - Bob's master branch has 2 more commits than the central one.\n",
      "    - Bob master branch has 1 more commit that the central one."
     ]
    },
    {
     "cell_type": "markdown",
     "metadata": {},
     "source": [
      "The verbose option of **branch** is useful to see tracking branches:"
     ]
    },
    {
     "cell_type": "code",
     "collapsed": false,
     "input": [
      "%%bash\n",
      "git branch -avv"
     ],
     "language": "python",
     "metadata": {},
     "outputs": [
      {
       "output_type": "stream",
       "stream": "stdout",
       "text": [
        "* exp                   45795a1 [origin/exp: ahead 1] Third line in bar.txt\n",
        "  master                eb1ccb3 [origin/master: ahead 2] Fourth line in foo.txt\n",
        "  remotes/origin/HEAD   -> origin/master\n",
        "  remotes/origin/exp    3ec96a5 Second line in bar.txt\n",
        "  remotes/origin/master 594e23d Third line to foo.txt\n"
       ]
      }
     ],
     "prompt_number": 153
    },
    {
     "cell_type": "markdown",
     "metadata": {},
     "source": [
      "Bob pushes the commits of the two branches."
     ]
    },
    {
     "cell_type": "code",
     "collapsed": false,
     "input": [
      "%%bash\n",
      "git push origin exp:exp\n",
      "git push origin master:master"
     ],
     "language": "python",
     "metadata": {},
     "outputs": [
      {
       "output_type": "stream",
       "stream": "stderr",
       "text": [
        "To file:///nas/home3/f/froger/git-training/central.git\n",
        "   3ec96a5..45795a1  exp -> exp\n",
        "To file:///nas/home3/f/froger/git-training/central.git\n",
        "   594e23d..eb1ccb3  master -> master\n"
       ]
      }
     ],
     "prompt_number": 154
    },
    {
     "cell_type": "code",
     "collapsed": false,
     "input": [
      "%%bash\n",
      "\n",
      "git checkout master\n",
      "\n",
      "git push origin master:master\n",
      "git gr"
     ],
     "language": "python",
     "metadata": {},
     "outputs": [
      {
       "output_type": "stream",
       "stream": "stdout",
       "text": [
        "* \u001b[31m45795a1\t\u001b[32m (origin/exp, exp)\u001b[0m Third line in bar.txt \u001b[33m(Bob)\u001b[0m\n",
        "* \u001b[31m3ec96a5\t\u001b[32m\u001b[0m Second line in bar.txt \u001b[33m(Alice)\u001b[0m\n",
        "* \u001b[31m9c3fd57\t\u001b[32m\u001b[0m First line of bar.txt \u001b[33m(Alice)\u001b[0m\n",
        "\u001b[31m|\u001b[m * \u001b[31meb1ccb3\t\u001b[32m (HEAD, origin/master, origin/HEAD, master)\u001b[0m Fourth line in foo.txt \u001b[33m(Bob)\u001b[0m\n",
        "\u001b[31m|\u001b[m * \u001b[31m46257db\t\u001b[32m\u001b[0m Third line in foo.txt \u001b[33m(Bob)\u001b[0m\n",
        "\u001b[31m|\u001b[m\u001b[31m/\u001b[m  \n",
        "* \u001b[31m594e23d\t\u001b[32m\u001b[0m Third line to foo.txt \u001b[33m(Bob)\u001b[0m\n",
        "* \u001b[31maa51798\t\u001b[32m\u001b[0m Second line of foo.txt \u001b[33m(Alice)\u001b[0m\n",
        "* \u001b[31mcd4f3b8\t\u001b[32m\u001b[0m First line of foo.txt \u001b[33m(Alice)\u001b[0m\n"
       ]
      },
      {
       "output_type": "stream",
       "stream": "stderr",
       "text": [
        "Switched to branch 'master'\n",
        "Everything up-to-date\n"
       ]
      }
     ],
     "prompt_number": 155
    },
    {
     "cell_type": "markdown",
     "metadata": {},
     "source": [
      "Finally, the ``exp`` branch is merged into master. The merge commit is pushed to the central repository, and the exp branch is deleted:"
     ]
    },
    {
     "cell_type": "code",
     "collapsed": false,
     "input": [
      "%%bash\n",
      "\n",
      "# We already are in the master branch\n",
      "\n",
      "git merge exp\n",
      "git push origin master:master\n",
      "git branch -d exp\n",
      "git gr"
     ],
     "language": "python",
     "metadata": {},
     "outputs": [
      {
       "output_type": "stream",
       "stream": "stdout",
       "text": [
        "Merge made by the 'recursive' strategy.\n",
        " bar.txt |    3 +++\n",
        " 1 file changed, 3 insertions(+)\n",
        " create mode 100644 bar.txt\n",
        "Deleted branch exp (was 45795a1).\n",
        "*   \u001b[31m0f55553\t\u001b[32m (HEAD, origin/master, origin/HEAD, master)\u001b[0m Merge branch 'exp' \u001b[33m(Bob)\u001b[0m\n",
        "\u001b[31m|\u001b[m\u001b[32m\\\u001b[m  \n",
        "\u001b[31m|\u001b[m * \u001b[31m45795a1\t\u001b[32m (origin/exp)\u001b[0m Third line in bar.txt \u001b[33m(Bob)\u001b[0m\n",
        "\u001b[31m|\u001b[m * \u001b[31m3ec96a5\t\u001b[32m\u001b[0m Second line in bar.txt \u001b[33m(Alice)\u001b[0m\n",
        "\u001b[31m|\u001b[m * \u001b[31m9c3fd57\t\u001b[32m\u001b[0m First line of bar.txt \u001b[33m(Alice)\u001b[0m\n",
        "* \u001b[32m|\u001b[m \u001b[31meb1ccb3\t\u001b[32m\u001b[0m Fourth line in foo.txt \u001b[33m(Bob)\u001b[0m\n",
        "* \u001b[32m|\u001b[m \u001b[31m46257db\t\u001b[32m\u001b[0m Third line in foo.txt \u001b[33m(Bob)\u001b[0m\n",
        "\u001b[32m|\u001b[m\u001b[32m/\u001b[m  \n",
        "* \u001b[31m594e23d\t\u001b[32m\u001b[0m Third line to foo.txt \u001b[33m(Bob)\u001b[0m\n",
        "* \u001b[31maa51798\t\u001b[32m\u001b[0m Second line of foo.txt \u001b[33m(Alice)\u001b[0m\n",
        "* \u001b[31mcd4f3b8\t\u001b[32m\u001b[0m First line of foo.txt \u001b[33m(Alice)\u001b[0m\n"
       ]
      },
      {
       "output_type": "stream",
       "stream": "stderr",
       "text": [
        "To file:///nas/home3/f/froger/git-training/central.git\n",
        "   eb1ccb3..0f55553  master -> master\n"
       ]
      }
     ],
     "prompt_number": 156
    },
    {
     "cell_type": "heading",
     "level": 2,
     "metadata": {},
     "source": [
      "Distributed workflow\n",
      "    \n",
      "    "
     ]
    },
    {
     "cell_type": "markdown",
     "metadata": {},
     "source": [
      "Committing to a central repository is okay for small teams where developpers\n",
      "know and trust each other. For larger projects, though, it is blocking\n",
      "and dangerous to give write access to the project's main repository\n",
      "to an external contributor.\n",
      "\n",
      "Since Git is a distributed revision control system, clloning a\n",
      "repository means creating a copy of that repository that has exactly\n",
      "as much information. This opens the road to a workflow different rom the\n",
      "previous one, where each developer has a public repository from which\n",
      "everybody can read. When this developer wants to share code, he/she\n",
      "pushes the code to be shared to his/her public repository and informs\n",
      "the maintainers of the project that there is some code available that\n",
      "may beintegrated to the project. The maintainers review the code and, if\n",
      "they find it useful, integrate it to the project's main code base.\n",
      "\n",
      "This workflow is made possible by the way Git has been designed. The\n",
      "GitHub platform provides two mechanisms (fork and pull request) that\n",
      "help developers adopting this workflow, but the workflow itself relies\n",
      "only on Git features and does not require GitHub to be implemented.\n",
      "\n",
      "When a developper wants to contribute to a project, he/she forks the original\n",
      "bare repository. It means that the developper gets his own bare repository. In\n",
      "this repository, he develops a feature in a branch. When the work is done, he\n",
      "asks an administrator to pull the feature branch from his repository to the master\n",
      "branch of the project's main repository.\n",
      "\n",
      "In GitHub terminology, this is called a **pull request**.\n",
      "\n",
      "Let us see this in practice by adding **Emma** as a developper to our previous\n",
      "example."
     ]
    },
    {
     "cell_type": "code",
     "collapsed": false,
     "input": [
      "changedir('')"
     ],
     "language": "python",
     "metadata": {},
     "outputs": [
      {
       "output_type": "stream",
       "stream": "stdout",
       "text": [
        "We are in directory /home/ROCQ/sedrocq/froger/git-training\n"
       ]
      }
     ],
     "prompt_number": 157
    },
    {
     "cell_type": "markdown",
     "metadata": {},
     "source": [
      "Emma starts by forking the central repository to her own bare repository.\n",
      "\n",
      "Note: this is a functionnality provided out of the box by GitHub.\n",
      "\n",
      "Then Emma clones her bare public repository."
     ]
    },
    {
     "cell_type": "code",
     "collapsed": false,
     "input": [
      "%%bash\n",
      "\n",
      "git clone --bare central.git central-emma-fork.git\n",
      "\n",
      "git clone central-emma-fork.git emma"
     ],
     "language": "python",
     "metadata": {},
     "outputs": [
      {
       "output_type": "stream",
       "stream": "stdout",
       "text": [
        "Cloning into bare repository 'central-emma-fork.git'...\n",
        "done.\n",
        "Cloning into 'emma'...\n",
        "done.\n"
       ]
      }
     ],
     "prompt_number": 158
    },
    {
     "cell_type": "code",
     "collapsed": false,
     "input": [
      "changedir('emma')"
     ],
     "language": "python",
     "metadata": {},
     "outputs": [
      {
       "output_type": "stream",
       "stream": "stdout",
       "text": [
        "We are in directory /home/ROCQ/sedrocq/froger/git-training/emma\n"
       ]
      }
     ],
     "prompt_number": 159
    },
    {
     "cell_type": "code",
     "collapsed": false,
     "input": [
      "%%bash\n",
      "\n",
      "git config --local user.name \"Emma\"\n",
      "git config --local user.email emma@inria.fr"
     ],
     "language": "python",
     "metadata": {},
     "outputs": [],
     "prompt_number": 160
    },
    {
     "cell_type": "markdown",
     "metadata": {},
     "source": [
      "Emma creates a topic branch, works on it, and pushes it to her public repository:"
     ]
    },
    {
     "cell_type": "code",
     "collapsed": false,
     "input": [
      "%%bash\n",
      "\n",
      "git checkout -b baz\n",
      "\n",
      "echo \"First line\" > baz.txt\n",
      "git add baz.txt\n",
      "git commit -m 'First line in baz.txt'\n",
      "\n",
      "echo \"Second line\" >> baz.txt\n",
      "git add baz.txt\n",
      "git commit -m 'Second line in baz.txt'\n",
      "\n",
      "git push origin baz:baz"
     ],
     "language": "python",
     "metadata": {},
     "outputs": [
      {
       "output_type": "stream",
       "stream": "stdout",
       "text": [
        "[baz a01175f] First line in baz.txt\n",
        " 1 file changed, 1 insertion(+)\n",
        " create mode 100644 baz.txt\n",
        "[baz b3b2573] Second line in baz.txt\n",
        " 1 file changed, 1 insertion(+)\n"
       ]
      },
      {
       "output_type": "stream",
       "stream": "stderr",
       "text": [
        "Switched to a new branch 'baz'\n",
        "To /nas/home3/f/froger/git-training/central-emma-fork.git\n",
        " * [new branch]      baz -> baz\n"
       ]
      }
     ],
     "prompt_number": 161
    },
    {
     "cell_type": "code",
     "collapsed": false,
     "input": [
      "changedir('alice')"
     ],
     "language": "python",
     "metadata": {},
     "outputs": [
      {
       "output_type": "stream",
       "stream": "stdout",
       "text": [
        "We are in directory /home/ROCQ/sedrocq/froger/git-training/alice\n"
       ]
      }
     ],
     "prompt_number": 162
    },
    {
     "cell_type": "markdown",
     "metadata": {},
     "source": [
      "The next step for Emma is to ask Alice to get the **baz** branch from\n",
      "**central-emma-fork** pulled into the **master** branch of **central**.\n",
      "\n",
      "Note: GitHub provides functionnality to request a pull, and review the\n",
      "associated code.\n",
      "\n",
      "Alice fetches Emma's bare repository. To do this, she first adds Emma's bare\n",
      "repository to the list of her remote repositories."
     ]
    },
    {
     "cell_type": "code",
     "collapsed": false,
     "input": [
      "%%bash\n",
      "\n",
      "git remote add emma file://$HOME/git-training/central-emma-fork.git\n",
      "git fetch emma"
     ],
     "language": "python",
     "metadata": {},
     "outputs": [
      {
       "output_type": "stream",
       "stream": "stderr",
       "text": [
        "From file:///home/ROCQ/sedrocq/froger/git-training/central-emma-fork\n",
        " * [new branch]      baz        -> emma/baz\n",
        " * [new branch]      exp        -> emma/exp\n",
        " * [new branch]      master     -> emma/master\n"
       ]
      }
     ],
     "prompt_number": 163
    },
    {
     "cell_type": "markdown",
     "metadata": {},
     "source": [
      "At this point, Alice and Emmma can interact with each other to add more commits\n",
      "to the ``baz`` branch. When her work is done, Alice merges it to ``master``, and\n",
      "``pushes``."
     ]
    },
    {
     "cell_type": "code",
     "collapsed": false,
     "input": [
      "%%bash\n",
      "\n",
      "git checkout master\n",
      "git merge emma/baz\n",
      "git push origin master:master"
     ],
     "language": "python",
     "metadata": {},
     "outputs": [
      {
       "output_type": "stream",
       "stream": "stdout",
       "text": [
        "Updating 594e23d..b3b2573\n",
        "Fast-forward\n",
        " bar.txt |    3 +++\n",
        " baz.txt |    2 ++\n",
        " foo.txt |    2 ++\n",
        " 3 files changed, 7 insertions(+)\n",
        " create mode 100644 bar.txt\n",
        " create mode 100644 baz.txt\n"
       ]
      },
      {
       "output_type": "stream",
       "stream": "stderr",
       "text": [
        "Switched to branch 'master'\n",
        "To file:///nas/home3/f/froger/git-training/central.git\n",
        "   0f55553..b3b2573  master -> master\n"
       ]
      }
     ],
     "prompt_number": 164
    },
    {
     "cell_type": "heading",
     "level": 1,
     "metadata": {},
     "source": [
      "Exercice"
     ]
    },
    {
     "cell_type": "markdown",
     "metadata": {},
     "source": [
      "This exerice continues on the previous one, and re-use its Git repository. This will be the repository of the first developer.\n",
      "\n",
      "0- Create a bare repository for the first developer.\n",
      "\n",
      "1- Push existing commits to this repository.\n",
      "\n",
      "2- Set up a bare repository and a fork for a second developer.\n",
      "\n",
      "3- The second developer creates a feature branch, and pushes it to its bare repository.\n",
      "\n",
      "4- The first developer get the feature branch of the second developer, and pushes it to its bare repository."
     ]
    },
    {
     "cell_type": "heading",
     "level": 2,
     "metadata": {},
     "source": [
      "References"
     ]
    },
    {
     "cell_type": "markdown",
     "metadata": {},
     "source": [
      "> http://www.git-scm.com/docs\n",
      "\n",
      "> http://githowto.com\n",
      "\n",
      "> \"Version Control with Git, Powerful tools and techniques for collaborative\n",
      "software development\" By Jon Loeliger, Matthew McCullough\n",
      "\n",
      "> HitHug let's you learn Git through a nice game:\n",
      "  https://github.com/gazler/githug\n",
      "\n",
      "> Another game: https://github.com/jlord/git-it"
     ]
    }
   ],
   "metadata": {}
  }
 ]
}